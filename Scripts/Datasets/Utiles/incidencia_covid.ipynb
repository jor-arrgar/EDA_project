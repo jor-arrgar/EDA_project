{
 "cells": [
  {
   "cell_type": "code",
   "execution_count": 1,
   "id": "97cb1f77-eca7-45df-978f-0eb2ef9b7df1",
   "metadata": {},
   "outputs": [
    {
     "data": {
      "text/html": [
       "        <script type=\"text/javascript\">\n",
       "        window.PlotlyConfig = {MathJaxConfig: 'local'};\n",
       "        if (window.MathJax) {MathJax.Hub.Config({SVG: {font: \"STIX-Web\"}});}\n",
       "        if (typeof require !== 'undefined') {\n",
       "        require.undef(\"plotly\");\n",
       "        requirejs.config({\n",
       "            paths: {\n",
       "                'plotly': ['https://cdn.plot.ly/plotly-2.6.3.min']\n",
       "            }\n",
       "        });\n",
       "        require(['plotly'], function(Plotly) {\n",
       "            window._Plotly = Plotly;\n",
       "        });\n",
       "        }\n",
       "        </script>\n",
       "        "
      ]
     },
     "metadata": {},
     "output_type": "display_data"
    }
   ],
   "source": [
    "import pandas as pd\n",
    "from plotly.offline import init_notebook_mode, iplot, plot\n",
    "import plotly as py\n",
    "init_notebook_mode(connected=True)\n",
    "import plotly.graph_objects as go\n",
    "import os\n",
    "import matplotlib.pyplot as plt"
   ]
  },
  {
   "cell_type": "code",
   "execution_count": 2,
   "id": "fe221eba",
   "metadata": {},
   "outputs": [],
   "source": [
    "#Incidencia de covid\n",
    "covid_semanal_ccaa = pd.read_csv('./CNE_covid/covid_semanal_ccaa.csv' , sep= ';')"
   ]
  },
  {
   "cell_type": "code",
   "execution_count": 3,
   "id": "ebf2b0c5",
   "metadata": {},
   "outputs": [],
   "source": [
    "lista_ccaa = list(covid_semanal_ccaa.columns.values)\n",
    "lista_ccaa = lista_ccaa[1:]"
   ]
  },
  {
   "cell_type": "code",
   "execution_count": 4,
   "id": "9e108202",
   "metadata": {},
   "outputs": [],
   "source": [
    "casos_totales = []\n",
    "semanas = list(covid_semanal_ccaa['Semana'])\n",
    "for pos , semana in enumerate(semanas):\n",
    "    casos = 0\n",
    "    for ccaa in lista_ccaa:\n",
    "        casos += covid_semanal_ccaa.iloc[pos].loc[ccaa]\n",
    "    casos_totales.append(casos)\n"
   ]
  },
  {
   "cell_type": "code",
   "execution_count": 5,
   "id": "86c5d1d8",
   "metadata": {},
   "outputs": [],
   "source": [
    "incidencia = []\n",
    "\n",
    "for semana in casos_totales:\n",
    "    if len(incidencia) < 54:\n",
    "        valor = round((semana * 100000) / 47332614 , 3) #Poblacion 1 enero 2020\n",
    "    else:\n",
    "        valor = round((semana * 100000) / 47398695 , 3)  #Poblacion 1 enero 2021\n",
    "    incidencia.append(valor)"
   ]
  },
  {
   "cell_type": "code",
   "execution_count": 6,
   "id": "2ae643fc",
   "metadata": {},
   "outputs": [],
   "source": [
    "#Incidencia de gripe\n",
    "total_gripe = pd.read_csv('./Casos gripe/tasa_semanal_gripe_España.csv' , sep= ';')\n",
    "\n",
    "total_gripe_2015 = total_gripe[total_gripe['Año'] == 2015]\n",
    "total_gripe_2016 = total_gripe[total_gripe['Año'] == 2016]\n",
    "total_gripe_2017 = total_gripe[total_gripe['Año'] == 2017]\n",
    "total_gripe_2018 = total_gripe[total_gripe['Año'] == 2018]\n",
    "total_gripe_2019 = total_gripe[total_gripe['Año'] == 2019]\n",
    "total_gripe_2020 = total_gripe[total_gripe['Año'] == 2020]\n",
    "total_gripe_2021 = total_gripe[total_gripe['Año'] == 2021]"
   ]
  },
  {
   "cell_type": "code",
   "execution_count": 7,
   "id": "654f5ed5",
   "metadata": {},
   "outputs": [
    {
     "data": {
      "text/html": [
       "<div>\n",
       "<style scoped>\n",
       "    .dataframe tbody tr th:only-of-type {\n",
       "        vertical-align: middle;\n",
       "    }\n",
       "\n",
       "    .dataframe tbody tr th {\n",
       "        vertical-align: top;\n",
       "    }\n",
       "\n",
       "    .dataframe thead th {\n",
       "        text-align: right;\n",
       "    }\n",
       "</style>\n",
       "<table border=\"1\" class=\"dataframe\">\n",
       "  <thead>\n",
       "    <tr style=\"text-align: right;\">\n",
       "      <th></th>\n",
       "      <th>Año</th>\n",
       "      <th>Semana</th>\n",
       "      <th>Tasa gripe x 100.000 habitantes total</th>\n",
       "    </tr>\n",
       "  </thead>\n",
       "  <tbody>\n",
       "    <tr>\n",
       "      <th>0</th>\n",
       "      <td>2015</td>\n",
       "      <td>40</td>\n",
       "      <td>5.10</td>\n",
       "    </tr>\n",
       "    <tr>\n",
       "      <th>1</th>\n",
       "      <td>2015</td>\n",
       "      <td>41</td>\n",
       "      <td>7.56</td>\n",
       "    </tr>\n",
       "    <tr>\n",
       "      <th>2</th>\n",
       "      <td>2015</td>\n",
       "      <td>42</td>\n",
       "      <td>8.45</td>\n",
       "    </tr>\n",
       "    <tr>\n",
       "      <th>3</th>\n",
       "      <td>2015</td>\n",
       "      <td>43</td>\n",
       "      <td>11.69</td>\n",
       "    </tr>\n",
       "    <tr>\n",
       "      <th>4</th>\n",
       "      <td>2015</td>\n",
       "      <td>44</td>\n",
       "      <td>12.40</td>\n",
       "    </tr>\n",
       "  </tbody>\n",
       "</table>\n",
       "</div>"
      ],
      "text/plain": [
       "    Año  Semana  Tasa gripe x 100.000 habitantes total\n",
       "0  2015      40                                   5.10\n",
       "1  2015      41                                   7.56\n",
       "2  2015      42                                   8.45\n",
       "3  2015      43                                  11.69\n",
       "4  2015      44                                  12.40"
      ]
     },
     "execution_count": 7,
     "metadata": {},
     "output_type": "execute_result"
    }
   ],
   "source": [
    "total_gripe_2015.head()"
   ]
  },
  {
   "cell_type": "code",
   "execution_count": 8,
   "id": "5b0ed8a5",
   "metadata": {},
   "outputs": [
    {
     "data": {
      "application/vnd.plotly.v1+json": {
       "config": {
        "linkText": "Export to plot.ly",
        "plotlyServerURL": "https://plot.ly",
        "showLink": false
       },
       "data": [
        {
         "marker": {
          "color": "#000000"
         },
         "mode": "lines",
         "name": "Covid19",
         "type": "scatter",
         "x": [
          2,
          3,
          4,
          5,
          6,
          7,
          8,
          9,
          10,
          11,
          12,
          13,
          14,
          15,
          16,
          17,
          18,
          19,
          20,
          21,
          22,
          23,
          24,
          25,
          26,
          27,
          28,
          29,
          30,
          31,
          32,
          33,
          34,
          35,
          36,
          37,
          38,
          39,
          40,
          41,
          42,
          43,
          44,
          45,
          46,
          47,
          48,
          49,
          50,
          51,
          52,
          53,
          54,
          55,
          56,
          57,
          58,
          59,
          60,
          61,
          62,
          63,
          64,
          65,
          66,
          67,
          68,
          69,
          70,
          71,
          72,
          73,
          74,
          75,
          76,
          77,
          78,
          79,
          80,
          81,
          82,
          83,
          84,
          85,
          86,
          87,
          88,
          89,
          90,
          91,
          92,
          93,
          94,
          95,
          96,
          97,
          98,
          99,
          100,
          101,
          102,
          103,
          104
         ],
         "y": [
          0.006,
          0.015,
          0.019,
          0.076,
          0.131,
          0.327,
          0.663,
          3.807,
          19.942,
          87.734,
          127.498,
          93.103,
          64.735,
          45.865,
          29.046,
          16.555,
          10.272,
          5.18,
          7.629,
          7.118,
          6.642,
          5.28,
          4.424,
          4.481,
          5.28,
          7.021,
          13.145,
          25.148,
          33.77,
          47.775,
          66.692,
          91.176,
          115.719,
          132.072,
          144.638,
          157.101,
          163.2,
          150.501,
          141.75,
          173.502,
          217.294,
          298.777,
          302.094,
          271.954,
          215.819,
          154.445,
          114.393,
          103.375,
          120.359,
          145.274,
          157.052,
          232.406,
          396.644,
          506.036,
          501.885,
          377.002,
          235,
          139.683,
          97.507,
          77.331,
          70.308,
          69.097,
          75.563,
          92.711,
          102.418,
          124.113,
          123.402,
          119.195,
          104.587,
          84.45,
          71.027,
          67.607,
          63.837,
          58.554,
          49.269,
          51.715,
          75.844,
          190.317,
          307.025,
          390.53,
          389.422,
          313.713,
          234.981,
          174.222,
          135.154,
          95.475,
          62.588,
          44.06,
          35.499,
          29.395,
          24.083,
          22.84,
          24.657,
          26.45,
          29.353,
          40.699,
          63.694,
          96.558,
          133.073,
          191.497,
          274.628,
          514.51,
          1010.671
         ]
        },
        {
         "marker": {
          "color": "#f44336"
         },
         "name": "Gripe 2015",
         "type": "scatter",
         "x": [
          1,
          2,
          3,
          4,
          5,
          6,
          7,
          8,
          9,
          10,
          11,
          12,
          13,
          14,
          15,
          16,
          17,
          18,
          19,
          20,
          40,
          41,
          42,
          43,
          44,
          45,
          46,
          47,
          48,
          49,
          50,
          51,
          52
         ],
         "y": [
          26.82,
          45.54,
          80.19,
          139.34,
          154.82,
          178.19,
          177.34,
          210.26,
          179.12,
          189.27,
          197.27,
          112.61,
          61.25,
          42.96,
          31.68,
          23.95,
          16.05,
          11.89,
          7.22,
          5.76,
          5.57,
          8.54,
          11.68,
          10.34,
          11.29,
          18.36,
          24.84,
          31.76,
          38.01,
          32.75,
          63.62,
          91.31,
          138.17
         ]
        },
        {
         "marker": {
          "color": "#8fce00"
         },
         "name": "Gripe 2015",
         "type": "scatter",
         "x": [
          1,
          2,
          3,
          4,
          5,
          6,
          7,
          8,
          9,
          10,
          11,
          12,
          13,
          14,
          15,
          16,
          17,
          18,
          19,
          20,
          40,
          41,
          42,
          43,
          44,
          45,
          46,
          47,
          48,
          49,
          50,
          51,
          52
         ],
         "y": [
          174.48,
          220.52,
          222.43,
          195.03,
          135.64,
          89.99,
          53.14,
          33.63,
          19.31,
          14.35,
          10.06,
          9.04,
          5.79,
          5.92,
          2.34,
          3.43,
          5.13,
          2.25,
          2.18,
          1.81,
          4.32,
          4.13,
          6.58,
          8.26,
          8.46,
          17.03,
          18.47,
          25.03,
          32.87,
          31.11,
          70.74,
          120.98,
          208.25
         ]
        },
        {
         "marker": {
          "color": "#2986cc"
         },
         "name": "Gripe 2015",
         "type": "scatter",
         "x": [
          1,
          2,
          3,
          4,
          5,
          6,
          7,
          8,
          9,
          10,
          11,
          12,
          14,
          15,
          16,
          17,
          18,
          19,
          20,
          40,
          41,
          42,
          43,
          44,
          45,
          46,
          47,
          48,
          49,
          50,
          51,
          52
         ],
         "y": [
          212.84,
          248.4,
          290.4,
          244.26,
          190.12,
          150.74,
          128.05,
          109.08,
          81.55,
          57.48,
          41.34,
          29.57,
          13.6,
          8.4,
          3.93,
          2.78,
          3.04,
          2.93,
          2.12,
          6.5,
          5.29,
          7.86,
          10.53,
          9.75,
          15.95,
          16.43,
          16.12,
          15.49,
          20.43,
          29.78,
          43.56,
          35.82
         ]
        },
        {
         "marker": {
          "color": "#6a329f"
         },
         "name": "Gripe 2015",
         "type": "scatter",
         "x": [
          1,
          2,
          3,
          4,
          5,
          6,
          7,
          8,
          9,
          10,
          11,
          12,
          13,
          14,
          15,
          16,
          17,
          18,
          19,
          20,
          40,
          41,
          42,
          43,
          44,
          45,
          46,
          47,
          48,
          49,
          50,
          51,
          52
         ],
         "y": [
          47.58,
          109.35,
          205.3,
          241.3,
          246.9,
          206.2,
          158.1,
          110.5,
          74.5,
          41.7,
          27.7,
          21,
          8.4,
          9.6,
          6.9,
          1.5,
          2.5,
          2.6,
          2.2,
          1.4,
          5.1,
          6.8,
          7.2,
          8.3,
          10.6,
          12.2,
          14.96,
          21.8,
          18.5,
          20.7,
          29.7,
          37,
          37
         ]
        },
        {
         "marker": {
          "color": "#744700"
         },
         "name": "Gripe 2015",
         "type": "scatter",
         "x": [
          1,
          2,
          3,
          4,
          5,
          6,
          7,
          8,
          9,
          10,
          11,
          12,
          13,
          14,
          15,
          16,
          17,
          18,
          19,
          20,
          45,
          46,
          47,
          48,
          49,
          50,
          51,
          52,
          53
         ],
         "y": [
          54.6,
          105.9,
          203.1,
          255.6,
          271.4,
          223.3,
          163.1,
          97.8,
          78.9,
          68.6,
          45.5,
          6.7,
          1.5,
          0.7,
          1.1,
          1.3,
          0.35,
          0.45,
          0,
          0,
          0,
          0,
          0,
          0,
          0,
          0,
          0,
          0,
          0
         ]
        },
        {
         "marker": {
          "color": "#38761d"
         },
         "name": "Gripe 2015",
         "type": "scatter",
         "x": [
          1,
          2,
          3,
          4,
          5,
          6,
          7,
          8,
          9,
          10,
          11,
          12,
          13,
          14,
          15,
          16,
          17,
          18,
          19,
          20,
          45,
          46,
          47,
          48,
          49,
          50,
          51,
          52,
          53
         ],
         "y": [
          54.6,
          105.9,
          203.1,
          255.6,
          271.4,
          223.3,
          163.1,
          97.8,
          78.9,
          68.6,
          45.5,
          6.7,
          1.5,
          0.7,
          1.1,
          1.3,
          0.35,
          0.45,
          0,
          0,
          0,
          0,
          0,
          0,
          0,
          0,
          0,
          0,
          0
         ]
        }
       ],
       "layout": {
        "template": {
         "data": {
          "bar": [
           {
            "error_x": {
             "color": "#2a3f5f"
            },
            "error_y": {
             "color": "#2a3f5f"
            },
            "marker": {
             "line": {
              "color": "#E5ECF6",
              "width": 0.5
             },
             "pattern": {
              "fillmode": "overlay",
              "size": 10,
              "solidity": 0.2
             }
            },
            "type": "bar"
           }
          ],
          "barpolar": [
           {
            "marker": {
             "line": {
              "color": "#E5ECF6",
              "width": 0.5
             },
             "pattern": {
              "fillmode": "overlay",
              "size": 10,
              "solidity": 0.2
             }
            },
            "type": "barpolar"
           }
          ],
          "carpet": [
           {
            "aaxis": {
             "endlinecolor": "#2a3f5f",
             "gridcolor": "white",
             "linecolor": "white",
             "minorgridcolor": "white",
             "startlinecolor": "#2a3f5f"
            },
            "baxis": {
             "endlinecolor": "#2a3f5f",
             "gridcolor": "white",
             "linecolor": "white",
             "minorgridcolor": "white",
             "startlinecolor": "#2a3f5f"
            },
            "type": "carpet"
           }
          ],
          "choropleth": [
           {
            "colorbar": {
             "outlinewidth": 0,
             "ticks": ""
            },
            "type": "choropleth"
           }
          ],
          "contour": [
           {
            "colorbar": {
             "outlinewidth": 0,
             "ticks": ""
            },
            "colorscale": [
             [
              0,
              "#0d0887"
             ],
             [
              0.1111111111111111,
              "#46039f"
             ],
             [
              0.2222222222222222,
              "#7201a8"
             ],
             [
              0.3333333333333333,
              "#9c179e"
             ],
             [
              0.4444444444444444,
              "#bd3786"
             ],
             [
              0.5555555555555556,
              "#d8576b"
             ],
             [
              0.6666666666666666,
              "#ed7953"
             ],
             [
              0.7777777777777778,
              "#fb9f3a"
             ],
             [
              0.8888888888888888,
              "#fdca26"
             ],
             [
              1,
              "#f0f921"
             ]
            ],
            "type": "contour"
           }
          ],
          "contourcarpet": [
           {
            "colorbar": {
             "outlinewidth": 0,
             "ticks": ""
            },
            "type": "contourcarpet"
           }
          ],
          "heatmap": [
           {
            "colorbar": {
             "outlinewidth": 0,
             "ticks": ""
            },
            "colorscale": [
             [
              0,
              "#0d0887"
             ],
             [
              0.1111111111111111,
              "#46039f"
             ],
             [
              0.2222222222222222,
              "#7201a8"
             ],
             [
              0.3333333333333333,
              "#9c179e"
             ],
             [
              0.4444444444444444,
              "#bd3786"
             ],
             [
              0.5555555555555556,
              "#d8576b"
             ],
             [
              0.6666666666666666,
              "#ed7953"
             ],
             [
              0.7777777777777778,
              "#fb9f3a"
             ],
             [
              0.8888888888888888,
              "#fdca26"
             ],
             [
              1,
              "#f0f921"
             ]
            ],
            "type": "heatmap"
           }
          ],
          "heatmapgl": [
           {
            "colorbar": {
             "outlinewidth": 0,
             "ticks": ""
            },
            "colorscale": [
             [
              0,
              "#0d0887"
             ],
             [
              0.1111111111111111,
              "#46039f"
             ],
             [
              0.2222222222222222,
              "#7201a8"
             ],
             [
              0.3333333333333333,
              "#9c179e"
             ],
             [
              0.4444444444444444,
              "#bd3786"
             ],
             [
              0.5555555555555556,
              "#d8576b"
             ],
             [
              0.6666666666666666,
              "#ed7953"
             ],
             [
              0.7777777777777778,
              "#fb9f3a"
             ],
             [
              0.8888888888888888,
              "#fdca26"
             ],
             [
              1,
              "#f0f921"
             ]
            ],
            "type": "heatmapgl"
           }
          ],
          "histogram": [
           {
            "marker": {
             "pattern": {
              "fillmode": "overlay",
              "size": 10,
              "solidity": 0.2
             }
            },
            "type": "histogram"
           }
          ],
          "histogram2d": [
           {
            "colorbar": {
             "outlinewidth": 0,
             "ticks": ""
            },
            "colorscale": [
             [
              0,
              "#0d0887"
             ],
             [
              0.1111111111111111,
              "#46039f"
             ],
             [
              0.2222222222222222,
              "#7201a8"
             ],
             [
              0.3333333333333333,
              "#9c179e"
             ],
             [
              0.4444444444444444,
              "#bd3786"
             ],
             [
              0.5555555555555556,
              "#d8576b"
             ],
             [
              0.6666666666666666,
              "#ed7953"
             ],
             [
              0.7777777777777778,
              "#fb9f3a"
             ],
             [
              0.8888888888888888,
              "#fdca26"
             ],
             [
              1,
              "#f0f921"
             ]
            ],
            "type": "histogram2d"
           }
          ],
          "histogram2dcontour": [
           {
            "colorbar": {
             "outlinewidth": 0,
             "ticks": ""
            },
            "colorscale": [
             [
              0,
              "#0d0887"
             ],
             [
              0.1111111111111111,
              "#46039f"
             ],
             [
              0.2222222222222222,
              "#7201a8"
             ],
             [
              0.3333333333333333,
              "#9c179e"
             ],
             [
              0.4444444444444444,
              "#bd3786"
             ],
             [
              0.5555555555555556,
              "#d8576b"
             ],
             [
              0.6666666666666666,
              "#ed7953"
             ],
             [
              0.7777777777777778,
              "#fb9f3a"
             ],
             [
              0.8888888888888888,
              "#fdca26"
             ],
             [
              1,
              "#f0f921"
             ]
            ],
            "type": "histogram2dcontour"
           }
          ],
          "mesh3d": [
           {
            "colorbar": {
             "outlinewidth": 0,
             "ticks": ""
            },
            "type": "mesh3d"
           }
          ],
          "parcoords": [
           {
            "line": {
             "colorbar": {
              "outlinewidth": 0,
              "ticks": ""
             }
            },
            "type": "parcoords"
           }
          ],
          "pie": [
           {
            "automargin": true,
            "type": "pie"
           }
          ],
          "scatter": [
           {
            "marker": {
             "colorbar": {
              "outlinewidth": 0,
              "ticks": ""
             }
            },
            "type": "scatter"
           }
          ],
          "scatter3d": [
           {
            "line": {
             "colorbar": {
              "outlinewidth": 0,
              "ticks": ""
             }
            },
            "marker": {
             "colorbar": {
              "outlinewidth": 0,
              "ticks": ""
             }
            },
            "type": "scatter3d"
           }
          ],
          "scattercarpet": [
           {
            "marker": {
             "colorbar": {
              "outlinewidth": 0,
              "ticks": ""
             }
            },
            "type": "scattercarpet"
           }
          ],
          "scattergeo": [
           {
            "marker": {
             "colorbar": {
              "outlinewidth": 0,
              "ticks": ""
             }
            },
            "type": "scattergeo"
           }
          ],
          "scattergl": [
           {
            "marker": {
             "colorbar": {
              "outlinewidth": 0,
              "ticks": ""
             }
            },
            "type": "scattergl"
           }
          ],
          "scattermapbox": [
           {
            "marker": {
             "colorbar": {
              "outlinewidth": 0,
              "ticks": ""
             }
            },
            "type": "scattermapbox"
           }
          ],
          "scatterpolar": [
           {
            "marker": {
             "colorbar": {
              "outlinewidth": 0,
              "ticks": ""
             }
            },
            "type": "scatterpolar"
           }
          ],
          "scatterpolargl": [
           {
            "marker": {
             "colorbar": {
              "outlinewidth": 0,
              "ticks": ""
             }
            },
            "type": "scatterpolargl"
           }
          ],
          "scatterternary": [
           {
            "marker": {
             "colorbar": {
              "outlinewidth": 0,
              "ticks": ""
             }
            },
            "type": "scatterternary"
           }
          ],
          "surface": [
           {
            "colorbar": {
             "outlinewidth": 0,
             "ticks": ""
            },
            "colorscale": [
             [
              0,
              "#0d0887"
             ],
             [
              0.1111111111111111,
              "#46039f"
             ],
             [
              0.2222222222222222,
              "#7201a8"
             ],
             [
              0.3333333333333333,
              "#9c179e"
             ],
             [
              0.4444444444444444,
              "#bd3786"
             ],
             [
              0.5555555555555556,
              "#d8576b"
             ],
             [
              0.6666666666666666,
              "#ed7953"
             ],
             [
              0.7777777777777778,
              "#fb9f3a"
             ],
             [
              0.8888888888888888,
              "#fdca26"
             ],
             [
              1,
              "#f0f921"
             ]
            ],
            "type": "surface"
           }
          ],
          "table": [
           {
            "cells": {
             "fill": {
              "color": "#EBF0F8"
             },
             "line": {
              "color": "white"
             }
            },
            "header": {
             "fill": {
              "color": "#C8D4E3"
             },
             "line": {
              "color": "white"
             }
            },
            "type": "table"
           }
          ]
         },
         "layout": {
          "annotationdefaults": {
           "arrowcolor": "#2a3f5f",
           "arrowhead": 0,
           "arrowwidth": 1
          },
          "autotypenumbers": "strict",
          "coloraxis": {
           "colorbar": {
            "outlinewidth": 0,
            "ticks": ""
           }
          },
          "colorscale": {
           "diverging": [
            [
             0,
             "#8e0152"
            ],
            [
             0.1,
             "#c51b7d"
            ],
            [
             0.2,
             "#de77ae"
            ],
            [
             0.3,
             "#f1b6da"
            ],
            [
             0.4,
             "#fde0ef"
            ],
            [
             0.5,
             "#f7f7f7"
            ],
            [
             0.6,
             "#e6f5d0"
            ],
            [
             0.7,
             "#b8e186"
            ],
            [
             0.8,
             "#7fbc41"
            ],
            [
             0.9,
             "#4d9221"
            ],
            [
             1,
             "#276419"
            ]
           ],
           "sequential": [
            [
             0,
             "#0d0887"
            ],
            [
             0.1111111111111111,
             "#46039f"
            ],
            [
             0.2222222222222222,
             "#7201a8"
            ],
            [
             0.3333333333333333,
             "#9c179e"
            ],
            [
             0.4444444444444444,
             "#bd3786"
            ],
            [
             0.5555555555555556,
             "#d8576b"
            ],
            [
             0.6666666666666666,
             "#ed7953"
            ],
            [
             0.7777777777777778,
             "#fb9f3a"
            ],
            [
             0.8888888888888888,
             "#fdca26"
            ],
            [
             1,
             "#f0f921"
            ]
           ],
           "sequentialminus": [
            [
             0,
             "#0d0887"
            ],
            [
             0.1111111111111111,
             "#46039f"
            ],
            [
             0.2222222222222222,
             "#7201a8"
            ],
            [
             0.3333333333333333,
             "#9c179e"
            ],
            [
             0.4444444444444444,
             "#bd3786"
            ],
            [
             0.5555555555555556,
             "#d8576b"
            ],
            [
             0.6666666666666666,
             "#ed7953"
            ],
            [
             0.7777777777777778,
             "#fb9f3a"
            ],
            [
             0.8888888888888888,
             "#fdca26"
            ],
            [
             1,
             "#f0f921"
            ]
           ]
          },
          "colorway": [
           "#636efa",
           "#EF553B",
           "#00cc96",
           "#ab63fa",
           "#FFA15A",
           "#19d3f3",
           "#FF6692",
           "#B6E880",
           "#FF97FF",
           "#FECB52"
          ],
          "font": {
           "color": "#2a3f5f"
          },
          "geo": {
           "bgcolor": "white",
           "lakecolor": "white",
           "landcolor": "#E5ECF6",
           "showlakes": true,
           "showland": true,
           "subunitcolor": "white"
          },
          "hoverlabel": {
           "align": "left"
          },
          "hovermode": "closest",
          "mapbox": {
           "style": "light"
          },
          "paper_bgcolor": "white",
          "plot_bgcolor": "#E5ECF6",
          "polar": {
           "angularaxis": {
            "gridcolor": "white",
            "linecolor": "white",
            "ticks": ""
           },
           "bgcolor": "#E5ECF6",
           "radialaxis": {
            "gridcolor": "white",
            "linecolor": "white",
            "ticks": ""
           }
          },
          "scene": {
           "xaxis": {
            "backgroundcolor": "#E5ECF6",
            "gridcolor": "white",
            "gridwidth": 2,
            "linecolor": "white",
            "showbackground": true,
            "ticks": "",
            "zerolinecolor": "white"
           },
           "yaxis": {
            "backgroundcolor": "#E5ECF6",
            "gridcolor": "white",
            "gridwidth": 2,
            "linecolor": "white",
            "showbackground": true,
            "ticks": "",
            "zerolinecolor": "white"
           },
           "zaxis": {
            "backgroundcolor": "#E5ECF6",
            "gridcolor": "white",
            "gridwidth": 2,
            "linecolor": "white",
            "showbackground": true,
            "ticks": "",
            "zerolinecolor": "white"
           }
          },
          "shapedefaults": {
           "line": {
            "color": "#2a3f5f"
           }
          },
          "ternary": {
           "aaxis": {
            "gridcolor": "white",
            "linecolor": "white",
            "ticks": ""
           },
           "baxis": {
            "gridcolor": "white",
            "linecolor": "white",
            "ticks": ""
           },
           "bgcolor": "#E5ECF6",
           "caxis": {
            "gridcolor": "white",
            "linecolor": "white",
            "ticks": ""
           }
          },
          "title": {
           "x": 0.05
          },
          "xaxis": {
           "automargin": true,
           "gridcolor": "white",
           "linecolor": "white",
           "ticks": "",
           "title": {
            "standoff": 15
           },
           "zerolinecolor": "white",
           "zerolinewidth": 2
          },
          "yaxis": {
           "automargin": true,
           "gridcolor": "white",
           "linecolor": "white",
           "ticks": "",
           "title": {
            "standoff": 15
           },
           "zerolinecolor": "white",
           "zerolinewidth": 2
          }
         }
        },
        "title": {
         "text": "Covid19 vs Influenza. Incidencia por 100.000 habitantes"
        },
        "xaxis": {
         "title": {
          "text": "Semana"
         }
        },
        "yaxis": {
         "title": {
          "text": "Casos por 100.000 habitantes"
         }
        }
       }
      },
      "text/html": [
       "<div>                            <div id=\"71e9b4d6-b403-4aa0-9186-1637083f274c\" class=\"plotly-graph-div\" style=\"height:525px; width:100%;\"></div>            <script type=\"text/javascript\">                require([\"plotly\"], function(Plotly) {                    window.PLOTLYENV=window.PLOTLYENV || {};                                    if (document.getElementById(\"71e9b4d6-b403-4aa0-9186-1637083f274c\")) {                    Plotly.newPlot(                        \"71e9b4d6-b403-4aa0-9186-1637083f274c\",                        [{\"marker\":{\"color\":\"#000000\"},\"mode\":\"lines\",\"name\":\"Covid19\",\"x\":[2,3,4,5,6,7,8,9,10,11,12,13,14,15,16,17,18,19,20,21,22,23,24,25,26,27,28,29,30,31,32,33,34,35,36,37,38,39,40,41,42,43,44,45,46,47,48,49,50,51,52,53,54,55,56,57,58,59,60,61,62,63,64,65,66,67,68,69,70,71,72,73,74,75,76,77,78,79,80,81,82,83,84,85,86,87,88,89,90,91,92,93,94,95,96,97,98,99,100,101,102,103,104],\"y\":[0.006,0.015,0.019,0.076,0.131,0.327,0.663,3.807,19.942,87.734,127.498,93.103,64.735,45.865,29.046,16.555,10.272,5.18,7.629,7.118,6.642,5.28,4.424,4.481,5.28,7.021,13.145,25.148,33.77,47.775,66.692,91.176,115.719,132.072,144.638,157.101,163.2,150.501,141.75,173.502,217.294,298.777,302.094,271.954,215.819,154.445,114.393,103.375,120.359,145.274,157.052,232.406,396.644,506.036,501.885,377.002,235.0,139.683,97.507,77.331,70.308,69.097,75.563,92.711,102.418,124.113,123.402,119.195,104.587,84.45,71.027,67.607,63.837,58.554,49.269,51.715,75.844,190.317,307.025,390.53,389.422,313.713,234.981,174.222,135.154,95.475,62.588,44.06,35.499,29.395,24.083,22.84,24.657,26.45,29.353,40.699,63.694,96.558,133.073,191.497,274.628,514.51,1010.671],\"type\":\"scatter\"},{\"marker\":{\"color\":\"#f44336\"},\"name\":\"Gripe 2015\",\"x\":[1,2,3,4,5,6,7,8,9,10,11,12,13,14,15,16,17,18,19,20,40,41,42,43,44,45,46,47,48,49,50,51,52],\"y\":[26.82,45.54,80.19,139.34,154.82,178.19,177.34,210.26,179.12,189.27,197.27,112.61,61.25,42.96,31.68,23.95,16.05,11.89,7.22,5.76,5.57,8.54,11.68,10.34,11.29,18.36,24.84,31.76,38.01,32.75,63.62,91.31,138.17],\"type\":\"scatter\"},{\"marker\":{\"color\":\"#8fce00\"},\"name\":\"Gripe 2015\",\"x\":[1,2,3,4,5,6,7,8,9,10,11,12,13,14,15,16,17,18,19,20,40,41,42,43,44,45,46,47,48,49,50,51,52],\"y\":[174.48,220.52,222.43,195.03,135.64,89.99,53.14,33.63,19.31,14.35,10.06,9.04,5.79,5.92,2.34,3.43,5.13,2.25,2.18,1.81,4.32,4.13,6.58,8.26,8.46,17.03,18.47,25.03,32.87,31.11,70.74,120.98,208.25],\"type\":\"scatter\"},{\"marker\":{\"color\":\"#2986cc\"},\"name\":\"Gripe 2015\",\"x\":[1,2,3,4,5,6,7,8,9,10,11,12,14,15,16,17,18,19,20,40,41,42,43,44,45,46,47,48,49,50,51,52],\"y\":[212.84,248.4,290.4,244.26,190.12,150.74,128.05,109.08,81.55,57.48,41.34,29.57,13.6,8.4,3.93,2.78,3.04,2.93,2.12,6.5,5.29,7.86,10.53,9.75,15.95,16.43,16.12,15.49,20.43,29.78,43.56,35.82],\"type\":\"scatter\"},{\"marker\":{\"color\":\"#6a329f\"},\"name\":\"Gripe 2015\",\"x\":[1,2,3,4,5,6,7,8,9,10,11,12,13,14,15,16,17,18,19,20,40,41,42,43,44,45,46,47,48,49,50,51,52],\"y\":[47.58,109.35,205.3,241.3,246.9,206.2,158.1,110.5,74.5,41.7,27.7,21.0,8.4,9.6,6.9,1.5,2.5,2.6,2.2,1.4,5.1,6.8,7.2,8.3,10.6,12.2,14.96,21.8,18.5,20.7,29.7,37.0,37.0],\"type\":\"scatter\"},{\"marker\":{\"color\":\"#744700\"},\"name\":\"Gripe 2015\",\"x\":[1,2,3,4,5,6,7,8,9,10,11,12,13,14,15,16,17,18,19,20,45,46,47,48,49,50,51,52,53],\"y\":[54.6,105.9,203.1,255.6,271.4,223.3,163.1,97.8,78.9,68.6,45.5,6.7,1.5,0.7,1.1,1.3,0.35,0.45,0.0,0.0,0.0,0.0,0.0,0.0,0.0,0.0,0.0,0.0,0.0],\"type\":\"scatter\"},{\"marker\":{\"color\":\"#38761d\"},\"name\":\"Gripe 2015\",\"x\":[1,2,3,4,5,6,7,8,9,10,11,12,13,14,15,16,17,18,19,20,45,46,47,48,49,50,51,52,53],\"y\":[54.6,105.9,203.1,255.6,271.4,223.3,163.1,97.8,78.9,68.6,45.5,6.7,1.5,0.7,1.1,1.3,0.35,0.45,0.0,0.0,0.0,0.0,0.0,0.0,0.0,0.0,0.0,0.0,0.0],\"type\":\"scatter\"}],                        {\"template\":{\"data\":{\"barpolar\":[{\"marker\":{\"line\":{\"color\":\"#E5ECF6\",\"width\":0.5},\"pattern\":{\"fillmode\":\"overlay\",\"size\":10,\"solidity\":0.2}},\"type\":\"barpolar\"}],\"bar\":[{\"error_x\":{\"color\":\"#2a3f5f\"},\"error_y\":{\"color\":\"#2a3f5f\"},\"marker\":{\"line\":{\"color\":\"#E5ECF6\",\"width\":0.5},\"pattern\":{\"fillmode\":\"overlay\",\"size\":10,\"solidity\":0.2}},\"type\":\"bar\"}],\"carpet\":[{\"aaxis\":{\"endlinecolor\":\"#2a3f5f\",\"gridcolor\":\"white\",\"linecolor\":\"white\",\"minorgridcolor\":\"white\",\"startlinecolor\":\"#2a3f5f\"},\"baxis\":{\"endlinecolor\":\"#2a3f5f\",\"gridcolor\":\"white\",\"linecolor\":\"white\",\"minorgridcolor\":\"white\",\"startlinecolor\":\"#2a3f5f\"},\"type\":\"carpet\"}],\"choropleth\":[{\"colorbar\":{\"outlinewidth\":0,\"ticks\":\"\"},\"type\":\"choropleth\"}],\"contourcarpet\":[{\"colorbar\":{\"outlinewidth\":0,\"ticks\":\"\"},\"type\":\"contourcarpet\"}],\"contour\":[{\"colorbar\":{\"outlinewidth\":0,\"ticks\":\"\"},\"colorscale\":[[0.0,\"#0d0887\"],[0.1111111111111111,\"#46039f\"],[0.2222222222222222,\"#7201a8\"],[0.3333333333333333,\"#9c179e\"],[0.4444444444444444,\"#bd3786\"],[0.5555555555555556,\"#d8576b\"],[0.6666666666666666,\"#ed7953\"],[0.7777777777777778,\"#fb9f3a\"],[0.8888888888888888,\"#fdca26\"],[1.0,\"#f0f921\"]],\"type\":\"contour\"}],\"heatmapgl\":[{\"colorbar\":{\"outlinewidth\":0,\"ticks\":\"\"},\"colorscale\":[[0.0,\"#0d0887\"],[0.1111111111111111,\"#46039f\"],[0.2222222222222222,\"#7201a8\"],[0.3333333333333333,\"#9c179e\"],[0.4444444444444444,\"#bd3786\"],[0.5555555555555556,\"#d8576b\"],[0.6666666666666666,\"#ed7953\"],[0.7777777777777778,\"#fb9f3a\"],[0.8888888888888888,\"#fdca26\"],[1.0,\"#f0f921\"]],\"type\":\"heatmapgl\"}],\"heatmap\":[{\"colorbar\":{\"outlinewidth\":0,\"ticks\":\"\"},\"colorscale\":[[0.0,\"#0d0887\"],[0.1111111111111111,\"#46039f\"],[0.2222222222222222,\"#7201a8\"],[0.3333333333333333,\"#9c179e\"],[0.4444444444444444,\"#bd3786\"],[0.5555555555555556,\"#d8576b\"],[0.6666666666666666,\"#ed7953\"],[0.7777777777777778,\"#fb9f3a\"],[0.8888888888888888,\"#fdca26\"],[1.0,\"#f0f921\"]],\"type\":\"heatmap\"}],\"histogram2dcontour\":[{\"colorbar\":{\"outlinewidth\":0,\"ticks\":\"\"},\"colorscale\":[[0.0,\"#0d0887\"],[0.1111111111111111,\"#46039f\"],[0.2222222222222222,\"#7201a8\"],[0.3333333333333333,\"#9c179e\"],[0.4444444444444444,\"#bd3786\"],[0.5555555555555556,\"#d8576b\"],[0.6666666666666666,\"#ed7953\"],[0.7777777777777778,\"#fb9f3a\"],[0.8888888888888888,\"#fdca26\"],[1.0,\"#f0f921\"]],\"type\":\"histogram2dcontour\"}],\"histogram2d\":[{\"colorbar\":{\"outlinewidth\":0,\"ticks\":\"\"},\"colorscale\":[[0.0,\"#0d0887\"],[0.1111111111111111,\"#46039f\"],[0.2222222222222222,\"#7201a8\"],[0.3333333333333333,\"#9c179e\"],[0.4444444444444444,\"#bd3786\"],[0.5555555555555556,\"#d8576b\"],[0.6666666666666666,\"#ed7953\"],[0.7777777777777778,\"#fb9f3a\"],[0.8888888888888888,\"#fdca26\"],[1.0,\"#f0f921\"]],\"type\":\"histogram2d\"}],\"histogram\":[{\"marker\":{\"pattern\":{\"fillmode\":\"overlay\",\"size\":10,\"solidity\":0.2}},\"type\":\"histogram\"}],\"mesh3d\":[{\"colorbar\":{\"outlinewidth\":0,\"ticks\":\"\"},\"type\":\"mesh3d\"}],\"parcoords\":[{\"line\":{\"colorbar\":{\"outlinewidth\":0,\"ticks\":\"\"}},\"type\":\"parcoords\"}],\"pie\":[{\"automargin\":true,\"type\":\"pie\"}],\"scatter3d\":[{\"line\":{\"colorbar\":{\"outlinewidth\":0,\"ticks\":\"\"}},\"marker\":{\"colorbar\":{\"outlinewidth\":0,\"ticks\":\"\"}},\"type\":\"scatter3d\"}],\"scattercarpet\":[{\"marker\":{\"colorbar\":{\"outlinewidth\":0,\"ticks\":\"\"}},\"type\":\"scattercarpet\"}],\"scattergeo\":[{\"marker\":{\"colorbar\":{\"outlinewidth\":0,\"ticks\":\"\"}},\"type\":\"scattergeo\"}],\"scattergl\":[{\"marker\":{\"colorbar\":{\"outlinewidth\":0,\"ticks\":\"\"}},\"type\":\"scattergl\"}],\"scattermapbox\":[{\"marker\":{\"colorbar\":{\"outlinewidth\":0,\"ticks\":\"\"}},\"type\":\"scattermapbox\"}],\"scatterpolargl\":[{\"marker\":{\"colorbar\":{\"outlinewidth\":0,\"ticks\":\"\"}},\"type\":\"scatterpolargl\"}],\"scatterpolar\":[{\"marker\":{\"colorbar\":{\"outlinewidth\":0,\"ticks\":\"\"}},\"type\":\"scatterpolar\"}],\"scatter\":[{\"marker\":{\"colorbar\":{\"outlinewidth\":0,\"ticks\":\"\"}},\"type\":\"scatter\"}],\"scatterternary\":[{\"marker\":{\"colorbar\":{\"outlinewidth\":0,\"ticks\":\"\"}},\"type\":\"scatterternary\"}],\"surface\":[{\"colorbar\":{\"outlinewidth\":0,\"ticks\":\"\"},\"colorscale\":[[0.0,\"#0d0887\"],[0.1111111111111111,\"#46039f\"],[0.2222222222222222,\"#7201a8\"],[0.3333333333333333,\"#9c179e\"],[0.4444444444444444,\"#bd3786\"],[0.5555555555555556,\"#d8576b\"],[0.6666666666666666,\"#ed7953\"],[0.7777777777777778,\"#fb9f3a\"],[0.8888888888888888,\"#fdca26\"],[1.0,\"#f0f921\"]],\"type\":\"surface\"}],\"table\":[{\"cells\":{\"fill\":{\"color\":\"#EBF0F8\"},\"line\":{\"color\":\"white\"}},\"header\":{\"fill\":{\"color\":\"#C8D4E3\"},\"line\":{\"color\":\"white\"}},\"type\":\"table\"}]},\"layout\":{\"annotationdefaults\":{\"arrowcolor\":\"#2a3f5f\",\"arrowhead\":0,\"arrowwidth\":1},\"autotypenumbers\":\"strict\",\"coloraxis\":{\"colorbar\":{\"outlinewidth\":0,\"ticks\":\"\"}},\"colorscale\":{\"diverging\":[[0,\"#8e0152\"],[0.1,\"#c51b7d\"],[0.2,\"#de77ae\"],[0.3,\"#f1b6da\"],[0.4,\"#fde0ef\"],[0.5,\"#f7f7f7\"],[0.6,\"#e6f5d0\"],[0.7,\"#b8e186\"],[0.8,\"#7fbc41\"],[0.9,\"#4d9221\"],[1,\"#276419\"]],\"sequential\":[[0.0,\"#0d0887\"],[0.1111111111111111,\"#46039f\"],[0.2222222222222222,\"#7201a8\"],[0.3333333333333333,\"#9c179e\"],[0.4444444444444444,\"#bd3786\"],[0.5555555555555556,\"#d8576b\"],[0.6666666666666666,\"#ed7953\"],[0.7777777777777778,\"#fb9f3a\"],[0.8888888888888888,\"#fdca26\"],[1.0,\"#f0f921\"]],\"sequentialminus\":[[0.0,\"#0d0887\"],[0.1111111111111111,\"#46039f\"],[0.2222222222222222,\"#7201a8\"],[0.3333333333333333,\"#9c179e\"],[0.4444444444444444,\"#bd3786\"],[0.5555555555555556,\"#d8576b\"],[0.6666666666666666,\"#ed7953\"],[0.7777777777777778,\"#fb9f3a\"],[0.8888888888888888,\"#fdca26\"],[1.0,\"#f0f921\"]]},\"colorway\":[\"#636efa\",\"#EF553B\",\"#00cc96\",\"#ab63fa\",\"#FFA15A\",\"#19d3f3\",\"#FF6692\",\"#B6E880\",\"#FF97FF\",\"#FECB52\"],\"font\":{\"color\":\"#2a3f5f\"},\"geo\":{\"bgcolor\":\"white\",\"lakecolor\":\"white\",\"landcolor\":\"#E5ECF6\",\"showlakes\":true,\"showland\":true,\"subunitcolor\":\"white\"},\"hoverlabel\":{\"align\":\"left\"},\"hovermode\":\"closest\",\"mapbox\":{\"style\":\"light\"},\"paper_bgcolor\":\"white\",\"plot_bgcolor\":\"#E5ECF6\",\"polar\":{\"angularaxis\":{\"gridcolor\":\"white\",\"linecolor\":\"white\",\"ticks\":\"\"},\"bgcolor\":\"#E5ECF6\",\"radialaxis\":{\"gridcolor\":\"white\",\"linecolor\":\"white\",\"ticks\":\"\"}},\"scene\":{\"xaxis\":{\"backgroundcolor\":\"#E5ECF6\",\"gridcolor\":\"white\",\"gridwidth\":2,\"linecolor\":\"white\",\"showbackground\":true,\"ticks\":\"\",\"zerolinecolor\":\"white\"},\"yaxis\":{\"backgroundcolor\":\"#E5ECF6\",\"gridcolor\":\"white\",\"gridwidth\":2,\"linecolor\":\"white\",\"showbackground\":true,\"ticks\":\"\",\"zerolinecolor\":\"white\"},\"zaxis\":{\"backgroundcolor\":\"#E5ECF6\",\"gridcolor\":\"white\",\"gridwidth\":2,\"linecolor\":\"white\",\"showbackground\":true,\"ticks\":\"\",\"zerolinecolor\":\"white\"}},\"shapedefaults\":{\"line\":{\"color\":\"#2a3f5f\"}},\"ternary\":{\"aaxis\":{\"gridcolor\":\"white\",\"linecolor\":\"white\",\"ticks\":\"\"},\"baxis\":{\"gridcolor\":\"white\",\"linecolor\":\"white\",\"ticks\":\"\"},\"bgcolor\":\"#E5ECF6\",\"caxis\":{\"gridcolor\":\"white\",\"linecolor\":\"white\",\"ticks\":\"\"}},\"title\":{\"x\":0.05},\"xaxis\":{\"automargin\":true,\"gridcolor\":\"white\",\"linecolor\":\"white\",\"ticks\":\"\",\"title\":{\"standoff\":15},\"zerolinecolor\":\"white\",\"zerolinewidth\":2},\"yaxis\":{\"automargin\":true,\"gridcolor\":\"white\",\"linecolor\":\"white\",\"ticks\":\"\",\"title\":{\"standoff\":15},\"zerolinecolor\":\"white\",\"zerolinewidth\":2}}},\"title\":{\"text\":\"Covid19 vs Influenza. Incidencia por 100.000 habitantes\"},\"xaxis\":{\"title\":{\"text\":\"Semana\"}},\"yaxis\":{\"title\":{\"text\":\"Casos por 100.000 habitantes\"}}},                        {\"responsive\": true}                    ).then(function(){\n",
       "                            \n",
       "var gd = document.getElementById('71e9b4d6-b403-4aa0-9186-1637083f274c');\n",
       "var x = new MutationObserver(function (mutations, observer) {{\n",
       "        var display = window.getComputedStyle(gd).display;\n",
       "        if (!display || display === 'none') {{\n",
       "            console.log([gd, 'removed!']);\n",
       "            Plotly.purge(gd);\n",
       "            observer.disconnect();\n",
       "        }}\n",
       "}});\n",
       "\n",
       "// Listen for the removal of the full notebook cells\n",
       "var notebookContainer = gd.closest('#notebook-container');\n",
       "if (notebookContainer) {{\n",
       "    x.observe(notebookContainer, {childList: true});\n",
       "}}\n",
       "\n",
       "// Listen for the clearing of the current output cell\n",
       "var outputEl = gd.closest('.output');\n",
       "if (outputEl) {{\n",
       "    x.observe(outputEl, {childList: true});\n",
       "}}\n",
       "\n",
       "                        })                };                });            </script>        </div>"
      ]
     },
     "metadata": {},
     "output_type": "display_data"
    }
   ],
   "source": [
    "#Grafica\n",
    "covid = go.Scatter(x= semanas , y= incidencia , name= 'Covid19' , mode= 'lines' , marker= dict(color='#000000'))\n",
    "\n",
    "\n",
    "gripe_16 = go.Scatter(x= total_gripe_2016['Semana'] , y= total_gripe_2016['Tasa gripe x 100.000 habitantes total'] , name= 'Gripe 2015' , marker= dict(color= '#f44336'))\n",
    "gripe_17 = go.Scatter(x= total_gripe_2017['Semana'] , y= total_gripe_2017['Tasa gripe x 100.000 habitantes total'] , name= 'Gripe 2015' , marker= dict(color= '#8fce00'))\n",
    "gripe_18 = go.Scatter(x= total_gripe_2018['Semana'] , y= total_gripe_2018['Tasa gripe x 100.000 habitantes total'] , name= 'Gripe 2015' , marker= dict(color= '#2986cc'))\n",
    "gripe_19 = go.Scatter(x= total_gripe_2019['Semana'] , y= total_gripe_2019['Tasa gripe x 100.000 habitantes total'] , name= 'Gripe 2015' , marker= dict(color= '#6a329f'))\n",
    "gripe_20 = go.Scatter(x= total_gripe_2020['Semana'] , y= total_gripe_2020['Tasa gripe x 100.000 habitantes total'] , name= 'Gripe 2015' , marker= dict(color= '#744700'))\n",
    "gripe_21 = go.Scatter(x= total_gripe_2020['Semana'] , y= total_gripe_2020['Tasa gripe x 100.000 habitantes total'] , name= 'Gripe 2015' , marker= dict(color= '#38761d'))\n",
    "\n",
    "data= [covid , gripe_16 , gripe_17 , gripe_18 , gripe_19 , gripe_20 , gripe_21]\n",
    "layout = dict(title= 'Covid19 vs Influenza. Incidencia por 100.000 habitantes' , xaxis= dict(title= 'Semana') , yaxis= dict(title= 'Casos por 100.000 habitantes'))\n",
    "\n",
    "covid_vs_influenza = go.Figure(data= data , layout= layout)\n",
    "iplot(covid_vs_influenza)"
   ]
  },
  {
   "cell_type": "markdown",
   "id": "6d413f6f",
   "metadata": {},
   "source": [
    "### Incidencia por CCAA"
   ]
  },
  {
   "cell_type": "code",
   "execution_count": 9,
   "id": "3d768e28",
   "metadata": {},
   "outputs": [
    {
     "data": {
      "text/html": [
       "<div>\n",
       "<style scoped>\n",
       "    .dataframe tbody tr th:only-of-type {\n",
       "        vertical-align: middle;\n",
       "    }\n",
       "\n",
       "    .dataframe tbody tr th {\n",
       "        vertical-align: top;\n",
       "    }\n",
       "\n",
       "    .dataframe thead th {\n",
       "        text-align: right;\n",
       "    }\n",
       "</style>\n",
       "<table border=\"1\" class=\"dataframe\">\n",
       "  <thead>\n",
       "    <tr style=\"text-align: right;\">\n",
       "      <th></th>\n",
       "      <th>Semana</th>\n",
       "      <th>Andalucia</th>\n",
       "      <th>Aragón</th>\n",
       "      <th>Asturias</th>\n",
       "      <th>Baleares</th>\n",
       "      <th>Canarias</th>\n",
       "      <th>Cantabria</th>\n",
       "      <th>Cataluña</th>\n",
       "      <th>Castilla-La mancha</th>\n",
       "      <th>Castilla y León</th>\n",
       "      <th>Ceuta</th>\n",
       "      <th>Com. Valenciana</th>\n",
       "      <th>Extremadura</th>\n",
       "      <th>Galicia</th>\n",
       "      <th>La Rioja</th>\n",
       "      <th>Madrid</th>\n",
       "      <th>Melilla</th>\n",
       "      <th>Murcia</th>\n",
       "      <th>Navarra</th>\n",
       "      <th>Pais Vasco</th>\n",
       "    </tr>\n",
       "  </thead>\n",
       "  <tbody>\n",
       "    <tr>\n",
       "      <th>0</th>\n",
       "      <td>2</td>\n",
       "      <td>0</td>\n",
       "      <td>0</td>\n",
       "      <td>0</td>\n",
       "      <td>0</td>\n",
       "      <td>0</td>\n",
       "      <td>0</td>\n",
       "      <td>0</td>\n",
       "      <td>0</td>\n",
       "      <td>0</td>\n",
       "      <td>0</td>\n",
       "      <td>0</td>\n",
       "      <td>0</td>\n",
       "      <td>0</td>\n",
       "      <td>0</td>\n",
       "      <td>3</td>\n",
       "      <td>0</td>\n",
       "      <td>0</td>\n",
       "      <td>0</td>\n",
       "      <td>0</td>\n",
       "    </tr>\n",
       "    <tr>\n",
       "      <th>1</th>\n",
       "      <td>3</td>\n",
       "      <td>0</td>\n",
       "      <td>0</td>\n",
       "      <td>0</td>\n",
       "      <td>0</td>\n",
       "      <td>0</td>\n",
       "      <td>0</td>\n",
       "      <td>0</td>\n",
       "      <td>0</td>\n",
       "      <td>0</td>\n",
       "      <td>0</td>\n",
       "      <td>0</td>\n",
       "      <td>0</td>\n",
       "      <td>0</td>\n",
       "      <td>0</td>\n",
       "      <td>7</td>\n",
       "      <td>0</td>\n",
       "      <td>0</td>\n",
       "      <td>0</td>\n",
       "      <td>0</td>\n",
       "    </tr>\n",
       "    <tr>\n",
       "      <th>2</th>\n",
       "      <td>4</td>\n",
       "      <td>0</td>\n",
       "      <td>0</td>\n",
       "      <td>0</td>\n",
       "      <td>0</td>\n",
       "      <td>0</td>\n",
       "      <td>0</td>\n",
       "      <td>1</td>\n",
       "      <td>0</td>\n",
       "      <td>0</td>\n",
       "      <td>0</td>\n",
       "      <td>0</td>\n",
       "      <td>0</td>\n",
       "      <td>0</td>\n",
       "      <td>0</td>\n",
       "      <td>8</td>\n",
       "      <td>0</td>\n",
       "      <td>0</td>\n",
       "      <td>0</td>\n",
       "      <td>0</td>\n",
       "    </tr>\n",
       "    <tr>\n",
       "      <th>3</th>\n",
       "      <td>5</td>\n",
       "      <td>1</td>\n",
       "      <td>0</td>\n",
       "      <td>0</td>\n",
       "      <td>1</td>\n",
       "      <td>1</td>\n",
       "      <td>0</td>\n",
       "      <td>9</td>\n",
       "      <td>0</td>\n",
       "      <td>0</td>\n",
       "      <td>0</td>\n",
       "      <td>1</td>\n",
       "      <td>0</td>\n",
       "      <td>1</td>\n",
       "      <td>0</td>\n",
       "      <td>22</td>\n",
       "      <td>0</td>\n",
       "      <td>0</td>\n",
       "      <td>0</td>\n",
       "      <td>0</td>\n",
       "    </tr>\n",
       "    <tr>\n",
       "      <th>4</th>\n",
       "      <td>6</td>\n",
       "      <td>5</td>\n",
       "      <td>0</td>\n",
       "      <td>0</td>\n",
       "      <td>0</td>\n",
       "      <td>1</td>\n",
       "      <td>0</td>\n",
       "      <td>11</td>\n",
       "      <td>0</td>\n",
       "      <td>3</td>\n",
       "      <td>0</td>\n",
       "      <td>3</td>\n",
       "      <td>1</td>\n",
       "      <td>1</td>\n",
       "      <td>0</td>\n",
       "      <td>37</td>\n",
       "      <td>0</td>\n",
       "      <td>0</td>\n",
       "      <td>0</td>\n",
       "      <td>0</td>\n",
       "    </tr>\n",
       "  </tbody>\n",
       "</table>\n",
       "</div>"
      ],
      "text/plain": [
       "   Semana  Andalucia  Aragón  Asturias  Baleares  Canarias  Cantabria  \\\n",
       "0       2          0       0         0         0         0          0   \n",
       "1       3          0       0         0         0         0          0   \n",
       "2       4          0       0         0         0         0          0   \n",
       "3       5          1       0         0         1         1          0   \n",
       "4       6          5       0         0         0         1          0   \n",
       "\n",
       "   Cataluña  Castilla-La mancha  Castilla y León  Ceuta  Com. Valenciana  \\\n",
       "0         0                   0                0      0                0   \n",
       "1         0                   0                0      0                0   \n",
       "2         1                   0                0      0                0   \n",
       "3         9                   0                0      0                1   \n",
       "4        11                   0                3      0                3   \n",
       "\n",
       "   Extremadura  Galicia  La Rioja  Madrid  Melilla  Murcia  Navarra  \\\n",
       "0            0        0         0       3        0       0        0   \n",
       "1            0        0         0       7        0       0        0   \n",
       "2            0        0         0       8        0       0        0   \n",
       "3            0        1         0      22        0       0        0   \n",
       "4            1        1         0      37        0       0        0   \n",
       "\n",
       "   Pais Vasco  \n",
       "0           0  \n",
       "1           0  \n",
       "2           0  \n",
       "3           0  \n",
       "4           0  "
      ]
     },
     "execution_count": 9,
     "metadata": {},
     "output_type": "execute_result"
    }
   ],
   "source": [
    "covid_casos_ccaa = pd.read_csv('./CNE_covid/covid_semanal_ccaa.csv' , sep= ';')\n",
    "covid_semanal_ccaa.head()"
   ]
  },
  {
   "cell_type": "code",
   "execution_count": 10,
   "id": "9f5d90c6",
   "metadata": {},
   "outputs": [],
   "source": [
    "lista_ccaa = list(covid_casos_ccaa.columns.values)\n",
    "lista_ccaa = lista_ccaa[1:]"
   ]
  },
  {
   "cell_type": "code",
   "execution_count": 11,
   "id": "1a89f60e",
   "metadata": {},
   "outputs": [
    {
     "data": {
      "text/html": [
       "<div>\n",
       "<style scoped>\n",
       "    .dataframe tbody tr th:only-of-type {\n",
       "        vertical-align: middle;\n",
       "    }\n",
       "\n",
       "    .dataframe tbody tr th {\n",
       "        vertical-align: top;\n",
       "    }\n",
       "\n",
       "    .dataframe thead th {\n",
       "        text-align: right;\n",
       "    }\n",
       "</style>\n",
       "<table border=\"1\" class=\"dataframe\">\n",
       "  <thead>\n",
       "    <tr style=\"text-align: right;\">\n",
       "      <th></th>\n",
       "      <th>Comunidades y Ciudades Autónomas</th>\n",
       "      <th>Tamaño de los municipios</th>\n",
       "      <th>Periodo</th>\n",
       "      <th>Total</th>\n",
       "    </tr>\n",
       "  </thead>\n",
       "  <tbody>\n",
       "    <tr>\n",
       "      <th>0</th>\n",
       "      <td>Total</td>\n",
       "      <td>Total</td>\n",
       "      <td>2021</td>\n",
       "      <td>47.385.107</td>\n",
       "    </tr>\n",
       "    <tr>\n",
       "      <th>1</th>\n",
       "      <td>Total</td>\n",
       "      <td>Total</td>\n",
       "      <td>2020</td>\n",
       "      <td>47.450.795</td>\n",
       "    </tr>\n",
       "    <tr>\n",
       "      <th>2</th>\n",
       "      <td>Total</td>\n",
       "      <td>Total</td>\n",
       "      <td>2019</td>\n",
       "      <td>47.026.208</td>\n",
       "    </tr>\n",
       "    <tr>\n",
       "      <th>3</th>\n",
       "      <td>Total</td>\n",
       "      <td>Total</td>\n",
       "      <td>2018</td>\n",
       "      <td>46.722.980</td>\n",
       "    </tr>\n",
       "    <tr>\n",
       "      <th>4</th>\n",
       "      <td>Total</td>\n",
       "      <td>Total</td>\n",
       "      <td>2017</td>\n",
       "      <td>46.572.132</td>\n",
       "    </tr>\n",
       "  </tbody>\n",
       "</table>\n",
       "</div>"
      ],
      "text/plain": [
       "  Comunidades y Ciudades Autónomas Tamaño de los municipios  Periodo  \\\n",
       "0                            Total                    Total     2021   \n",
       "1                            Total                    Total     2020   \n",
       "2                            Total                    Total     2019   \n",
       "3                            Total                    Total     2018   \n",
       "4                            Total                    Total     2017   \n",
       "\n",
       "        Total  \n",
       "0  47.385.107  \n",
       "1  47.450.795  \n",
       "2  47.026.208  \n",
       "3  46.722.980  \n",
       "4  46.572.132  "
      ]
     },
     "execution_count": 11,
     "metadata": {},
     "output_type": "execute_result"
    }
   ],
   "source": [
    "poblacion_ccaa = pd.read_csv('./poblacion_ccaa.csv' , sep= ';')\n",
    "poblacion_ccaa.head()"
   ]
  },
  {
   "cell_type": "code",
   "execution_count": 12,
   "id": "1107aca6",
   "metadata": {},
   "outputs": [],
   "source": [
    "poblacion_2020 = poblacion_ccaa[poblacion_ccaa['Periodo'] == 2020]\n",
    "poblacion_2021 = poblacion_ccaa[poblacion_ccaa['Periodo'] == 2021]"
   ]
  },
  {
   "cell_type": "code",
   "execution_count": 13,
   "id": "7bf61a45",
   "metadata": {},
   "outputs": [
    {
     "data": {
      "text/html": [
       "<div>\n",
       "<style scoped>\n",
       "    .dataframe tbody tr th:only-of-type {\n",
       "        vertical-align: middle;\n",
       "    }\n",
       "\n",
       "    .dataframe tbody tr th {\n",
       "        vertical-align: top;\n",
       "    }\n",
       "\n",
       "    .dataframe thead th {\n",
       "        text-align: right;\n",
       "    }\n",
       "</style>\n",
       "<table border=\"1\" class=\"dataframe\">\n",
       "  <thead>\n",
       "    <tr style=\"text-align: right;\">\n",
       "      <th></th>\n",
       "      <th>Comunidades y Ciudades Autónomas</th>\n",
       "      <th>Tamaño de los municipios</th>\n",
       "      <th>Periodo</th>\n",
       "      <th>Total</th>\n",
       "    </tr>\n",
       "  </thead>\n",
       "  <tbody>\n",
       "    <tr>\n",
       "      <th>1</th>\n",
       "      <td>Total</td>\n",
       "      <td>Total</td>\n",
       "      <td>2020</td>\n",
       "      <td>47.450.795</td>\n",
       "    </tr>\n",
       "    <tr>\n",
       "      <th>27</th>\n",
       "      <td>Total</td>\n",
       "      <td>Menos de 101</td>\n",
       "      <td>2020</td>\n",
       "      <td>79.850</td>\n",
       "    </tr>\n",
       "    <tr>\n",
       "      <th>53</th>\n",
       "      <td>Total</td>\n",
       "      <td>De 101 a 500</td>\n",
       "      <td>2020</td>\n",
       "      <td>650.018</td>\n",
       "    </tr>\n",
       "    <tr>\n",
       "      <th>79</th>\n",
       "      <td>Total</td>\n",
       "      <td>De 501 a 1.000</td>\n",
       "      <td>2020</td>\n",
       "      <td>718.689</td>\n",
       "    </tr>\n",
       "    <tr>\n",
       "      <th>105</th>\n",
       "      <td>Total</td>\n",
       "      <td>De 1.001 a 2.000</td>\n",
       "      <td>2020</td>\n",
       "      <td>1.227.235</td>\n",
       "    </tr>\n",
       "    <tr>\n",
       "      <th>131</th>\n",
       "      <td>Total</td>\n",
       "      <td>De 2.001 a 5.000</td>\n",
       "      <td>2020</td>\n",
       "      <td>3.014.825</td>\n",
       "    </tr>\n",
       "    <tr>\n",
       "      <th>157</th>\n",
       "      <td>Total</td>\n",
       "      <td>De 5.001 a 10.000</td>\n",
       "      <td>2020</td>\n",
       "      <td>3.844.677</td>\n",
       "    </tr>\n",
       "    <tr>\n",
       "      <th>183</th>\n",
       "      <td>Total</td>\n",
       "      <td>De 10.001 a 20.000</td>\n",
       "      <td>2020</td>\n",
       "      <td>4.827.217</td>\n",
       "    </tr>\n",
       "    <tr>\n",
       "      <th>209</th>\n",
       "      <td>Total</td>\n",
       "      <td>De 20.001 a 50.000</td>\n",
       "      <td>2020</td>\n",
       "      <td>7.858.627</td>\n",
       "    </tr>\n",
       "    <tr>\n",
       "      <th>235</th>\n",
       "      <td>Total</td>\n",
       "      <td>De 50.001 a 100.000</td>\n",
       "      <td>2020</td>\n",
       "      <td>6.189.980</td>\n",
       "    </tr>\n",
       "    <tr>\n",
       "      <th>261</th>\n",
       "      <td>Total</td>\n",
       "      <td>De 100.001 a 500.000</td>\n",
       "      <td>2020</td>\n",
       "      <td>11.288.818</td>\n",
       "    </tr>\n",
       "    <tr>\n",
       "      <th>287</th>\n",
       "      <td>Total</td>\n",
       "      <td>Más de 500.000</td>\n",
       "      <td>2020</td>\n",
       "      <td>7.750.859</td>\n",
       "    </tr>\n",
       "    <tr>\n",
       "      <th>313</th>\n",
       "      <td>01 Andalucía</td>\n",
       "      <td>Total</td>\n",
       "      <td>2020</td>\n",
       "      <td>8.464.411</td>\n",
       "    </tr>\n",
       "    <tr>\n",
       "      <th>339</th>\n",
       "      <td>01 Andalucía</td>\n",
       "      <td>Menos de 101</td>\n",
       "      <td>2020</td>\n",
       "      <td>109</td>\n",
       "    </tr>\n",
       "    <tr>\n",
       "      <th>365</th>\n",
       "      <td>01 Andalucía</td>\n",
       "      <td>De 101 a 500</td>\n",
       "      <td>2020</td>\n",
       "      <td>34.085</td>\n",
       "    </tr>\n",
       "  </tbody>\n",
       "</table>\n",
       "</div>"
      ],
      "text/plain": [
       "    Comunidades y Ciudades Autónomas Tamaño de los municipios  Periodo  \\\n",
       "1                              Total                    Total     2020   \n",
       "27                             Total            Menos de 101      2020   \n",
       "53                             Total            De 101 a 500      2020   \n",
       "79                             Total           De 501 a 1.000     2020   \n",
       "105                            Total        De 1.001 a 2.000      2020   \n",
       "131                            Total        De 2.001 a 5.000      2020   \n",
       "157                            Total       De 5.001 a 10.000      2020   \n",
       "183                            Total      De 10.001 a 20.000      2020   \n",
       "209                            Total      De 20.001 a 50.000      2020   \n",
       "235                            Total     De 50.001 a 100.000      2020   \n",
       "261                            Total    De 100.001 a 500.000      2020   \n",
       "287                            Total          Más de 500.000      2020   \n",
       "313                     01 Andalucía                    Total     2020   \n",
       "339                     01 Andalucía            Menos de 101      2020   \n",
       "365                     01 Andalucía            De 101 a 500      2020   \n",
       "\n",
       "          Total  \n",
       "1    47.450.795  \n",
       "27       79.850  \n",
       "53      650.018  \n",
       "79      718.689  \n",
       "105   1.227.235  \n",
       "131   3.014.825  \n",
       "157   3.844.677  \n",
       "183   4.827.217  \n",
       "209   7.858.627  \n",
       "235   6.189.980  \n",
       "261  11.288.818  \n",
       "287   7.750.859  \n",
       "313   8.464.411  \n",
       "339         109  \n",
       "365      34.085  "
      ]
     },
     "execution_count": 13,
     "metadata": {},
     "output_type": "execute_result"
    }
   ],
   "source": [
    "poblacion_2020.head(15)"
   ]
  },
  {
   "cell_type": "code",
   "execution_count": 14,
   "id": "54ae6fd4",
   "metadata": {},
   "outputs": [
    {
     "data": {
      "text/html": [
       "<div>\n",
       "<style scoped>\n",
       "    .dataframe tbody tr th:only-of-type {\n",
       "        vertical-align: middle;\n",
       "    }\n",
       "\n",
       "    .dataframe tbody tr th {\n",
       "        vertical-align: top;\n",
       "    }\n",
       "\n",
       "    .dataframe thead th {\n",
       "        text-align: right;\n",
       "    }\n",
       "</style>\n",
       "<table border=\"1\" class=\"dataframe\">\n",
       "  <thead>\n",
       "    <tr style=\"text-align: right;\">\n",
       "      <th></th>\n",
       "      <th>Comunidades y Ciudades Autónomas</th>\n",
       "      <th>Tamaño de los municipios</th>\n",
       "      <th>Periodo</th>\n",
       "      <th>Total</th>\n",
       "    </tr>\n",
       "  </thead>\n",
       "  <tbody>\n",
       "    <tr>\n",
       "      <th>0</th>\n",
       "      <td>Total</td>\n",
       "      <td>Total</td>\n",
       "      <td>2021</td>\n",
       "      <td>47.385.107</td>\n",
       "    </tr>\n",
       "    <tr>\n",
       "      <th>26</th>\n",
       "      <td>Total</td>\n",
       "      <td>Menos de 101</td>\n",
       "      <td>2021</td>\n",
       "      <td>78.172</td>\n",
       "    </tr>\n",
       "    <tr>\n",
       "      <th>52</th>\n",
       "      <td>Total</td>\n",
       "      <td>De 101 a 500</td>\n",
       "      <td>2021</td>\n",
       "      <td>651.192</td>\n",
       "    </tr>\n",
       "    <tr>\n",
       "      <th>78</th>\n",
       "      <td>Total</td>\n",
       "      <td>De 501 a 1.000</td>\n",
       "      <td>2021</td>\n",
       "      <td>721.010</td>\n",
       "    </tr>\n",
       "    <tr>\n",
       "      <th>104</th>\n",
       "      <td>Total</td>\n",
       "      <td>De 1.001 a 2.000</td>\n",
       "      <td>2021</td>\n",
       "      <td>1.240.089</td>\n",
       "    </tr>\n",
       "  </tbody>\n",
       "</table>\n",
       "</div>"
      ],
      "text/plain": [
       "    Comunidades y Ciudades Autónomas Tamaño de los municipios  Periodo  \\\n",
       "0                              Total                    Total     2021   \n",
       "26                             Total            Menos de 101      2021   \n",
       "52                             Total            De 101 a 500      2021   \n",
       "78                             Total           De 501 a 1.000     2021   \n",
       "104                            Total        De 1.001 a 2.000      2021   \n",
       "\n",
       "          Total  \n",
       "0    47.385.107  \n",
       "26       78.172  \n",
       "52      651.192  \n",
       "78      721.010  \n",
       "104   1.240.089  "
      ]
     },
     "execution_count": 14,
     "metadata": {},
     "output_type": "execute_result"
    }
   ],
   "source": [
    "poblacion_2021.head()"
   ]
  },
  {
   "cell_type": "markdown",
   "id": "eb88eaf0",
   "metadata": {},
   "source": [
    "##### Datos del territorio completo (sin discriminar entre tamaño de municipio)"
   ]
  },
  {
   "cell_type": "code",
   "execution_count": 15,
   "id": "f7cbe80d",
   "metadata": {},
   "outputs": [
    {
     "data": {
      "text/html": [
       "<div>\n",
       "<style scoped>\n",
       "    .dataframe tbody tr th:only-of-type {\n",
       "        vertical-align: middle;\n",
       "    }\n",
       "\n",
       "    .dataframe tbody tr th {\n",
       "        vertical-align: top;\n",
       "    }\n",
       "\n",
       "    .dataframe thead th {\n",
       "        text-align: right;\n",
       "    }\n",
       "</style>\n",
       "<table border=\"1\" class=\"dataframe\">\n",
       "  <thead>\n",
       "    <tr style=\"text-align: right;\">\n",
       "      <th></th>\n",
       "      <th>Comunidades y Ciudades Autónomas</th>\n",
       "      <th>Tamaño de los municipios</th>\n",
       "      <th>Periodo</th>\n",
       "      <th>Total</th>\n",
       "    </tr>\n",
       "  </thead>\n",
       "  <tbody>\n",
       "    <tr>\n",
       "      <th>1</th>\n",
       "      <td>Total</td>\n",
       "      <td>Total</td>\n",
       "      <td>2020</td>\n",
       "      <td>47.450.795</td>\n",
       "    </tr>\n",
       "    <tr>\n",
       "      <th>313</th>\n",
       "      <td>01 Andalucía</td>\n",
       "      <td>Total</td>\n",
       "      <td>2020</td>\n",
       "      <td>8.464.411</td>\n",
       "    </tr>\n",
       "    <tr>\n",
       "      <th>625</th>\n",
       "      <td>02 Aragón</td>\n",
       "      <td>Total</td>\n",
       "      <td>2020</td>\n",
       "      <td>1.329.391</td>\n",
       "    </tr>\n",
       "    <tr>\n",
       "      <th>937</th>\n",
       "      <td>03 Asturias, Principado de</td>\n",
       "      <td>Total</td>\n",
       "      <td>2020</td>\n",
       "      <td>1.018.784</td>\n",
       "    </tr>\n",
       "    <tr>\n",
       "      <th>1249</th>\n",
       "      <td>04 Balears, Illes</td>\n",
       "      <td>Total</td>\n",
       "      <td>2020</td>\n",
       "      <td>1.171.543</td>\n",
       "    </tr>\n",
       "  </tbody>\n",
       "</table>\n",
       "</div>"
      ],
      "text/plain": [
       "     Comunidades y Ciudades Autónomas Tamaño de los municipios  Periodo  \\\n",
       "1                               Total                    Total     2020   \n",
       "313                      01 Andalucía                    Total     2020   \n",
       "625                         02 Aragón                    Total     2020   \n",
       "937        03 Asturias, Principado de                    Total     2020   \n",
       "1249                04 Balears, Illes                    Total     2020   \n",
       "\n",
       "           Total  \n",
       "1     47.450.795  \n",
       "313    8.464.411  \n",
       "625    1.329.391  \n",
       "937    1.018.784  \n",
       "1249   1.171.543  "
      ]
     },
     "execution_count": 15,
     "metadata": {},
     "output_type": "execute_result"
    }
   ],
   "source": [
    "poblacion_2020 = poblacion_2020[poblacion_2020['Tamaño de los municipios'] == 'Total']\n",
    "poblacion_2020.head()"
   ]
  },
  {
   "cell_type": "code",
   "execution_count": 16,
   "id": "29b770f9",
   "metadata": {},
   "outputs": [
    {
     "data": {
      "text/html": [
       "<div>\n",
       "<style scoped>\n",
       "    .dataframe tbody tr th:only-of-type {\n",
       "        vertical-align: middle;\n",
       "    }\n",
       "\n",
       "    .dataframe tbody tr th {\n",
       "        vertical-align: top;\n",
       "    }\n",
       "\n",
       "    .dataframe thead th {\n",
       "        text-align: right;\n",
       "    }\n",
       "</style>\n",
       "<table border=\"1\" class=\"dataframe\">\n",
       "  <thead>\n",
       "    <tr style=\"text-align: right;\">\n",
       "      <th></th>\n",
       "      <th>Comunidades y Ciudades Autónomas</th>\n",
       "      <th>Tamaño de los municipios</th>\n",
       "      <th>Periodo</th>\n",
       "      <th>Total</th>\n",
       "    </tr>\n",
       "  </thead>\n",
       "  <tbody>\n",
       "    <tr>\n",
       "      <th>0</th>\n",
       "      <td>Total</td>\n",
       "      <td>Total</td>\n",
       "      <td>2021</td>\n",
       "      <td>47.385.107</td>\n",
       "    </tr>\n",
       "    <tr>\n",
       "      <th>312</th>\n",
       "      <td>01 Andalucía</td>\n",
       "      <td>Total</td>\n",
       "      <td>2021</td>\n",
       "      <td>8.472.407</td>\n",
       "    </tr>\n",
       "    <tr>\n",
       "      <th>624</th>\n",
       "      <td>02 Aragón</td>\n",
       "      <td>Total</td>\n",
       "      <td>2021</td>\n",
       "      <td>1.326.261</td>\n",
       "    </tr>\n",
       "    <tr>\n",
       "      <th>936</th>\n",
       "      <td>03 Asturias, Principado de</td>\n",
       "      <td>Total</td>\n",
       "      <td>2021</td>\n",
       "      <td>1.011.792</td>\n",
       "    </tr>\n",
       "    <tr>\n",
       "      <th>1248</th>\n",
       "      <td>04 Balears, Illes</td>\n",
       "      <td>Total</td>\n",
       "      <td>2021</td>\n",
       "      <td>1.173.008</td>\n",
       "    </tr>\n",
       "  </tbody>\n",
       "</table>\n",
       "</div>"
      ],
      "text/plain": [
       "     Comunidades y Ciudades Autónomas Tamaño de los municipios  Periodo  \\\n",
       "0                               Total                    Total     2021   \n",
       "312                      01 Andalucía                    Total     2021   \n",
       "624                         02 Aragón                    Total     2021   \n",
       "936        03 Asturias, Principado de                    Total     2021   \n",
       "1248                04 Balears, Illes                    Total     2021   \n",
       "\n",
       "           Total  \n",
       "0     47.385.107  \n",
       "312    8.472.407  \n",
       "624    1.326.261  \n",
       "936    1.011.792  \n",
       "1248   1.173.008  "
      ]
     },
     "execution_count": 16,
     "metadata": {},
     "output_type": "execute_result"
    }
   ],
   "source": [
    "poblacion_2021 = poblacion_2021[poblacion_2021['Tamaño de los municipios'] == 'Total']\n",
    "poblacion_2021.head()"
   ]
  },
  {
   "cell_type": "markdown",
   "id": "f47e05bd",
   "metadata": {},
   "source": [
    "##### Conversion de nombres de ccaa para que sean coincidentes entre df de casos covid y df de poblacion\n",
    "y además\n",
    "##### Conversion del numero de total de poblacion en int"
   ]
  },
  {
   "cell_type": "code",
   "execution_count": 17,
   "id": "8274fa3f",
   "metadata": {},
   "outputs": [
    {
     "data": {
      "text/plain": [
       "{'01 Andalucía',\n",
       " '02 Aragón',\n",
       " '03 Asturias, Principado de',\n",
       " '04 Balears, Illes',\n",
       " '05 Canarias',\n",
       " '06 Cantabria',\n",
       " '07 Castilla y León',\n",
       " '08 Castilla - La Mancha',\n",
       " '09 Cataluña',\n",
       " '10 Comunitat Valenciana',\n",
       " '11 Extremadura',\n",
       " '12 Galicia',\n",
       " '13 Madrid, Comunidad de',\n",
       " '14 Murcia, Región de',\n",
       " '15 Navarra, Comunidad Foral de',\n",
       " '16 País Vasco',\n",
       " '17 Rioja, La',\n",
       " '18 Ceuta',\n",
       " '19 Melilla',\n",
       " 'Total'}"
      ]
     },
     "execution_count": 17,
     "metadata": {},
     "output_type": "execute_result"
    }
   ],
   "source": [
    "territorio = set(list(poblacion_ccaa['Comunidades y Ciudades Autónomas']))\n",
    "territorio"
   ]
  },
  {
   "cell_type": "code",
   "execution_count": 18,
   "id": "e9ed0c12",
   "metadata": {},
   "outputs": [],
   "source": [
    "def cambio_nombre_ccaa(df , posicion , lista): #Conversion del nombre de ccaa\n",
    "    ccaa_new = ''\n",
    "    ccaa_old = df.iloc[posicion].loc['Comunidades y Ciudades Autónomas']\n",
    "    if ccaa_old == '01 Andalucía':\n",
    "        ccaa_new = 'Andalucia'\n",
    "    elif ccaa_old == '02 Aragón':\n",
    "        ccaa_new = 'Aragón'\n",
    "    elif ccaa_old == '03 Asturias, Principado de':\n",
    "        ccaa_new = 'Asturias'\n",
    "    elif ccaa_old == '04 Balears, Illes':\n",
    "        ccaa_new = 'Baleares'\n",
    "    elif ccaa_old == '05 Canarias':\n",
    "        ccaa_new = 'Canarias'\n",
    "    elif ccaa_old == '06 Cantabria':\n",
    "        ccaa_new = 'Cantabria'\n",
    "    elif ccaa_old == '07 Castilla y León':\n",
    "        ccaa_new = 'Castilla y León'\n",
    "    elif ccaa_old == '08 Castilla - La Mancha':\n",
    "        ccaa_new = 'Castilla-La mancha'\n",
    "    elif ccaa_old == '09 Cataluña':\n",
    "        ccaa_new = 'Cataluña'\n",
    "    elif ccaa_old == '10 Comunitat Valenciana':\n",
    "        ccaa_new = 'Com. Valenciana'\n",
    "    elif ccaa_old == '11 Extremadura':\n",
    "        ccaa_new = 'Extremadura'\n",
    "    elif ccaa_old == '12 Galicia':\n",
    "        ccaa_new = 'Galicia'\n",
    "    elif ccaa_old == '13 Madrid, Comunidad de':\n",
    "        ccaa_new = 'Madrid'\n",
    "    elif ccaa_old == '14 Murcia, Región de':\n",
    "        ccaa_new = 'Murcia'\n",
    "    elif ccaa_old == '15 Navarra, Comunidad Foral de':\n",
    "        ccaa_new = 'Navarra'\n",
    "    elif ccaa_old == '16 País Vasco':\n",
    "        ccaa_new = 'Pais Vasco'\n",
    "    elif ccaa_old == '17 Rioja, La':\n",
    "        ccaa_new = 'La Rioja'\n",
    "    elif ccaa_old == '18 Ceuta':\n",
    "        ccaa_new = 'Ceuta'\n",
    "    elif ccaa_old == '19 Melilla':\n",
    "        ccaa_new = 'Melilla'\n",
    "    elif ccaa_old == 'Total':\n",
    "        ccaa_new = 'Total'\n",
    "    \n",
    "    return lista.append(ccaa_new)"
   ]
  },
  {
   "cell_type": "code",
   "execution_count": 19,
   "id": "737e1d73",
   "metadata": {},
   "outputs": [],
   "source": [
    "def modificar_valor(df):\n",
    "    lista = []\n",
    "    for valor in df['Total']:\n",
    "        v = valor.split('.')\n",
    "        if len(v) == 3:\n",
    "            new_valor = v[0] + v[1] +v[2]\n",
    "        elif len(v) == 2:\n",
    "            new_valor = v[0] + v[1]\n",
    "        lista.append(int(new_valor))\n",
    "    return lista"
   ]
  },
  {
   "cell_type": "code",
   "execution_count": 20,
   "id": "7ae86f7e",
   "metadata": {},
   "outputs": [
    {
     "data": {
      "text/html": [
       "<div>\n",
       "<style scoped>\n",
       "    .dataframe tbody tr th:only-of-type {\n",
       "        vertical-align: middle;\n",
       "    }\n",
       "\n",
       "    .dataframe tbody tr th {\n",
       "        vertical-align: top;\n",
       "    }\n",
       "\n",
       "    .dataframe thead th {\n",
       "        text-align: right;\n",
       "    }\n",
       "</style>\n",
       "<table border=\"1\" class=\"dataframe\">\n",
       "  <thead>\n",
       "    <tr style=\"text-align: right;\">\n",
       "      <th></th>\n",
       "      <th>CCAA</th>\n",
       "      <th>Poblacion</th>\n",
       "    </tr>\n",
       "  </thead>\n",
       "  <tbody>\n",
       "    <tr>\n",
       "      <th>0</th>\n",
       "      <td>Total</td>\n",
       "      <td>47450795</td>\n",
       "    </tr>\n",
       "    <tr>\n",
       "      <th>1</th>\n",
       "      <td>Andalucia</td>\n",
       "      <td>8464411</td>\n",
       "    </tr>\n",
       "    <tr>\n",
       "      <th>2</th>\n",
       "      <td>Aragón</td>\n",
       "      <td>1329391</td>\n",
       "    </tr>\n",
       "    <tr>\n",
       "      <th>3</th>\n",
       "      <td>Asturias</td>\n",
       "      <td>1018784</td>\n",
       "    </tr>\n",
       "    <tr>\n",
       "      <th>4</th>\n",
       "      <td>Baleares</td>\n",
       "      <td>1171543</td>\n",
       "    </tr>\n",
       "    <tr>\n",
       "      <th>5</th>\n",
       "      <td>Canarias</td>\n",
       "      <td>2175952</td>\n",
       "    </tr>\n",
       "    <tr>\n",
       "      <th>6</th>\n",
       "      <td>Cantabria</td>\n",
       "      <td>582905</td>\n",
       "    </tr>\n",
       "    <tr>\n",
       "      <th>7</th>\n",
       "      <td>Castilla y León</td>\n",
       "      <td>2394918</td>\n",
       "    </tr>\n",
       "    <tr>\n",
       "      <th>8</th>\n",
       "      <td>Castilla-La mancha</td>\n",
       "      <td>2045221</td>\n",
       "    </tr>\n",
       "    <tr>\n",
       "      <th>9</th>\n",
       "      <td>Cataluña</td>\n",
       "      <td>7780479</td>\n",
       "    </tr>\n",
       "    <tr>\n",
       "      <th>10</th>\n",
       "      <td>Com. Valenciana</td>\n",
       "      <td>5057353</td>\n",
       "    </tr>\n",
       "    <tr>\n",
       "      <th>11</th>\n",
       "      <td>Extremadura</td>\n",
       "      <td>1063987</td>\n",
       "    </tr>\n",
       "    <tr>\n",
       "      <th>12</th>\n",
       "      <td>Galicia</td>\n",
       "      <td>2701819</td>\n",
       "    </tr>\n",
       "    <tr>\n",
       "      <th>13</th>\n",
       "      <td>Madrid</td>\n",
       "      <td>6779888</td>\n",
       "    </tr>\n",
       "    <tr>\n",
       "      <th>14</th>\n",
       "      <td>Murcia</td>\n",
       "      <td>1511251</td>\n",
       "    </tr>\n",
       "    <tr>\n",
       "      <th>15</th>\n",
       "      <td>Navarra</td>\n",
       "      <td>661197</td>\n",
       "    </tr>\n",
       "    <tr>\n",
       "      <th>16</th>\n",
       "      <td>Pais Vasco</td>\n",
       "      <td>2220504</td>\n",
       "    </tr>\n",
       "    <tr>\n",
       "      <th>17</th>\n",
       "      <td>La Rioja</td>\n",
       "      <td>319914</td>\n",
       "    </tr>\n",
       "    <tr>\n",
       "      <th>18</th>\n",
       "      <td>Ceuta</td>\n",
       "      <td>84202</td>\n",
       "    </tr>\n",
       "    <tr>\n",
       "      <th>19</th>\n",
       "      <td>Melilla</td>\n",
       "      <td>87076</td>\n",
       "    </tr>\n",
       "  </tbody>\n",
       "</table>\n",
       "</div>"
      ],
      "text/plain": [
       "                  CCAA  Poblacion\n",
       "0                Total   47450795\n",
       "1            Andalucia    8464411\n",
       "2               Aragón    1329391\n",
       "3             Asturias    1018784\n",
       "4             Baleares    1171543\n",
       "5             Canarias    2175952\n",
       "6            Cantabria     582905\n",
       "7      Castilla y León    2394918\n",
       "8   Castilla-La mancha    2045221\n",
       "9             Cataluña    7780479\n",
       "10     Com. Valenciana    5057353\n",
       "11         Extremadura    1063987\n",
       "12             Galicia    2701819\n",
       "13              Madrid    6779888\n",
       "14              Murcia    1511251\n",
       "15             Navarra     661197\n",
       "16          Pais Vasco    2220504\n",
       "17            La Rioja     319914\n",
       "18               Ceuta      84202\n",
       "19             Melilla      87076"
      ]
     },
     "execution_count": 20,
     "metadata": {},
     "output_type": "execute_result"
    }
   ],
   "source": [
    "pob_20 = pd.DataFrame()\n",
    "\n",
    "ccaa_2020 = []\n",
    "for pos , ccaa in enumerate(poblacion_2020['Comunidades y Ciudades Autónomas']):\n",
    "    cambio_nombre_ccaa(poblacion_2020 , pos , ccaa_2020)\n",
    "pob_20['CCAA'] =ccaa_2020\n",
    "\n",
    "\n",
    "valor_20 = modificar_valor(poblacion_2020)\n",
    "pob_20['Poblacion'] = valor_20\n",
    "\n",
    "pob_20"
   ]
  },
  {
   "cell_type": "code",
   "execution_count": 25,
   "id": "06cb6ba7",
   "metadata": {},
   "outputs": [
    {
     "data": {
      "text/html": [
       "<div>\n",
       "<style scoped>\n",
       "    .dataframe tbody tr th:only-of-type {\n",
       "        vertical-align: middle;\n",
       "    }\n",
       "\n",
       "    .dataframe tbody tr th {\n",
       "        vertical-align: top;\n",
       "    }\n",
       "\n",
       "    .dataframe thead th {\n",
       "        text-align: right;\n",
       "    }\n",
       "</style>\n",
       "<table border=\"1\" class=\"dataframe\">\n",
       "  <thead>\n",
       "    <tr style=\"text-align: right;\">\n",
       "      <th></th>\n",
       "      <th>CCAA</th>\n",
       "      <th>Poblacion</th>\n",
       "    </tr>\n",
       "  </thead>\n",
       "  <tbody>\n",
       "    <tr>\n",
       "      <th>0</th>\n",
       "      <td>Total</td>\n",
       "      <td>47385107</td>\n",
       "    </tr>\n",
       "    <tr>\n",
       "      <th>1</th>\n",
       "      <td>Andalucia</td>\n",
       "      <td>8472407</td>\n",
       "    </tr>\n",
       "    <tr>\n",
       "      <th>2</th>\n",
       "      <td>Aragón</td>\n",
       "      <td>1326261</td>\n",
       "    </tr>\n",
       "    <tr>\n",
       "      <th>3</th>\n",
       "      <td>Asturias</td>\n",
       "      <td>1011792</td>\n",
       "    </tr>\n",
       "    <tr>\n",
       "      <th>4</th>\n",
       "      <td>Baleares</td>\n",
       "      <td>1173008</td>\n",
       "    </tr>\n",
       "    <tr>\n",
       "      <th>5</th>\n",
       "      <td>Canarias</td>\n",
       "      <td>2172944</td>\n",
       "    </tr>\n",
       "    <tr>\n",
       "      <th>6</th>\n",
       "      <td>Cantabria</td>\n",
       "      <td>584507</td>\n",
       "    </tr>\n",
       "    <tr>\n",
       "      <th>7</th>\n",
       "      <td>Castilla y León</td>\n",
       "      <td>2383139</td>\n",
       "    </tr>\n",
       "    <tr>\n",
       "      <th>8</th>\n",
       "      <td>Castilla-La mancha</td>\n",
       "      <td>2049562</td>\n",
       "    </tr>\n",
       "    <tr>\n",
       "      <th>9</th>\n",
       "      <td>Cataluña</td>\n",
       "      <td>7763362</td>\n",
       "    </tr>\n",
       "    <tr>\n",
       "      <th>10</th>\n",
       "      <td>Com. Valenciana</td>\n",
       "      <td>5058138</td>\n",
       "    </tr>\n",
       "    <tr>\n",
       "      <th>11</th>\n",
       "      <td>Extremadura</td>\n",
       "      <td>1059501</td>\n",
       "    </tr>\n",
       "    <tr>\n",
       "      <th>12</th>\n",
       "      <td>Galicia</td>\n",
       "      <td>2695645</td>\n",
       "    </tr>\n",
       "    <tr>\n",
       "      <th>13</th>\n",
       "      <td>Madrid</td>\n",
       "      <td>6751251</td>\n",
       "    </tr>\n",
       "    <tr>\n",
       "      <th>14</th>\n",
       "      <td>Murcia</td>\n",
       "      <td>1518486</td>\n",
       "    </tr>\n",
       "    <tr>\n",
       "      <th>15</th>\n",
       "      <td>Navarra</td>\n",
       "      <td>661537</td>\n",
       "    </tr>\n",
       "    <tr>\n",
       "      <th>16</th>\n",
       "      <td>Pais Vasco</td>\n",
       "      <td>2213993</td>\n",
       "    </tr>\n",
       "    <tr>\n",
       "      <th>17</th>\n",
       "      <td>La Rioja</td>\n",
       "      <td>319796</td>\n",
       "    </tr>\n",
       "    <tr>\n",
       "      <th>18</th>\n",
       "      <td>Ceuta</td>\n",
       "      <td>83517</td>\n",
       "    </tr>\n",
       "    <tr>\n",
       "      <th>19</th>\n",
       "      <td>Melilla</td>\n",
       "      <td>86261</td>\n",
       "    </tr>\n",
       "  </tbody>\n",
       "</table>\n",
       "</div>"
      ],
      "text/plain": [
       "                  CCAA  Poblacion\n",
       "0                Total   47385107\n",
       "1            Andalucia    8472407\n",
       "2               Aragón    1326261\n",
       "3             Asturias    1011792\n",
       "4             Baleares    1173008\n",
       "5             Canarias    2172944\n",
       "6            Cantabria     584507\n",
       "7      Castilla y León    2383139\n",
       "8   Castilla-La mancha    2049562\n",
       "9             Cataluña    7763362\n",
       "10     Com. Valenciana    5058138\n",
       "11         Extremadura    1059501\n",
       "12             Galicia    2695645\n",
       "13              Madrid    6751251\n",
       "14              Murcia    1518486\n",
       "15             Navarra     661537\n",
       "16          Pais Vasco    2213993\n",
       "17            La Rioja     319796\n",
       "18               Ceuta      83517\n",
       "19             Melilla      86261"
      ]
     },
     "execution_count": 25,
     "metadata": {},
     "output_type": "execute_result"
    }
   ],
   "source": [
    "pob_21 = pd.DataFrame()\n",
    "\n",
    "ccaa_2021 = []\n",
    "for pos , ccaa in enumerate(poblacion_2021['Comunidades y Ciudades Autónomas']):\n",
    "    cambio_nombre_ccaa(poblacion_2021 , pos , ccaa_2021)\n",
    "pob_21['CCAA'] =ccaa_2021\n",
    "\n",
    "valor_21 = modificar_valor(poblacion_2021)\n",
    "pob_21['Poblacion'] = valor_21\n",
    "\n",
    "pob_21"
   ]
  },
  {
   "cell_type": "code",
   "execution_count": 31,
   "id": "955ae2c9",
   "metadata": {},
   "outputs": [
    {
     "data": {
      "text/plain": [
       "{True}"
      ]
     },
     "execution_count": 31,
     "metadata": {},
     "output_type": "execute_result"
    }
   ],
   "source": [
    "set(list(pob_20['CCAA'] == pob_21['CCAA']))"
   ]
  },
  {
   "cell_type": "markdown",
   "id": "d0865143",
   "metadata": {},
   "source": [
    "##### Incidencia en cada territorio"
   ]
  },
  {
   "cell_type": "code",
   "execution_count": 34,
   "id": "d474232d",
   "metadata": {},
   "outputs": [
    {
     "data": {
      "text/html": [
       "<div>\n",
       "<style scoped>\n",
       "    .dataframe tbody tr th:only-of-type {\n",
       "        vertical-align: middle;\n",
       "    }\n",
       "\n",
       "    .dataframe tbody tr th {\n",
       "        vertical-align: top;\n",
       "    }\n",
       "\n",
       "    .dataframe thead th {\n",
       "        text-align: right;\n",
       "    }\n",
       "</style>\n",
       "<table border=\"1\" class=\"dataframe\">\n",
       "  <thead>\n",
       "    <tr style=\"text-align: right;\">\n",
       "      <th></th>\n",
       "      <th>Semana</th>\n",
       "      <th>Andalucia</th>\n",
       "      <th>Aragón</th>\n",
       "      <th>Asturias</th>\n",
       "      <th>Baleares</th>\n",
       "      <th>Canarias</th>\n",
       "      <th>Cantabria</th>\n",
       "      <th>Cataluña</th>\n",
       "      <th>Castilla-La mancha</th>\n",
       "      <th>Castilla y León</th>\n",
       "      <th>Ceuta</th>\n",
       "      <th>Com. Valenciana</th>\n",
       "      <th>Extremadura</th>\n",
       "      <th>Galicia</th>\n",
       "      <th>La Rioja</th>\n",
       "      <th>Madrid</th>\n",
       "      <th>Melilla</th>\n",
       "      <th>Murcia</th>\n",
       "      <th>Navarra</th>\n",
       "      <th>Pais Vasco</th>\n",
       "    </tr>\n",
       "  </thead>\n",
       "  <tbody>\n",
       "    <tr>\n",
       "      <th>0</th>\n",
       "      <td>2</td>\n",
       "      <td>0.000</td>\n",
       "      <td>0.000</td>\n",
       "      <td>0.000</td>\n",
       "      <td>0.000</td>\n",
       "      <td>0.000</td>\n",
       "      <td>0.000</td>\n",
       "      <td>0.000</td>\n",
       "      <td>0.000</td>\n",
       "      <td>0.000</td>\n",
       "      <td>0.000</td>\n",
       "      <td>0.000</td>\n",
       "      <td>0.000</td>\n",
       "      <td>0.000</td>\n",
       "      <td>0.000</td>\n",
       "      <td>0.044</td>\n",
       "      <td>0.000</td>\n",
       "      <td>0.000</td>\n",
       "      <td>0.000</td>\n",
       "      <td>0.000</td>\n",
       "    </tr>\n",
       "    <tr>\n",
       "      <th>1</th>\n",
       "      <td>3</td>\n",
       "      <td>0.000</td>\n",
       "      <td>0.000</td>\n",
       "      <td>0.000</td>\n",
       "      <td>0.000</td>\n",
       "      <td>0.000</td>\n",
       "      <td>0.000</td>\n",
       "      <td>0.000</td>\n",
       "      <td>0.000</td>\n",
       "      <td>0.000</td>\n",
       "      <td>0.000</td>\n",
       "      <td>0.000</td>\n",
       "      <td>0.000</td>\n",
       "      <td>0.000</td>\n",
       "      <td>0.000</td>\n",
       "      <td>0.103</td>\n",
       "      <td>0.000</td>\n",
       "      <td>0.000</td>\n",
       "      <td>0.000</td>\n",
       "      <td>0.000</td>\n",
       "    </tr>\n",
       "    <tr>\n",
       "      <th>2</th>\n",
       "      <td>4</td>\n",
       "      <td>0.000</td>\n",
       "      <td>0.000</td>\n",
       "      <td>0.000</td>\n",
       "      <td>0.000</td>\n",
       "      <td>0.000</td>\n",
       "      <td>0.000</td>\n",
       "      <td>0.013</td>\n",
       "      <td>0.000</td>\n",
       "      <td>0.000</td>\n",
       "      <td>0.000</td>\n",
       "      <td>0.000</td>\n",
       "      <td>0.000</td>\n",
       "      <td>0.000</td>\n",
       "      <td>0.000</td>\n",
       "      <td>0.118</td>\n",
       "      <td>0.000</td>\n",
       "      <td>0.000</td>\n",
       "      <td>0.000</td>\n",
       "      <td>0.000</td>\n",
       "    </tr>\n",
       "    <tr>\n",
       "      <th>3</th>\n",
       "      <td>5</td>\n",
       "      <td>0.012</td>\n",
       "      <td>0.000</td>\n",
       "      <td>0.000</td>\n",
       "      <td>0.085</td>\n",
       "      <td>0.046</td>\n",
       "      <td>0.000</td>\n",
       "      <td>0.116</td>\n",
       "      <td>0.000</td>\n",
       "      <td>0.000</td>\n",
       "      <td>0.000</td>\n",
       "      <td>0.020</td>\n",
       "      <td>0.000</td>\n",
       "      <td>0.037</td>\n",
       "      <td>0.000</td>\n",
       "      <td>0.324</td>\n",
       "      <td>0.000</td>\n",
       "      <td>0.000</td>\n",
       "      <td>0.000</td>\n",
       "      <td>0.000</td>\n",
       "    </tr>\n",
       "    <tr>\n",
       "      <th>4</th>\n",
       "      <td>6</td>\n",
       "      <td>0.059</td>\n",
       "      <td>0.000</td>\n",
       "      <td>0.000</td>\n",
       "      <td>0.000</td>\n",
       "      <td>0.046</td>\n",
       "      <td>0.000</td>\n",
       "      <td>0.141</td>\n",
       "      <td>0.000</td>\n",
       "      <td>0.125</td>\n",
       "      <td>0.000</td>\n",
       "      <td>0.059</td>\n",
       "      <td>0.094</td>\n",
       "      <td>0.037</td>\n",
       "      <td>0.000</td>\n",
       "      <td>0.546</td>\n",
       "      <td>0.000</td>\n",
       "      <td>0.000</td>\n",
       "      <td>0.000</td>\n",
       "      <td>0.000</td>\n",
       "    </tr>\n",
       "    <tr>\n",
       "      <th>...</th>\n",
       "      <td>...</td>\n",
       "      <td>...</td>\n",
       "      <td>...</td>\n",
       "      <td>...</td>\n",
       "      <td>...</td>\n",
       "      <td>...</td>\n",
       "      <td>...</td>\n",
       "      <td>...</td>\n",
       "      <td>...</td>\n",
       "      <td>...</td>\n",
       "      <td>...</td>\n",
       "      <td>...</td>\n",
       "      <td>...</td>\n",
       "      <td>...</td>\n",
       "      <td>...</td>\n",
       "      <td>...</td>\n",
       "      <td>...</td>\n",
       "      <td>...</td>\n",
       "      <td>...</td>\n",
       "      <td>...</td>\n",
       "    </tr>\n",
       "    <tr>\n",
       "      <th>98</th>\n",
       "      <td>100</td>\n",
       "      <td>65.778</td>\n",
       "      <td>244.371</td>\n",
       "      <td>160.211</td>\n",
       "      <td>153.111</td>\n",
       "      <td>107.550</td>\n",
       "      <td>105.217</td>\n",
       "      <td>153.735</td>\n",
       "      <td>76.699</td>\n",
       "      <td>168.559</td>\n",
       "      <td>61.065</td>\n",
       "      <td>154.266</td>\n",
       "      <td>59.556</td>\n",
       "      <td>148.907</td>\n",
       "      <td>129.145</td>\n",
       "      <td>79.111</td>\n",
       "      <td>142.591</td>\n",
       "      <td>143.959</td>\n",
       "      <td>363.245</td>\n",
       "      <td>334.373</td>\n",
       "    </tr>\n",
       "    <tr>\n",
       "      <th>99</th>\n",
       "      <td>101</td>\n",
       "      <td>98.720</td>\n",
       "      <td>357.547</td>\n",
       "      <td>249.458</td>\n",
       "      <td>294.201</td>\n",
       "      <td>128.765</td>\n",
       "      <td>166.123</td>\n",
       "      <td>222.378</td>\n",
       "      <td>104.998</td>\n",
       "      <td>252.692</td>\n",
       "      <td>123.328</td>\n",
       "      <td>222.967</td>\n",
       "      <td>91.269</td>\n",
       "      <td>222.767</td>\n",
       "      <td>186.994</td>\n",
       "      <td>109.609</td>\n",
       "      <td>242.288</td>\n",
       "      <td>185.514</td>\n",
       "      <td>534.362</td>\n",
       "      <td>432.115</td>\n",
       "    </tr>\n",
       "    <tr>\n",
       "      <th>100</th>\n",
       "      <td>102</td>\n",
       "      <td>145.815</td>\n",
       "      <td>446.895</td>\n",
       "      <td>370.926</td>\n",
       "      <td>385.590</td>\n",
       "      <td>241.286</td>\n",
       "      <td>221.383</td>\n",
       "      <td>275.551</td>\n",
       "      <td>171.988</td>\n",
       "      <td>386.507</td>\n",
       "      <td>355.616</td>\n",
       "      <td>326.385</td>\n",
       "      <td>189.901</td>\n",
       "      <td>272.217</td>\n",
       "      <td>414.952</td>\n",
       "      <td>180.766</td>\n",
       "      <td>351.260</td>\n",
       "      <td>354.761</td>\n",
       "      <td>724.827</td>\n",
       "      <td>577.057</td>\n",
       "    </tr>\n",
       "    <tr>\n",
       "      <th>101</th>\n",
       "      <td>103</td>\n",
       "      <td>356.345</td>\n",
       "      <td>628.459</td>\n",
       "      <td>491.702</td>\n",
       "      <td>527.959</td>\n",
       "      <td>580.227</td>\n",
       "      <td>367.660</td>\n",
       "      <td>430.535</td>\n",
       "      <td>350.270</td>\n",
       "      <td>761.936</td>\n",
       "      <td>556.773</td>\n",
       "      <td>451.569</td>\n",
       "      <td>554.978</td>\n",
       "      <td>380.057</td>\n",
       "      <td>1415.277</td>\n",
       "      <td>648.206</td>\n",
       "      <td>373.286</td>\n",
       "      <td>586.505</td>\n",
       "      <td>804.944</td>\n",
       "      <td>830.490</td>\n",
       "    </tr>\n",
       "    <tr>\n",
       "      <th>102</th>\n",
       "      <td>104</td>\n",
       "      <td>603.040</td>\n",
       "      <td>1071.132</td>\n",
       "      <td>756.282</td>\n",
       "      <td>668.793</td>\n",
       "      <td>997.126</td>\n",
       "      <td>727.108</td>\n",
       "      <td>1060.803</td>\n",
       "      <td>806.465</td>\n",
       "      <td>1677.368</td>\n",
       "      <td>514.865</td>\n",
       "      <td>608.663</td>\n",
       "      <td>1629.446</td>\n",
       "      <td>921.746</td>\n",
       "      <td>1434.352</td>\n",
       "      <td>1289.879</td>\n",
       "      <td>468.346</td>\n",
       "      <td>752.197</td>\n",
       "      <td>2167.528</td>\n",
       "      <td>1911.162</td>\n",
       "    </tr>\n",
       "  </tbody>\n",
       "</table>\n",
       "<p>103 rows × 20 columns</p>\n",
       "</div>"
      ],
      "text/plain": [
       "     Semana  Andalucia    Aragón  Asturias  Baleares  Canarias  Cantabria  \\\n",
       "0         2      0.000     0.000     0.000     0.000     0.000      0.000   \n",
       "1         3      0.000     0.000     0.000     0.000     0.000      0.000   \n",
       "2         4      0.000     0.000     0.000     0.000     0.000      0.000   \n",
       "3         5      0.012     0.000     0.000     0.085     0.046      0.000   \n",
       "4         6      0.059     0.000     0.000     0.000     0.046      0.000   \n",
       "..      ...        ...       ...       ...       ...       ...        ...   \n",
       "98      100     65.778   244.371   160.211   153.111   107.550    105.217   \n",
       "99      101     98.720   357.547   249.458   294.201   128.765    166.123   \n",
       "100     102    145.815   446.895   370.926   385.590   241.286    221.383   \n",
       "101     103    356.345   628.459   491.702   527.959   580.227    367.660   \n",
       "102     104    603.040  1071.132   756.282   668.793   997.126    727.108   \n",
       "\n",
       "     Cataluña  Castilla-La mancha  Castilla y León    Ceuta  Com. Valenciana  \\\n",
       "0       0.000               0.000            0.000    0.000            0.000   \n",
       "1       0.000               0.000            0.000    0.000            0.000   \n",
       "2       0.013               0.000            0.000    0.000            0.000   \n",
       "3       0.116               0.000            0.000    0.000            0.020   \n",
       "4       0.141               0.000            0.125    0.000            0.059   \n",
       "..        ...                 ...              ...      ...              ...   \n",
       "98    153.735              76.699          168.559   61.065          154.266   \n",
       "99    222.378             104.998          252.692  123.328          222.967   \n",
       "100   275.551             171.988          386.507  355.616          326.385   \n",
       "101   430.535             350.270          761.936  556.773          451.569   \n",
       "102  1060.803             806.465         1677.368  514.865          608.663   \n",
       "\n",
       "     Extremadura  Galicia  La Rioja    Madrid  Melilla   Murcia   Navarra  \\\n",
       "0          0.000    0.000     0.000     0.044    0.000    0.000     0.000   \n",
       "1          0.000    0.000     0.000     0.103    0.000    0.000     0.000   \n",
       "2          0.000    0.000     0.000     0.118    0.000    0.000     0.000   \n",
       "3          0.000    0.037     0.000     0.324    0.000    0.000     0.000   \n",
       "4          0.094    0.037     0.000     0.546    0.000    0.000     0.000   \n",
       "..           ...      ...       ...       ...      ...      ...       ...   \n",
       "98        59.556  148.907   129.145    79.111  142.591  143.959   363.245   \n",
       "99        91.269  222.767   186.994   109.609  242.288  185.514   534.362   \n",
       "100      189.901  272.217   414.952   180.766  351.260  354.761   724.827   \n",
       "101      554.978  380.057  1415.277   648.206  373.286  586.505   804.944   \n",
       "102     1629.446  921.746  1434.352  1289.879  468.346  752.197  2167.528   \n",
       "\n",
       "     Pais Vasco  \n",
       "0         0.000  \n",
       "1         0.000  \n",
       "2         0.000  \n",
       "3         0.000  \n",
       "4         0.000  \n",
       "..          ...  \n",
       "98      334.373  \n",
       "99      432.115  \n",
       "100     577.057  \n",
       "101     830.490  \n",
       "102    1911.162  \n",
       "\n",
       "[103 rows x 20 columns]"
      ]
     },
     "execution_count": 34,
     "metadata": {},
     "output_type": "execute_result"
    }
   ],
   "source": [
    "incidencia_ccaa = pd.DataFrame()\n",
    "incidencia_ccaa['Semana'] = covid_semanal_ccaa['Semana']\n",
    "for ccaa in lista_ccaa:\n",
    "    incidencia = []\n",
    "\n",
    "    pos_ccaa = (list(pob_20['CCAA'])).index(ccaa) #Esta posicion se utiliza para extraer el valor de la poblacion sin informacion adicional (como tipo de objeto)\n",
    "    poblacion_20 = pob_20.iloc[pos_ccaa , 1]\n",
    "    poblacion_21 = pob_21.iloc[pos_ccaa , 1]\n",
    "\n",
    "    for semana in covid_casos_ccaa[ccaa]:\n",
    "        if len(incidencia) < 54:\n",
    "            valor = round((semana * 100000) / poblacion_20 , 3) #Poblacion 1 enero 2020\n",
    "        else:\n",
    "            valor = round((semana * 100000) / poblacion_21 , 3)  #Poblacion 1 enero 2021\n",
    "        incidencia.append(valor)\n",
    "    incidencia_ccaa[ccaa] = incidencia\n",
    "\n",
    "incidencia_ccaa"
   ]
  },
  {
   "cell_type": "code",
   "execution_count": null,
   "id": "8349fa19",
   "metadata": {},
   "outputs": [],
   "source": [
    "#Grafica\n",
    "\n",
    "\n",
    "\n",
    "data= []\n",
    "layout = dict(title= 'Incidencia por 100.000 habitantes por CCAA' , xaxis= dict(title= 'Semana') , yaxis= dict(title= 'Casos por 100.000 habitantes'))\n",
    "\n",
    "covid_vs_influenza = go.Figure(data= data , layout= layout)\n",
    "iplot(covid_vs_influenza)"
   ]
  }
 ],
 "metadata": {
  "kernelspec": {
   "display_name": "Python 3",
   "language": "python",
   "name": "python3"
  },
  "language_info": {
   "codemirror_mode": {
    "name": "ipython",
    "version": 3
   },
   "file_extension": ".py",
   "mimetype": "text/x-python",
   "name": "python",
   "nbconvert_exporter": "python",
   "pygments_lexer": "ipython3",
   "version": "3.7.4"
  }
 },
 "nbformat": 4,
 "nbformat_minor": 5
}
