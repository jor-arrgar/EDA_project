{
 "cells": [
  {
   "cell_type": "code",
   "execution_count": 1,
   "id": "97cb1f77-eca7-45df-978f-0eb2ef9b7df1",
   "metadata": {},
   "outputs": [
    {
     "data": {
      "text/html": [
       "        <script type=\"text/javascript\">\n",
       "        window.PlotlyConfig = {MathJaxConfig: 'local'};\n",
       "        if (window.MathJax) {MathJax.Hub.Config({SVG: {font: \"STIX-Web\"}});}\n",
       "        if (typeof require !== 'undefined') {\n",
       "        require.undef(\"plotly\");\n",
       "        requirejs.config({\n",
       "            paths: {\n",
       "                'plotly': ['https://cdn.plot.ly/plotly-2.6.3.min']\n",
       "            }\n",
       "        });\n",
       "        require(['plotly'], function(Plotly) {\n",
       "            window._Plotly = Plotly;\n",
       "        });\n",
       "        }\n",
       "        </script>\n",
       "        "
      ]
     },
     "metadata": {},
     "output_type": "display_data"
    }
   ],
   "source": [
    "import pandas as pd\n",
    "from plotly.offline import init_notebook_mode, iplot, plot\n",
    "import plotly as py\n",
    "init_notebook_mode(connected=True)\n",
    "import plotly.graph_objects as go\n",
    "import os\n",
    "import matplotlib.pyplot as plt"
   ]
  },
  {
   "cell_type": "code",
   "execution_count": 9,
   "id": "7b758e0b",
   "metadata": {},
   "outputs": [
    {
     "data": {
      "text/html": [
       "<div>\n",
       "<style scoped>\n",
       "    .dataframe tbody tr th:only-of-type {\n",
       "        vertical-align: middle;\n",
       "    }\n",
       "\n",
       "    .dataframe tbody tr th {\n",
       "        vertical-align: top;\n",
       "    }\n",
       "\n",
       "    .dataframe thead th {\n",
       "        text-align: right;\n",
       "    }\n",
       "</style>\n",
       "<table border=\"1\" class=\"dataframe\">\n",
       "  <thead>\n",
       "    <tr style=\"text-align: right;\">\n",
       "      <th></th>\n",
       "      <th>aÃ±o</th>\n",
       "      <th>Andaluc?a (AN)</th>\n",
       "      <th>Arag?n (AR)</th>\n",
       "      <th>Asturias, Principado de (AS)</th>\n",
       "      <th>Balears, Illes (IB)</th>\n",
       "      <th>Canarias (CN)</th>\n",
       "      <th>Cantabria (CB)</th>\n",
       "      <th>Castilla - La Mancha (CM)</th>\n",
       "      <th>Castilla y Le?n (CL)</th>\n",
       "      <th>Catalu?a (CT)</th>\n",
       "      <th>...</th>\n",
       "      <th>Comunitat Valenciana (VC)</th>\n",
       "      <th>Espa?a (ES)</th>\n",
       "      <th>Extremadura (EX)</th>\n",
       "      <th>Galicia (GA)</th>\n",
       "      <th>La Rioja (RI)</th>\n",
       "      <th>Madrid, Comunidad de (MD)</th>\n",
       "      <th>Melilla (ML)</th>\n",
       "      <th>Murcia, Regi?n de (MC)</th>\n",
       "      <th>Navarra, C. Foral de (NC)</th>\n",
       "      <th>Pa?s Vasco (PV)</th>\n",
       "    </tr>\n",
       "  </thead>\n",
       "  <tbody>\n",
       "    <tr>\n",
       "      <th>0</th>\n",
       "      <td>2019</td>\n",
       "      <td>2.18</td>\n",
       "      <td>3.63</td>\n",
       "      <td>3.46</td>\n",
       "      <td>2.88</td>\n",
       "      <td>2.91</td>\n",
       "      <td>3.28</td>\n",
       "      <td>2.34</td>\n",
       "      <td>3.50</td>\n",
       "      <td>3.84</td>\n",
       "      <td>...</td>\n",
       "      <td>2.32</td>\n",
       "      <td>2.95</td>\n",
       "      <td>3.36</td>\n",
       "      <td>3.30</td>\n",
       "      <td>3.24</td>\n",
       "      <td>2.73</td>\n",
       "      <td>1.91</td>\n",
       "      <td>3.26</td>\n",
       "      <td>3.36</td>\n",
       "      <td>3.26</td>\n",
       "    </tr>\n",
       "    <tr>\n",
       "      <th>1</th>\n",
       "      <td>2018</td>\n",
       "      <td>2.19</td>\n",
       "      <td>3.75</td>\n",
       "      <td>3.40</td>\n",
       "      <td>3.00</td>\n",
       "      <td>3.11</td>\n",
       "      <td>3.28</td>\n",
       "      <td>2.33</td>\n",
       "      <td>3.52</td>\n",
       "      <td>3.88</td>\n",
       "      <td>...</td>\n",
       "      <td>2.37</td>\n",
       "      <td>2.98</td>\n",
       "      <td>3.30</td>\n",
       "      <td>3.32</td>\n",
       "      <td>3.19</td>\n",
       "      <td>2.74</td>\n",
       "      <td>1.90</td>\n",
       "      <td>3.22</td>\n",
       "      <td>3.31</td>\n",
       "      <td>3.23</td>\n",
       "    </tr>\n",
       "    <tr>\n",
       "      <th>2</th>\n",
       "      <td>2017</td>\n",
       "      <td>2.20</td>\n",
       "      <td>3.75</td>\n",
       "      <td>3.38</td>\n",
       "      <td>3.00</td>\n",
       "      <td>3.11</td>\n",
       "      <td>3.27</td>\n",
       "      <td>2.35</td>\n",
       "      <td>3.47</td>\n",
       "      <td>3.89</td>\n",
       "      <td>...</td>\n",
       "      <td>2.37</td>\n",
       "      <td>2.98</td>\n",
       "      <td>3.27</td>\n",
       "      <td>3.33</td>\n",
       "      <td>3.25</td>\n",
       "      <td>2.76</td>\n",
       "      <td>1.92</td>\n",
       "      <td>3.18</td>\n",
       "      <td>3.32</td>\n",
       "      <td>3.30</td>\n",
       "    </tr>\n",
       "    <tr>\n",
       "      <th>3</th>\n",
       "      <td>2016</td>\n",
       "      <td>2.17</td>\n",
       "      <td>3.71</td>\n",
       "      <td>3.28</td>\n",
       "      <td>3.09</td>\n",
       "      <td>3.10</td>\n",
       "      <td>3.29</td>\n",
       "      <td>2.36</td>\n",
       "      <td>3.43</td>\n",
       "      <td>3.85</td>\n",
       "      <td>...</td>\n",
       "      <td>2.36</td>\n",
       "      <td>2.97</td>\n",
       "      <td>3.26</td>\n",
       "      <td>3.33</td>\n",
       "      <td>3.24</td>\n",
       "      <td>2.77</td>\n",
       "      <td>1.90</td>\n",
       "      <td>3.24</td>\n",
       "      <td>3.33</td>\n",
       "      <td>3.30</td>\n",
       "    </tr>\n",
       "    <tr>\n",
       "      <th>4</th>\n",
       "      <td>2015</td>\n",
       "      <td>2.20</td>\n",
       "      <td>3.68</td>\n",
       "      <td>3.26</td>\n",
       "      <td>3.10</td>\n",
       "      <td>3.15</td>\n",
       "      <td>3.30</td>\n",
       "      <td>2.30</td>\n",
       "      <td>3.48</td>\n",
       "      <td>3.83</td>\n",
       "      <td>...</td>\n",
       "      <td>2.36</td>\n",
       "      <td>2.97</td>\n",
       "      <td>3.30</td>\n",
       "      <td>3.35</td>\n",
       "      <td>3.21</td>\n",
       "      <td>2.75</td>\n",
       "      <td>1.94</td>\n",
       "      <td>3.24</td>\n",
       "      <td>3.33</td>\n",
       "      <td>3.35</td>\n",
       "    </tr>\n",
       "  </tbody>\n",
       "</table>\n",
       "<p>5 rows × 21 columns</p>\n",
       "</div>"
      ],
      "text/plain": [
       "   aÃ±o  Andaluc?a (AN)  Arag?n (AR)  Asturias, Principado de (AS)  \\\n",
       "0  2019            2.18         3.63                          3.46   \n",
       "1  2018            2.19         3.75                          3.40   \n",
       "2  2017            2.20         3.75                          3.38   \n",
       "3  2016            2.17         3.71                          3.28   \n",
       "4  2015            2.20         3.68                          3.26   \n",
       "\n",
       "   Balears, Illes (IB)  Canarias (CN)  Cantabria (CB)  \\\n",
       "0                 2.88           2.91            3.28   \n",
       "1                 3.00           3.11            3.28   \n",
       "2                 3.00           3.11            3.27   \n",
       "3                 3.09           3.10            3.29   \n",
       "4                 3.10           3.15            3.30   \n",
       "\n",
       "   Castilla - La Mancha (CM)  Castilla y Le?n (CL)  Catalu?a (CT)  ...  \\\n",
       "0                       2.34                  3.50           3.84  ...   \n",
       "1                       2.33                  3.52           3.88  ...   \n",
       "2                       2.35                  3.47           3.89  ...   \n",
       "3                       2.36                  3.43           3.85  ...   \n",
       "4                       2.30                  3.48           3.83  ...   \n",
       "\n",
       "   Comunitat Valenciana (VC)  Espa?a (ES)  Extremadura (EX)  Galicia (GA)  \\\n",
       "0                       2.32         2.95              3.36          3.30   \n",
       "1                       2.37         2.98              3.30          3.32   \n",
       "2                       2.37         2.98              3.27          3.33   \n",
       "3                       2.36         2.97              3.26          3.33   \n",
       "4                       2.36         2.97              3.30          3.35   \n",
       "\n",
       "   La Rioja (RI)  Madrid, Comunidad de (MD)  Melilla (ML)  \\\n",
       "0           3.24                       2.73          1.91   \n",
       "1           3.19                       2.74          1.90   \n",
       "2           3.25                       2.76          1.92   \n",
       "3           3.24                       2.77          1.90   \n",
       "4           3.21                       2.75          1.94   \n",
       "\n",
       "   Murcia, Regi?n de (MC)  Navarra, C. Foral de (NC)  Pa?s Vasco (PV)  \n",
       "0                    3.26                       3.36             3.26  \n",
       "1                    3.22                       3.31             3.23  \n",
       "2                    3.18                       3.32             3.30  \n",
       "3                    3.24                       3.33             3.30  \n",
       "4                    3.24                       3.33             3.35  \n",
       "\n",
       "[5 rows x 21 columns]"
      ]
     },
     "execution_count": 9,
     "metadata": {},
     "output_type": "execute_result"
    }
   ],
   "source": [
    "df1 = pd.read_csv('C:/Users/jorar/Desktop/Proyectos Data Science/EDA_project/Datasets/Utiles/Indicadores_hospitalarios/camas_x_1000_hab.csv' , sep= ';', encoding='latin')\n",
    "df1.head()"
   ]
  },
  {
   "cell_type": "code",
   "execution_count": 11,
   "id": "6f3adb0f",
   "metadata": {},
   "outputs": [
    {
     "data": {
      "text/plain": [
       "['aÃ±o',\n",
       " 'Andaluc?a (AN)',\n",
       " 'Arag?n (AR)',\n",
       " 'Asturias, Principado de (AS)',\n",
       " 'Balears, Illes (IB)',\n",
       " 'Canarias (CN)',\n",
       " 'Cantabria (CB)',\n",
       " 'Castilla - La Mancha (CM)',\n",
       " 'Castilla y Le?n (CL)',\n",
       " 'Catalu?a (CT)',\n",
       " 'Ceuta (CE)',\n",
       " 'Comunitat Valenciana (VC)',\n",
       " 'Espa?a (ES)',\n",
       " 'Extremadura (EX)',\n",
       " 'Galicia (GA)',\n",
       " 'La Rioja (RI)',\n",
       " 'Madrid, Comunidad de (MD)',\n",
       " 'Melilla (ML)',\n",
       " 'Murcia, Regi?n de (MC)',\n",
       " 'Navarra, C. Foral de (NC)',\n",
       " 'Pa?s Vasco (PV)']"
      ]
     },
     "execution_count": 11,
     "metadata": {},
     "output_type": "execute_result"
    }
   ],
   "source": [
    "lista_columnas = list(df1.columns.values)\n",
    "lista_columnas"
   ]
  },
  {
   "cell_type": "code",
   "execution_count": 12,
   "id": "1d523e44",
   "metadata": {},
   "outputs": [
    {
     "data": {
      "application/vnd.plotly.v1+json": {
       "config": {
        "linkText": "Export to plot.ly",
        "plotlyServerURL": "https://plot.ly",
        "showLink": false
       },
       "data": [
        {
         "marker": {
          "color": "#000000"
         },
         "mode": "lines",
         "name": "España (total)",
         "type": "scatter",
         "x": [
          2019,
          2018,
          2017,
          2016,
          2015,
          2014,
          2013,
          2012,
          2011,
          2010,
          2009,
          2008,
          2007,
          2006,
          2005,
          2004,
          2003,
          2002,
          2001,
          2000,
          1999,
          1998,
          1997,
          1996
         ],
         "y": [
          2.95,
          2.98,
          2.98,
          2.97,
          2.97,
          2.97,
          2.97,
          3.03,
          3.09,
          3.15,
          3.19,
          3.22,
          3.27,
          3.32,
          3.36,
          3.42,
          3.45,
          3.54,
          3.59,
          3.68,
          3.75,
          3.78,
          3.82,
          3.89
         ]
        },
        {
         "marker": {
          "color": "#f44336"
         },
         "mode": "lines",
         "name": "Andalucia",
         "type": "scatter",
         "x": [
          2019,
          2018,
          2017,
          2016,
          2015,
          2014,
          2013,
          2012,
          2011,
          2010,
          2009,
          2008,
          2007,
          2006,
          2005,
          2004,
          2003,
          2002,
          2001,
          2000,
          1999,
          1998,
          1997,
          1996
         ],
         "y": [
          2.18,
          2.19,
          2.2,
          2.17,
          2.2,
          2.17,
          2.19,
          2.22,
          2.27,
          2.3,
          2.38,
          2.41,
          2.52,
          2.54,
          2.59,
          2.67,
          2.72,
          2.8,
          2.89,
          2.96,
          2.98,
          3.01,
          3.02,
          3.05
         ]
        },
        {
         "marker": {
          "color": "#744700"
         },
         "mode": "lines",
         "name": "Aragón",
         "type": "scatter",
         "x": [
          2019,
          2018,
          2017,
          2016,
          2015,
          2014,
          2013,
          2012,
          2011,
          2010,
          2009,
          2008,
          2007,
          2006,
          2005,
          2004,
          2003,
          2002,
          2001,
          2000,
          1999,
          1998,
          1997,
          1996
         ],
         "y": [
          3.63,
          3.75,
          3.75,
          3.71,
          3.68,
          3.67,
          3.63,
          3.68,
          3.77,
          3.81,
          3.83,
          3.84,
          3.83,
          3.96,
          3.99,
          4.05,
          4.12,
          4.16,
          4.19,
          4.23,
          4.29,
          4.39,
          4.39,
          4.51
         ]
        },
        {
         "marker": {
          "color": "#ce7e00"
         },
         "mode": "lines",
         "name": "Asturias",
         "type": "scatter",
         "x": [
          2019,
          2018,
          2017,
          2016,
          2015,
          2014,
          2013,
          2012,
          2011,
          2010,
          2009,
          2008,
          2007,
          2006,
          2005,
          2004,
          2003,
          2002,
          2001,
          2000,
          1999,
          1998,
          1997,
          1996
         ],
         "y": [
          3.46,
          3.4,
          3.38,
          3.28,
          3.26,
          3.25,
          3.31,
          3.39,
          3.39,
          3.46,
          3.55,
          3.56,
          3.63,
          3.63,
          3.63,
          3.57,
          3.66,
          3.77,
          3.61,
          3.85,
          3.76,
          3.76,
          3.83,
          3.83
         ]
        },
        {
         "marker": {
          "color": "#8fce00"
         },
         "mode": "lines",
         "name": "Baleares, Islas",
         "type": "scatter",
         "x": [
          2019,
          2018,
          2017,
          2016,
          2015,
          2014,
          2013,
          2012,
          2011,
          2010,
          2009,
          2008,
          2007,
          2006,
          2005,
          2004,
          2003,
          2002,
          2001,
          2000,
          1999,
          1998,
          1997,
          1996
         ],
         "y": [
          2.88,
          3,
          3,
          3.09,
          3.1,
          2.99,
          2.96,
          2.99,
          3.01,
          3.11,
          3.11,
          3.24,
          3.3,
          3.19,
          3.32,
          3.46,
          3.6,
          3.78,
          3.94,
          3.99,
          4.18,
          4.4,
          4.44,
          4.35
         ]
        },
        {
         "marker": {
          "color": "#2986cc"
         },
         "mode": "lines",
         "name": "Canarias, Islas",
         "type": "scatter",
         "x": [
          2019,
          2018,
          2017,
          2016,
          2015,
          2014,
          2013,
          2012,
          2011,
          2010,
          2009,
          2008,
          2007,
          2006,
          2005,
          2004,
          2003,
          2002,
          2001,
          2000,
          1999,
          1998,
          1997,
          1996
         ],
         "y": [
          2.91,
          3.11,
          3.11,
          3.1,
          3.15,
          3.12,
          3.11,
          3.12,
          3.18,
          3.28,
          3.31,
          3.36,
          3.47,
          3.59,
          3.95,
          4.01,
          4.13,
          4.22,
          4.39,
          4.52,
          4.91,
          4.67,
          4.73,
          4.77
         ]
        },
        {
         "marker": {
          "color": "#16537e"
         },
         "mode": "lines",
         "name": "Cantabria",
         "type": "scatter",
         "x": [
          2019,
          2018,
          2017,
          2016,
          2015,
          2014,
          2013,
          2012,
          2011,
          2010,
          2009,
          2008,
          2007,
          2006,
          2005,
          2004,
          2003,
          2002,
          2001,
          2000,
          1999,
          1998,
          1997,
          1996
         ],
         "y": [
          3.28,
          3.28,
          3.27,
          3.29,
          3.3,
          3.24,
          3.16,
          3.27,
          3.29,
          3.4,
          3.52,
          3.61,
          3.72,
          3.64,
          3.77,
          3.77,
          3.85,
          3.86,
          3.89,
          3.82,
          3.96,
          4.17,
          4.22,
          4.29
         ]
        },
        {
         "marker": {
          "color": "#6a329f"
         },
         "mode": "lines",
         "name": "Castilla-La mancha",
         "type": "scatter",
         "x": [
          2019,
          2018,
          2017,
          2016,
          2015,
          2014,
          2013,
          2012,
          2011,
          2010,
          2009,
          2008,
          2007,
          2006,
          2005,
          2004,
          2003,
          2002,
          2001,
          2000,
          1999,
          1998,
          1997,
          1996
         ],
         "y": [
          2.34,
          2.33,
          2.35,
          2.36,
          2.3,
          2.21,
          2.19,
          2.31,
          2.54,
          2.58,
          2.64,
          2.63,
          2.63,
          2.61,
          2.58,
          2.64,
          2.68,
          2.76,
          2.8,
          2.86,
          2.93,
          2.99,
          3.04,
          3.02
         ]
        },
        {
         "marker": {
          "color": "#c90076"
         },
         "mode": "lines",
         "name": "Castilla y León",
         "type": "scatter",
         "x": [
          2019,
          2018,
          2017,
          2016,
          2015,
          2014,
          2013,
          2012,
          2011,
          2010,
          2009,
          2008,
          2007,
          2006,
          2005,
          2004,
          2003,
          2002,
          2001,
          2000,
          1999,
          1998,
          1997,
          1996
         ],
         "y": [
          3.5,
          3.52,
          3.47,
          3.43,
          3.48,
          3.45,
          3.45,
          3.62,
          3.69,
          3.6,
          3.59,
          3.57,
          3.6,
          3.98,
          3.97,
          4.12,
          4.17,
          4.21,
          4.37,
          4.38,
          4.33,
          4.28,
          4.4,
          4.41
         ]
        },
        {
         "marker": {
          "color": "#990000"
         },
         "mode": "lines",
         "name": "Cataluña",
         "type": "scatter",
         "x": [
          2019,
          2018,
          2017,
          2016,
          2015,
          2014,
          2013,
          2012,
          2011,
          2010,
          2009,
          2008,
          2007,
          2006,
          2005,
          2004,
          2003,
          2002,
          2001,
          2000,
          1999,
          1998,
          1997,
          1996
         ],
         "y": [
          3.84,
          3.88,
          3.89,
          3.85,
          3.83,
          3.81,
          3.76,
          3.93,
          3.96,
          4.11,
          4.17,
          4.19,
          4.26,
          4.35,
          4.35,
          4.47,
          4.44,
          4.61,
          4.57,
          4.65,
          4.69,
          4.66,
          4.73,
          4.86
         ]
        },
        {
         "marker": {
          "color": "#b45f06"
         },
         "mode": "lines",
         "name": "Ceuta",
         "type": "scatter",
         "x": [
          2019,
          2018,
          2017,
          2016,
          2015,
          2014,
          2013,
          2012,
          2011,
          2010,
          2009,
          2008,
          2007,
          2006,
          2005,
          2004,
          2003,
          2002,
          2001,
          2000,
          1999,
          1998,
          1997,
          1996
         ],
         "y": [
          2.12,
          2.08,
          2.08,
          2.1,
          2.11,
          2.13,
          2.13,
          2.35,
          2.34,
          2.33,
          2.55,
          2.72,
          2.53,
          2.54,
          2.59,
          2.59,
          3.19,
          3.22,
          3.17,
          3.09,
          3.24,
          3.04,
          3.49,
          3.73
         ]
        },
        {
         "marker": {
          "color": "#bf9000"
         },
         "mode": "lines",
         "name": "Com. Valenciana",
         "type": "scatter",
         "x": [
          2019,
          2018,
          2017,
          2016,
          2015,
          2014,
          2013,
          2012,
          2011,
          2010,
          2009,
          2008,
          2007,
          2006,
          2005,
          2004,
          2003,
          2002,
          2001,
          2000,
          1999,
          1998,
          1997,
          1996
         ],
         "y": [
          2.32,
          2.37,
          2.37,
          2.36,
          2.36,
          2.35,
          2.33,
          2.32,
          2.39,
          2.46,
          2.43,
          2.44,
          2.52,
          2.49,
          2.51,
          2.58,
          2.6,
          2.68,
          2.71,
          2.82,
          2.93,
          2.94,
          2.92,
          3
         ]
        },
        {
         "marker": {
          "color": "#38761d"
         },
         "mode": "lines",
         "name": "Extremadura",
         "type": "scatter",
         "x": [
          2019,
          2018,
          2017,
          2016,
          2015,
          2014,
          2013,
          2012,
          2011,
          2010,
          2009,
          2008,
          2007,
          2006,
          2005,
          2004,
          2003,
          2002,
          2001,
          2000,
          1999,
          1998,
          1997,
          1996
         ],
         "y": [
          3.36,
          3.3,
          3.27,
          3.26,
          3.3,
          3.48,
          3.51,
          3.48,
          3.56,
          3.6,
          3.54,
          3.62,
          3.55,
          3.44,
          3.48,
          3.46,
          3.67,
          3.66,
          3.6,
          3.64,
          3.56,
          3.66,
          3.73,
          3.75
         ]
        },
        {
         "marker": {
          "color": "#134f5c"
         },
         "mode": "lines",
         "name": "Galicia",
         "type": "scatter",
         "x": [
          2019,
          2018,
          2017,
          2016,
          2015,
          2014,
          2013,
          2012,
          2011,
          2010,
          2009,
          2008,
          2007,
          2006,
          2005,
          2004,
          2003,
          2002,
          2001,
          2000,
          1999,
          1998,
          1997,
          1996
         ],
         "y": [
          3.3,
          3.32,
          3.33,
          3.33,
          3.35,
          3.31,
          3.36,
          3.48,
          3.48,
          3.62,
          3.6,
          3.62,
          3.63,
          3.63,
          3.62,
          3.66,
          3.54,
          3.58,
          3.65,
          3.69,
          3.73,
          3.8,
          3.83,
          3.9
         ]
        },
        {
         "marker": {
          "color": "#0b5394"
         },
         "mode": "lines",
         "name": "La Rioja",
         "type": "scatter",
         "x": [
          2019,
          2018,
          2017,
          2016,
          2015,
          2014,
          2013,
          2012,
          2011,
          2010,
          2009,
          2008,
          2007,
          2006,
          2005,
          2004,
          2003,
          2002,
          2001,
          2000,
          1999,
          1998,
          1997,
          1996
         ],
         "y": [
          3.24,
          3.19,
          3.25,
          3.24,
          3.21,
          3.2,
          3.13,
          2.95,
          2.98,
          2.97,
          2.81,
          3,
          3.06,
          3.13,
          3.15,
          3.36,
          3.14,
          3.18,
          3.22,
          3.18,
          3.32,
          3.74,
          3.77,
          3.63
         ]
        },
        {
         "marker": {
          "color": "#351c75"
         },
         "mode": "lines",
         "name": "Madrid",
         "type": "scatter",
         "x": [
          2019,
          2018,
          2017,
          2016,
          2015,
          2014,
          2013,
          2012,
          2011,
          2010,
          2009,
          2008,
          2007,
          2006,
          2005,
          2004,
          2003,
          2002,
          2001,
          2000,
          1999,
          1998,
          1997,
          1996
         ],
         "y": [
          2.73,
          2.74,
          2.76,
          2.77,
          2.75,
          2.86,
          2.86,
          2.89,
          2.95,
          2.96,
          3.03,
          3.1,
          3.08,
          3.14,
          3.18,
          3.14,
          3.23,
          3.31,
          3.4,
          3.58,
          3.73,
          3.82,
          3.92,
          4.01
         ]
        },
        {
         "marker": {
          "color": "#741b47"
         },
         "mode": "lines",
         "name": "Melilla",
         "type": "scatter",
         "x": [
          2019,
          2018,
          2017,
          2016,
          2015,
          2014,
          2013,
          2012,
          2011,
          2010,
          2009,
          2008,
          2007,
          2006,
          2005,
          2004,
          2003,
          2002,
          2001,
          2000,
          1999,
          1998,
          1997,
          1996
         ],
         "y": [
          1.91,
          1.9,
          1.92,
          1.9,
          1.94,
          1.96,
          1.97,
          2.12,
          2.21,
          2.26,
          2.41,
          2.38,
          2.87,
          2.88,
          3,
          3,
          2.99,
          3,
          2.94,
          3.44,
          3.05,
          3.04,
          3.5,
          3.55
         ]
        },
        {
         "marker": {
          "color": "#e06666"
         },
         "mode": "lines",
         "name": "Murcia",
         "type": "scatter",
         "x": [
          2019,
          2018,
          2017,
          2016,
          2015,
          2014,
          2013,
          2012,
          2011,
          2010,
          2009,
          2008,
          2007,
          2006,
          2005,
          2004,
          2003,
          2002,
          2001,
          2000,
          1999,
          1998,
          1997,
          1996
         ],
         "y": [
          3.26,
          3.22,
          3.18,
          3.24,
          3.24,
          3.2,
          3.18,
          3.15,
          3.15,
          3.11,
          3.11,
          3.14,
          3.16,
          3.13,
          3.13,
          3.1,
          3.04,
          3.02,
          3.3,
          3.29,
          3.42,
          3.37,
          3.3,
          3.39
         ]
        },
        {
         "marker": {
          "color": "#f6b26b"
         },
         "mode": "lines",
         "name": "Navarra",
         "type": "scatter",
         "x": [
          2019,
          2018,
          2017,
          2016,
          2015,
          2014,
          2013,
          2012,
          2011,
          2010,
          2009,
          2008,
          2007,
          2006,
          2005,
          2004,
          2003,
          2002,
          2001,
          2000,
          1999,
          1998,
          1997,
          1996
         ],
         "y": [
          3.36,
          3.31,
          3.32,
          3.33,
          3.33,
          3.37,
          3.4,
          3.54,
          3.82,
          3.82,
          3.84,
          3.86,
          3.86,
          3.6,
          3.85,
          3.9,
          3.93,
          4.03,
          4.15,
          4.21,
          4.28,
          4.67,
          4.85,
          4.81
         ]
        },
        {
         "marker": {
          "color": "#93c47d"
         },
         "mode": "lines",
         "name": "Pais Vasco",
         "type": "scatter",
         "x": [
          2019,
          2018,
          2017,
          2016,
          2015,
          2014,
          2013,
          2012,
          2011,
          2010,
          2009,
          2008,
          2007,
          2006,
          2005,
          2004,
          2003,
          2002,
          2001,
          2000,
          1999,
          1998,
          1997,
          1996
         ],
         "y": [
          3.26,
          3.23,
          3.3,
          3.3,
          3.35,
          3.37,
          3.4,
          3.6,
          3.63,
          3.69,
          3.71,
          3.75,
          3.78,
          3.8,
          3.85,
          3.82,
          3.82,
          3.89,
          3.9,
          3.96,
          4.03,
          4.02,
          4.05,
          4.18
         ]
        }
       ],
       "layout": {
        "template": {
         "data": {
          "bar": [
           {
            "error_x": {
             "color": "#2a3f5f"
            },
            "error_y": {
             "color": "#2a3f5f"
            },
            "marker": {
             "line": {
              "color": "#E5ECF6",
              "width": 0.5
             },
             "pattern": {
              "fillmode": "overlay",
              "size": 10,
              "solidity": 0.2
             }
            },
            "type": "bar"
           }
          ],
          "barpolar": [
           {
            "marker": {
             "line": {
              "color": "#E5ECF6",
              "width": 0.5
             },
             "pattern": {
              "fillmode": "overlay",
              "size": 10,
              "solidity": 0.2
             }
            },
            "type": "barpolar"
           }
          ],
          "carpet": [
           {
            "aaxis": {
             "endlinecolor": "#2a3f5f",
             "gridcolor": "white",
             "linecolor": "white",
             "minorgridcolor": "white",
             "startlinecolor": "#2a3f5f"
            },
            "baxis": {
             "endlinecolor": "#2a3f5f",
             "gridcolor": "white",
             "linecolor": "white",
             "minorgridcolor": "white",
             "startlinecolor": "#2a3f5f"
            },
            "type": "carpet"
           }
          ],
          "choropleth": [
           {
            "colorbar": {
             "outlinewidth": 0,
             "ticks": ""
            },
            "type": "choropleth"
           }
          ],
          "contour": [
           {
            "colorbar": {
             "outlinewidth": 0,
             "ticks": ""
            },
            "colorscale": [
             [
              0,
              "#0d0887"
             ],
             [
              0.1111111111111111,
              "#46039f"
             ],
             [
              0.2222222222222222,
              "#7201a8"
             ],
             [
              0.3333333333333333,
              "#9c179e"
             ],
             [
              0.4444444444444444,
              "#bd3786"
             ],
             [
              0.5555555555555556,
              "#d8576b"
             ],
             [
              0.6666666666666666,
              "#ed7953"
             ],
             [
              0.7777777777777778,
              "#fb9f3a"
             ],
             [
              0.8888888888888888,
              "#fdca26"
             ],
             [
              1,
              "#f0f921"
             ]
            ],
            "type": "contour"
           }
          ],
          "contourcarpet": [
           {
            "colorbar": {
             "outlinewidth": 0,
             "ticks": ""
            },
            "type": "contourcarpet"
           }
          ],
          "heatmap": [
           {
            "colorbar": {
             "outlinewidth": 0,
             "ticks": ""
            },
            "colorscale": [
             [
              0,
              "#0d0887"
             ],
             [
              0.1111111111111111,
              "#46039f"
             ],
             [
              0.2222222222222222,
              "#7201a8"
             ],
             [
              0.3333333333333333,
              "#9c179e"
             ],
             [
              0.4444444444444444,
              "#bd3786"
             ],
             [
              0.5555555555555556,
              "#d8576b"
             ],
             [
              0.6666666666666666,
              "#ed7953"
             ],
             [
              0.7777777777777778,
              "#fb9f3a"
             ],
             [
              0.8888888888888888,
              "#fdca26"
             ],
             [
              1,
              "#f0f921"
             ]
            ],
            "type": "heatmap"
           }
          ],
          "heatmapgl": [
           {
            "colorbar": {
             "outlinewidth": 0,
             "ticks": ""
            },
            "colorscale": [
             [
              0,
              "#0d0887"
             ],
             [
              0.1111111111111111,
              "#46039f"
             ],
             [
              0.2222222222222222,
              "#7201a8"
             ],
             [
              0.3333333333333333,
              "#9c179e"
             ],
             [
              0.4444444444444444,
              "#bd3786"
             ],
             [
              0.5555555555555556,
              "#d8576b"
             ],
             [
              0.6666666666666666,
              "#ed7953"
             ],
             [
              0.7777777777777778,
              "#fb9f3a"
             ],
             [
              0.8888888888888888,
              "#fdca26"
             ],
             [
              1,
              "#f0f921"
             ]
            ],
            "type": "heatmapgl"
           }
          ],
          "histogram": [
           {
            "marker": {
             "pattern": {
              "fillmode": "overlay",
              "size": 10,
              "solidity": 0.2
             }
            },
            "type": "histogram"
           }
          ],
          "histogram2d": [
           {
            "colorbar": {
             "outlinewidth": 0,
             "ticks": ""
            },
            "colorscale": [
             [
              0,
              "#0d0887"
             ],
             [
              0.1111111111111111,
              "#46039f"
             ],
             [
              0.2222222222222222,
              "#7201a8"
             ],
             [
              0.3333333333333333,
              "#9c179e"
             ],
             [
              0.4444444444444444,
              "#bd3786"
             ],
             [
              0.5555555555555556,
              "#d8576b"
             ],
             [
              0.6666666666666666,
              "#ed7953"
             ],
             [
              0.7777777777777778,
              "#fb9f3a"
             ],
             [
              0.8888888888888888,
              "#fdca26"
             ],
             [
              1,
              "#f0f921"
             ]
            ],
            "type": "histogram2d"
           }
          ],
          "histogram2dcontour": [
           {
            "colorbar": {
             "outlinewidth": 0,
             "ticks": ""
            },
            "colorscale": [
             [
              0,
              "#0d0887"
             ],
             [
              0.1111111111111111,
              "#46039f"
             ],
             [
              0.2222222222222222,
              "#7201a8"
             ],
             [
              0.3333333333333333,
              "#9c179e"
             ],
             [
              0.4444444444444444,
              "#bd3786"
             ],
             [
              0.5555555555555556,
              "#d8576b"
             ],
             [
              0.6666666666666666,
              "#ed7953"
             ],
             [
              0.7777777777777778,
              "#fb9f3a"
             ],
             [
              0.8888888888888888,
              "#fdca26"
             ],
             [
              1,
              "#f0f921"
             ]
            ],
            "type": "histogram2dcontour"
           }
          ],
          "mesh3d": [
           {
            "colorbar": {
             "outlinewidth": 0,
             "ticks": ""
            },
            "type": "mesh3d"
           }
          ],
          "parcoords": [
           {
            "line": {
             "colorbar": {
              "outlinewidth": 0,
              "ticks": ""
             }
            },
            "type": "parcoords"
           }
          ],
          "pie": [
           {
            "automargin": true,
            "type": "pie"
           }
          ],
          "scatter": [
           {
            "marker": {
             "colorbar": {
              "outlinewidth": 0,
              "ticks": ""
             }
            },
            "type": "scatter"
           }
          ],
          "scatter3d": [
           {
            "line": {
             "colorbar": {
              "outlinewidth": 0,
              "ticks": ""
             }
            },
            "marker": {
             "colorbar": {
              "outlinewidth": 0,
              "ticks": ""
             }
            },
            "type": "scatter3d"
           }
          ],
          "scattercarpet": [
           {
            "marker": {
             "colorbar": {
              "outlinewidth": 0,
              "ticks": ""
             }
            },
            "type": "scattercarpet"
           }
          ],
          "scattergeo": [
           {
            "marker": {
             "colorbar": {
              "outlinewidth": 0,
              "ticks": ""
             }
            },
            "type": "scattergeo"
           }
          ],
          "scattergl": [
           {
            "marker": {
             "colorbar": {
              "outlinewidth": 0,
              "ticks": ""
             }
            },
            "type": "scattergl"
           }
          ],
          "scattermapbox": [
           {
            "marker": {
             "colorbar": {
              "outlinewidth": 0,
              "ticks": ""
             }
            },
            "type": "scattermapbox"
           }
          ],
          "scatterpolar": [
           {
            "marker": {
             "colorbar": {
              "outlinewidth": 0,
              "ticks": ""
             }
            },
            "type": "scatterpolar"
           }
          ],
          "scatterpolargl": [
           {
            "marker": {
             "colorbar": {
              "outlinewidth": 0,
              "ticks": ""
             }
            },
            "type": "scatterpolargl"
           }
          ],
          "scatterternary": [
           {
            "marker": {
             "colorbar": {
              "outlinewidth": 0,
              "ticks": ""
             }
            },
            "type": "scatterternary"
           }
          ],
          "surface": [
           {
            "colorbar": {
             "outlinewidth": 0,
             "ticks": ""
            },
            "colorscale": [
             [
              0,
              "#0d0887"
             ],
             [
              0.1111111111111111,
              "#46039f"
             ],
             [
              0.2222222222222222,
              "#7201a8"
             ],
             [
              0.3333333333333333,
              "#9c179e"
             ],
             [
              0.4444444444444444,
              "#bd3786"
             ],
             [
              0.5555555555555556,
              "#d8576b"
             ],
             [
              0.6666666666666666,
              "#ed7953"
             ],
             [
              0.7777777777777778,
              "#fb9f3a"
             ],
             [
              0.8888888888888888,
              "#fdca26"
             ],
             [
              1,
              "#f0f921"
             ]
            ],
            "type": "surface"
           }
          ],
          "table": [
           {
            "cells": {
             "fill": {
              "color": "#EBF0F8"
             },
             "line": {
              "color": "white"
             }
            },
            "header": {
             "fill": {
              "color": "#C8D4E3"
             },
             "line": {
              "color": "white"
             }
            },
            "type": "table"
           }
          ]
         },
         "layout": {
          "annotationdefaults": {
           "arrowcolor": "#2a3f5f",
           "arrowhead": 0,
           "arrowwidth": 1
          },
          "autotypenumbers": "strict",
          "coloraxis": {
           "colorbar": {
            "outlinewidth": 0,
            "ticks": ""
           }
          },
          "colorscale": {
           "diverging": [
            [
             0,
             "#8e0152"
            ],
            [
             0.1,
             "#c51b7d"
            ],
            [
             0.2,
             "#de77ae"
            ],
            [
             0.3,
             "#f1b6da"
            ],
            [
             0.4,
             "#fde0ef"
            ],
            [
             0.5,
             "#f7f7f7"
            ],
            [
             0.6,
             "#e6f5d0"
            ],
            [
             0.7,
             "#b8e186"
            ],
            [
             0.8,
             "#7fbc41"
            ],
            [
             0.9,
             "#4d9221"
            ],
            [
             1,
             "#276419"
            ]
           ],
           "sequential": [
            [
             0,
             "#0d0887"
            ],
            [
             0.1111111111111111,
             "#46039f"
            ],
            [
             0.2222222222222222,
             "#7201a8"
            ],
            [
             0.3333333333333333,
             "#9c179e"
            ],
            [
             0.4444444444444444,
             "#bd3786"
            ],
            [
             0.5555555555555556,
             "#d8576b"
            ],
            [
             0.6666666666666666,
             "#ed7953"
            ],
            [
             0.7777777777777778,
             "#fb9f3a"
            ],
            [
             0.8888888888888888,
             "#fdca26"
            ],
            [
             1,
             "#f0f921"
            ]
           ],
           "sequentialminus": [
            [
             0,
             "#0d0887"
            ],
            [
             0.1111111111111111,
             "#46039f"
            ],
            [
             0.2222222222222222,
             "#7201a8"
            ],
            [
             0.3333333333333333,
             "#9c179e"
            ],
            [
             0.4444444444444444,
             "#bd3786"
            ],
            [
             0.5555555555555556,
             "#d8576b"
            ],
            [
             0.6666666666666666,
             "#ed7953"
            ],
            [
             0.7777777777777778,
             "#fb9f3a"
            ],
            [
             0.8888888888888888,
             "#fdca26"
            ],
            [
             1,
             "#f0f921"
            ]
           ]
          },
          "colorway": [
           "#636efa",
           "#EF553B",
           "#00cc96",
           "#ab63fa",
           "#FFA15A",
           "#19d3f3",
           "#FF6692",
           "#B6E880",
           "#FF97FF",
           "#FECB52"
          ],
          "font": {
           "color": "#2a3f5f"
          },
          "geo": {
           "bgcolor": "white",
           "lakecolor": "white",
           "landcolor": "#E5ECF6",
           "showlakes": true,
           "showland": true,
           "subunitcolor": "white"
          },
          "hoverlabel": {
           "align": "left"
          },
          "hovermode": "closest",
          "mapbox": {
           "style": "light"
          },
          "paper_bgcolor": "white",
          "plot_bgcolor": "#E5ECF6",
          "polar": {
           "angularaxis": {
            "gridcolor": "white",
            "linecolor": "white",
            "ticks": ""
           },
           "bgcolor": "#E5ECF6",
           "radialaxis": {
            "gridcolor": "white",
            "linecolor": "white",
            "ticks": ""
           }
          },
          "scene": {
           "xaxis": {
            "backgroundcolor": "#E5ECF6",
            "gridcolor": "white",
            "gridwidth": 2,
            "linecolor": "white",
            "showbackground": true,
            "ticks": "",
            "zerolinecolor": "white"
           },
           "yaxis": {
            "backgroundcolor": "#E5ECF6",
            "gridcolor": "white",
            "gridwidth": 2,
            "linecolor": "white",
            "showbackground": true,
            "ticks": "",
            "zerolinecolor": "white"
           },
           "zaxis": {
            "backgroundcolor": "#E5ECF6",
            "gridcolor": "white",
            "gridwidth": 2,
            "linecolor": "white",
            "showbackground": true,
            "ticks": "",
            "zerolinecolor": "white"
           }
          },
          "shapedefaults": {
           "line": {
            "color": "#2a3f5f"
           }
          },
          "ternary": {
           "aaxis": {
            "gridcolor": "white",
            "linecolor": "white",
            "ticks": ""
           },
           "baxis": {
            "gridcolor": "white",
            "linecolor": "white",
            "ticks": ""
           },
           "bgcolor": "#E5ECF6",
           "caxis": {
            "gridcolor": "white",
            "linecolor": "white",
            "ticks": ""
           }
          },
          "title": {
           "x": 0.05
          },
          "xaxis": {
           "automargin": true,
           "gridcolor": "white",
           "linecolor": "white",
           "ticks": "",
           "title": {
            "standoff": 15
           },
           "zerolinecolor": "white",
           "zerolinewidth": 2
          },
          "yaxis": {
           "automargin": true,
           "gridcolor": "white",
           "linecolor": "white",
           "ticks": "",
           "title": {
            "standoff": 15
           },
           "zerolinecolor": "white",
           "zerolinewidth": 2
          }
         }
        },
        "title": {
         "text": "Camas hospitalarias x 1.000 habitantes"
        },
        "xaxis": {
         "title": {
          "text": "Año"
         }
        },
        "yaxis": {
         "title": {
          "text": "Camas x 1000 hab"
         }
        }
       }
      },
      "text/html": [
       "<div>                            <div id=\"d2f9610c-75ac-4d3e-b2f9-b2ad4891360b\" class=\"plotly-graph-div\" style=\"height:525px; width:100%;\"></div>            <script type=\"text/javascript\">                require([\"plotly\"], function(Plotly) {                    window.PLOTLYENV=window.PLOTLYENV || {};                                    if (document.getElementById(\"d2f9610c-75ac-4d3e-b2f9-b2ad4891360b\")) {                    Plotly.newPlot(                        \"d2f9610c-75ac-4d3e-b2f9-b2ad4891360b\",                        [{\"marker\":{\"color\":\"#000000\"},\"mode\":\"lines\",\"name\":\"Espa\\u00f1a (total)\",\"x\":[2019,2018,2017,2016,2015,2014,2013,2012,2011,2010,2009,2008,2007,2006,2005,2004,2003,2002,2001,2000,1999,1998,1997,1996],\"y\":[2.95,2.98,2.98,2.97,2.97,2.97,2.97,3.03,3.09,3.15,3.19,3.22,3.27,3.32,3.36,3.42,3.45,3.54,3.59,3.68,3.75,3.78,3.82,3.89],\"type\":\"scatter\"},{\"marker\":{\"color\":\"#f44336\"},\"mode\":\"lines\",\"name\":\"Andalucia\",\"x\":[2019,2018,2017,2016,2015,2014,2013,2012,2011,2010,2009,2008,2007,2006,2005,2004,2003,2002,2001,2000,1999,1998,1997,1996],\"y\":[2.18,2.19,2.2,2.17,2.2,2.17,2.19,2.22,2.27,2.3,2.38,2.41,2.52,2.54,2.59,2.67,2.72,2.8,2.89,2.96,2.98,3.01,3.02,3.05],\"type\":\"scatter\"},{\"marker\":{\"color\":\"#744700\"},\"mode\":\"lines\",\"name\":\"Arag\\u00f3n\",\"x\":[2019,2018,2017,2016,2015,2014,2013,2012,2011,2010,2009,2008,2007,2006,2005,2004,2003,2002,2001,2000,1999,1998,1997,1996],\"y\":[3.63,3.75,3.75,3.71,3.68,3.67,3.63,3.68,3.77,3.81,3.83,3.84,3.83,3.96,3.99,4.05,4.12,4.16,4.19,4.23,4.29,4.39,4.39,4.51],\"type\":\"scatter\"},{\"marker\":{\"color\":\"#ce7e00\"},\"mode\":\"lines\",\"name\":\"Asturias\",\"x\":[2019,2018,2017,2016,2015,2014,2013,2012,2011,2010,2009,2008,2007,2006,2005,2004,2003,2002,2001,2000,1999,1998,1997,1996],\"y\":[3.46,3.4,3.38,3.28,3.26,3.25,3.31,3.39,3.39,3.46,3.55,3.56,3.63,3.63,3.63,3.57,3.66,3.77,3.61,3.85,3.76,3.76,3.83,3.83],\"type\":\"scatter\"},{\"marker\":{\"color\":\"#8fce00\"},\"mode\":\"lines\",\"name\":\"Baleares, Islas\",\"x\":[2019,2018,2017,2016,2015,2014,2013,2012,2011,2010,2009,2008,2007,2006,2005,2004,2003,2002,2001,2000,1999,1998,1997,1996],\"y\":[2.88,3.0,3.0,3.09,3.1,2.99,2.96,2.99,3.01,3.11,3.11,3.24,3.3,3.19,3.32,3.46,3.6,3.78,3.94,3.99,4.18,4.4,4.44,4.35],\"type\":\"scatter\"},{\"marker\":{\"color\":\"#2986cc\"},\"mode\":\"lines\",\"name\":\"Canarias, Islas\",\"x\":[2019,2018,2017,2016,2015,2014,2013,2012,2011,2010,2009,2008,2007,2006,2005,2004,2003,2002,2001,2000,1999,1998,1997,1996],\"y\":[2.91,3.11,3.11,3.1,3.15,3.12,3.11,3.12,3.18,3.28,3.31,3.36,3.47,3.59,3.95,4.01,4.13,4.22,4.39,4.52,4.91,4.67,4.73,4.77],\"type\":\"scatter\"},{\"marker\":{\"color\":\"#16537e\"},\"mode\":\"lines\",\"name\":\"Cantabria\",\"x\":[2019,2018,2017,2016,2015,2014,2013,2012,2011,2010,2009,2008,2007,2006,2005,2004,2003,2002,2001,2000,1999,1998,1997,1996],\"y\":[3.28,3.28,3.27,3.29,3.3,3.24,3.16,3.27,3.29,3.4,3.52,3.61,3.72,3.64,3.77,3.77,3.85,3.86,3.89,3.82,3.96,4.17,4.22,4.29],\"type\":\"scatter\"},{\"marker\":{\"color\":\"#6a329f\"},\"mode\":\"lines\",\"name\":\"Castilla-La mancha\",\"x\":[2019,2018,2017,2016,2015,2014,2013,2012,2011,2010,2009,2008,2007,2006,2005,2004,2003,2002,2001,2000,1999,1998,1997,1996],\"y\":[2.34,2.33,2.35,2.36,2.3,2.21,2.19,2.31,2.54,2.58,2.64,2.63,2.63,2.61,2.58,2.64,2.68,2.76,2.8,2.86,2.93,2.99,3.04,3.02],\"type\":\"scatter\"},{\"marker\":{\"color\":\"#c90076\"},\"mode\":\"lines\",\"name\":\"Castilla y Le\\u00f3n\",\"x\":[2019,2018,2017,2016,2015,2014,2013,2012,2011,2010,2009,2008,2007,2006,2005,2004,2003,2002,2001,2000,1999,1998,1997,1996],\"y\":[3.5,3.52,3.47,3.43,3.48,3.45,3.45,3.62,3.69,3.6,3.59,3.57,3.6,3.98,3.97,4.12,4.17,4.21,4.37,4.38,4.33,4.28,4.4,4.41],\"type\":\"scatter\"},{\"marker\":{\"color\":\"#990000\"},\"mode\":\"lines\",\"name\":\"Catalu\\u00f1a\",\"x\":[2019,2018,2017,2016,2015,2014,2013,2012,2011,2010,2009,2008,2007,2006,2005,2004,2003,2002,2001,2000,1999,1998,1997,1996],\"y\":[3.84,3.88,3.89,3.85,3.83,3.81,3.76,3.93,3.96,4.11,4.17,4.19,4.26,4.35,4.35,4.47,4.44,4.61,4.57,4.65,4.69,4.66,4.73,4.86],\"type\":\"scatter\"},{\"marker\":{\"color\":\"#b45f06\"},\"mode\":\"lines\",\"name\":\"Ceuta\",\"x\":[2019,2018,2017,2016,2015,2014,2013,2012,2011,2010,2009,2008,2007,2006,2005,2004,2003,2002,2001,2000,1999,1998,1997,1996],\"y\":[2.12,2.08,2.08,2.1,2.11,2.13,2.13,2.35,2.34,2.33,2.55,2.72,2.53,2.54,2.59,2.59,3.19,3.22,3.17,3.09,3.24,3.04,3.49,3.73],\"type\":\"scatter\"},{\"marker\":{\"color\":\"#bf9000\"},\"mode\":\"lines\",\"name\":\"Com. Valenciana\",\"x\":[2019,2018,2017,2016,2015,2014,2013,2012,2011,2010,2009,2008,2007,2006,2005,2004,2003,2002,2001,2000,1999,1998,1997,1996],\"y\":[2.32,2.37,2.37,2.36,2.36,2.35,2.33,2.32,2.39,2.46,2.43,2.44,2.52,2.49,2.51,2.58,2.6,2.68,2.71,2.82,2.93,2.94,2.92,3.0],\"type\":\"scatter\"},{\"marker\":{\"color\":\"#38761d\"},\"mode\":\"lines\",\"name\":\"Extremadura\",\"x\":[2019,2018,2017,2016,2015,2014,2013,2012,2011,2010,2009,2008,2007,2006,2005,2004,2003,2002,2001,2000,1999,1998,1997,1996],\"y\":[3.36,3.3,3.27,3.26,3.3,3.48,3.51,3.48,3.56,3.6,3.54,3.62,3.55,3.44,3.48,3.46,3.67,3.66,3.6,3.64,3.56,3.66,3.73,3.75],\"type\":\"scatter\"},{\"marker\":{\"color\":\"#134f5c\"},\"mode\":\"lines\",\"name\":\"Galicia\",\"x\":[2019,2018,2017,2016,2015,2014,2013,2012,2011,2010,2009,2008,2007,2006,2005,2004,2003,2002,2001,2000,1999,1998,1997,1996],\"y\":[3.3,3.32,3.33,3.33,3.35,3.31,3.36,3.48,3.48,3.62,3.6,3.62,3.63,3.63,3.62,3.66,3.54,3.58,3.65,3.69,3.73,3.8,3.83,3.9],\"type\":\"scatter\"},{\"marker\":{\"color\":\"#0b5394\"},\"mode\":\"lines\",\"name\":\"La Rioja\",\"x\":[2019,2018,2017,2016,2015,2014,2013,2012,2011,2010,2009,2008,2007,2006,2005,2004,2003,2002,2001,2000,1999,1998,1997,1996],\"y\":[3.24,3.19,3.25,3.24,3.21,3.2,3.13,2.95,2.98,2.97,2.81,3.0,3.06,3.13,3.15,3.36,3.14,3.18,3.22,3.18,3.32,3.74,3.77,3.63],\"type\":\"scatter\"},{\"marker\":{\"color\":\"#351c75\"},\"mode\":\"lines\",\"name\":\"Madrid\",\"x\":[2019,2018,2017,2016,2015,2014,2013,2012,2011,2010,2009,2008,2007,2006,2005,2004,2003,2002,2001,2000,1999,1998,1997,1996],\"y\":[2.73,2.74,2.76,2.77,2.75,2.86,2.86,2.89,2.95,2.96,3.03,3.1,3.08,3.14,3.18,3.14,3.23,3.31,3.4,3.58,3.73,3.82,3.92,4.01],\"type\":\"scatter\"},{\"marker\":{\"color\":\"#741b47\"},\"mode\":\"lines\",\"name\":\"Melilla\",\"x\":[2019,2018,2017,2016,2015,2014,2013,2012,2011,2010,2009,2008,2007,2006,2005,2004,2003,2002,2001,2000,1999,1998,1997,1996],\"y\":[1.91,1.9,1.92,1.9,1.94,1.96,1.97,2.12,2.21,2.26,2.41,2.38,2.87,2.88,3.0,3.0,2.99,3.0,2.94,3.44,3.05,3.04,3.5,3.55],\"type\":\"scatter\"},{\"marker\":{\"color\":\"#e06666\"},\"mode\":\"lines\",\"name\":\"Murcia\",\"x\":[2019,2018,2017,2016,2015,2014,2013,2012,2011,2010,2009,2008,2007,2006,2005,2004,2003,2002,2001,2000,1999,1998,1997,1996],\"y\":[3.26,3.22,3.18,3.24,3.24,3.2,3.18,3.15,3.15,3.11,3.11,3.14,3.16,3.13,3.13,3.1,3.04,3.02,3.3,3.29,3.42,3.37,3.3,3.39],\"type\":\"scatter\"},{\"marker\":{\"color\":\"#f6b26b\"},\"mode\":\"lines\",\"name\":\"Navarra\",\"x\":[2019,2018,2017,2016,2015,2014,2013,2012,2011,2010,2009,2008,2007,2006,2005,2004,2003,2002,2001,2000,1999,1998,1997,1996],\"y\":[3.36,3.31,3.32,3.33,3.33,3.37,3.4,3.54,3.82,3.82,3.84,3.86,3.86,3.6,3.85,3.9,3.93,4.03,4.15,4.21,4.28,4.67,4.85,4.81],\"type\":\"scatter\"},{\"marker\":{\"color\":\"#93c47d\"},\"mode\":\"lines\",\"name\":\"Pais Vasco\",\"x\":[2019,2018,2017,2016,2015,2014,2013,2012,2011,2010,2009,2008,2007,2006,2005,2004,2003,2002,2001,2000,1999,1998,1997,1996],\"y\":[3.26,3.23,3.3,3.3,3.35,3.37,3.4,3.6,3.63,3.69,3.71,3.75,3.78,3.8,3.85,3.82,3.82,3.89,3.9,3.96,4.03,4.02,4.05,4.18],\"type\":\"scatter\"}],                        {\"template\":{\"data\":{\"barpolar\":[{\"marker\":{\"line\":{\"color\":\"#E5ECF6\",\"width\":0.5},\"pattern\":{\"fillmode\":\"overlay\",\"size\":10,\"solidity\":0.2}},\"type\":\"barpolar\"}],\"bar\":[{\"error_x\":{\"color\":\"#2a3f5f\"},\"error_y\":{\"color\":\"#2a3f5f\"},\"marker\":{\"line\":{\"color\":\"#E5ECF6\",\"width\":0.5},\"pattern\":{\"fillmode\":\"overlay\",\"size\":10,\"solidity\":0.2}},\"type\":\"bar\"}],\"carpet\":[{\"aaxis\":{\"endlinecolor\":\"#2a3f5f\",\"gridcolor\":\"white\",\"linecolor\":\"white\",\"minorgridcolor\":\"white\",\"startlinecolor\":\"#2a3f5f\"},\"baxis\":{\"endlinecolor\":\"#2a3f5f\",\"gridcolor\":\"white\",\"linecolor\":\"white\",\"minorgridcolor\":\"white\",\"startlinecolor\":\"#2a3f5f\"},\"type\":\"carpet\"}],\"choropleth\":[{\"colorbar\":{\"outlinewidth\":0,\"ticks\":\"\"},\"type\":\"choropleth\"}],\"contourcarpet\":[{\"colorbar\":{\"outlinewidth\":0,\"ticks\":\"\"},\"type\":\"contourcarpet\"}],\"contour\":[{\"colorbar\":{\"outlinewidth\":0,\"ticks\":\"\"},\"colorscale\":[[0.0,\"#0d0887\"],[0.1111111111111111,\"#46039f\"],[0.2222222222222222,\"#7201a8\"],[0.3333333333333333,\"#9c179e\"],[0.4444444444444444,\"#bd3786\"],[0.5555555555555556,\"#d8576b\"],[0.6666666666666666,\"#ed7953\"],[0.7777777777777778,\"#fb9f3a\"],[0.8888888888888888,\"#fdca26\"],[1.0,\"#f0f921\"]],\"type\":\"contour\"}],\"heatmapgl\":[{\"colorbar\":{\"outlinewidth\":0,\"ticks\":\"\"},\"colorscale\":[[0.0,\"#0d0887\"],[0.1111111111111111,\"#46039f\"],[0.2222222222222222,\"#7201a8\"],[0.3333333333333333,\"#9c179e\"],[0.4444444444444444,\"#bd3786\"],[0.5555555555555556,\"#d8576b\"],[0.6666666666666666,\"#ed7953\"],[0.7777777777777778,\"#fb9f3a\"],[0.8888888888888888,\"#fdca26\"],[1.0,\"#f0f921\"]],\"type\":\"heatmapgl\"}],\"heatmap\":[{\"colorbar\":{\"outlinewidth\":0,\"ticks\":\"\"},\"colorscale\":[[0.0,\"#0d0887\"],[0.1111111111111111,\"#46039f\"],[0.2222222222222222,\"#7201a8\"],[0.3333333333333333,\"#9c179e\"],[0.4444444444444444,\"#bd3786\"],[0.5555555555555556,\"#d8576b\"],[0.6666666666666666,\"#ed7953\"],[0.7777777777777778,\"#fb9f3a\"],[0.8888888888888888,\"#fdca26\"],[1.0,\"#f0f921\"]],\"type\":\"heatmap\"}],\"histogram2dcontour\":[{\"colorbar\":{\"outlinewidth\":0,\"ticks\":\"\"},\"colorscale\":[[0.0,\"#0d0887\"],[0.1111111111111111,\"#46039f\"],[0.2222222222222222,\"#7201a8\"],[0.3333333333333333,\"#9c179e\"],[0.4444444444444444,\"#bd3786\"],[0.5555555555555556,\"#d8576b\"],[0.6666666666666666,\"#ed7953\"],[0.7777777777777778,\"#fb9f3a\"],[0.8888888888888888,\"#fdca26\"],[1.0,\"#f0f921\"]],\"type\":\"histogram2dcontour\"}],\"histogram2d\":[{\"colorbar\":{\"outlinewidth\":0,\"ticks\":\"\"},\"colorscale\":[[0.0,\"#0d0887\"],[0.1111111111111111,\"#46039f\"],[0.2222222222222222,\"#7201a8\"],[0.3333333333333333,\"#9c179e\"],[0.4444444444444444,\"#bd3786\"],[0.5555555555555556,\"#d8576b\"],[0.6666666666666666,\"#ed7953\"],[0.7777777777777778,\"#fb9f3a\"],[0.8888888888888888,\"#fdca26\"],[1.0,\"#f0f921\"]],\"type\":\"histogram2d\"}],\"histogram\":[{\"marker\":{\"pattern\":{\"fillmode\":\"overlay\",\"size\":10,\"solidity\":0.2}},\"type\":\"histogram\"}],\"mesh3d\":[{\"colorbar\":{\"outlinewidth\":0,\"ticks\":\"\"},\"type\":\"mesh3d\"}],\"parcoords\":[{\"line\":{\"colorbar\":{\"outlinewidth\":0,\"ticks\":\"\"}},\"type\":\"parcoords\"}],\"pie\":[{\"automargin\":true,\"type\":\"pie\"}],\"scatter3d\":[{\"line\":{\"colorbar\":{\"outlinewidth\":0,\"ticks\":\"\"}},\"marker\":{\"colorbar\":{\"outlinewidth\":0,\"ticks\":\"\"}},\"type\":\"scatter3d\"}],\"scattercarpet\":[{\"marker\":{\"colorbar\":{\"outlinewidth\":0,\"ticks\":\"\"}},\"type\":\"scattercarpet\"}],\"scattergeo\":[{\"marker\":{\"colorbar\":{\"outlinewidth\":0,\"ticks\":\"\"}},\"type\":\"scattergeo\"}],\"scattergl\":[{\"marker\":{\"colorbar\":{\"outlinewidth\":0,\"ticks\":\"\"}},\"type\":\"scattergl\"}],\"scattermapbox\":[{\"marker\":{\"colorbar\":{\"outlinewidth\":0,\"ticks\":\"\"}},\"type\":\"scattermapbox\"}],\"scatterpolargl\":[{\"marker\":{\"colorbar\":{\"outlinewidth\":0,\"ticks\":\"\"}},\"type\":\"scatterpolargl\"}],\"scatterpolar\":[{\"marker\":{\"colorbar\":{\"outlinewidth\":0,\"ticks\":\"\"}},\"type\":\"scatterpolar\"}],\"scatter\":[{\"marker\":{\"colorbar\":{\"outlinewidth\":0,\"ticks\":\"\"}},\"type\":\"scatter\"}],\"scatterternary\":[{\"marker\":{\"colorbar\":{\"outlinewidth\":0,\"ticks\":\"\"}},\"type\":\"scatterternary\"}],\"surface\":[{\"colorbar\":{\"outlinewidth\":0,\"ticks\":\"\"},\"colorscale\":[[0.0,\"#0d0887\"],[0.1111111111111111,\"#46039f\"],[0.2222222222222222,\"#7201a8\"],[0.3333333333333333,\"#9c179e\"],[0.4444444444444444,\"#bd3786\"],[0.5555555555555556,\"#d8576b\"],[0.6666666666666666,\"#ed7953\"],[0.7777777777777778,\"#fb9f3a\"],[0.8888888888888888,\"#fdca26\"],[1.0,\"#f0f921\"]],\"type\":\"surface\"}],\"table\":[{\"cells\":{\"fill\":{\"color\":\"#EBF0F8\"},\"line\":{\"color\":\"white\"}},\"header\":{\"fill\":{\"color\":\"#C8D4E3\"},\"line\":{\"color\":\"white\"}},\"type\":\"table\"}]},\"layout\":{\"annotationdefaults\":{\"arrowcolor\":\"#2a3f5f\",\"arrowhead\":0,\"arrowwidth\":1},\"autotypenumbers\":\"strict\",\"coloraxis\":{\"colorbar\":{\"outlinewidth\":0,\"ticks\":\"\"}},\"colorscale\":{\"diverging\":[[0,\"#8e0152\"],[0.1,\"#c51b7d\"],[0.2,\"#de77ae\"],[0.3,\"#f1b6da\"],[0.4,\"#fde0ef\"],[0.5,\"#f7f7f7\"],[0.6,\"#e6f5d0\"],[0.7,\"#b8e186\"],[0.8,\"#7fbc41\"],[0.9,\"#4d9221\"],[1,\"#276419\"]],\"sequential\":[[0.0,\"#0d0887\"],[0.1111111111111111,\"#46039f\"],[0.2222222222222222,\"#7201a8\"],[0.3333333333333333,\"#9c179e\"],[0.4444444444444444,\"#bd3786\"],[0.5555555555555556,\"#d8576b\"],[0.6666666666666666,\"#ed7953\"],[0.7777777777777778,\"#fb9f3a\"],[0.8888888888888888,\"#fdca26\"],[1.0,\"#f0f921\"]],\"sequentialminus\":[[0.0,\"#0d0887\"],[0.1111111111111111,\"#46039f\"],[0.2222222222222222,\"#7201a8\"],[0.3333333333333333,\"#9c179e\"],[0.4444444444444444,\"#bd3786\"],[0.5555555555555556,\"#d8576b\"],[0.6666666666666666,\"#ed7953\"],[0.7777777777777778,\"#fb9f3a\"],[0.8888888888888888,\"#fdca26\"],[1.0,\"#f0f921\"]]},\"colorway\":[\"#636efa\",\"#EF553B\",\"#00cc96\",\"#ab63fa\",\"#FFA15A\",\"#19d3f3\",\"#FF6692\",\"#B6E880\",\"#FF97FF\",\"#FECB52\"],\"font\":{\"color\":\"#2a3f5f\"},\"geo\":{\"bgcolor\":\"white\",\"lakecolor\":\"white\",\"landcolor\":\"#E5ECF6\",\"showlakes\":true,\"showland\":true,\"subunitcolor\":\"white\"},\"hoverlabel\":{\"align\":\"left\"},\"hovermode\":\"closest\",\"mapbox\":{\"style\":\"light\"},\"paper_bgcolor\":\"white\",\"plot_bgcolor\":\"#E5ECF6\",\"polar\":{\"angularaxis\":{\"gridcolor\":\"white\",\"linecolor\":\"white\",\"ticks\":\"\"},\"bgcolor\":\"#E5ECF6\",\"radialaxis\":{\"gridcolor\":\"white\",\"linecolor\":\"white\",\"ticks\":\"\"}},\"scene\":{\"xaxis\":{\"backgroundcolor\":\"#E5ECF6\",\"gridcolor\":\"white\",\"gridwidth\":2,\"linecolor\":\"white\",\"showbackground\":true,\"ticks\":\"\",\"zerolinecolor\":\"white\"},\"yaxis\":{\"backgroundcolor\":\"#E5ECF6\",\"gridcolor\":\"white\",\"gridwidth\":2,\"linecolor\":\"white\",\"showbackground\":true,\"ticks\":\"\",\"zerolinecolor\":\"white\"},\"zaxis\":{\"backgroundcolor\":\"#E5ECF6\",\"gridcolor\":\"white\",\"gridwidth\":2,\"linecolor\":\"white\",\"showbackground\":true,\"ticks\":\"\",\"zerolinecolor\":\"white\"}},\"shapedefaults\":{\"line\":{\"color\":\"#2a3f5f\"}},\"ternary\":{\"aaxis\":{\"gridcolor\":\"white\",\"linecolor\":\"white\",\"ticks\":\"\"},\"baxis\":{\"gridcolor\":\"white\",\"linecolor\":\"white\",\"ticks\":\"\"},\"bgcolor\":\"#E5ECF6\",\"caxis\":{\"gridcolor\":\"white\",\"linecolor\":\"white\",\"ticks\":\"\"}},\"title\":{\"x\":0.05},\"xaxis\":{\"automargin\":true,\"gridcolor\":\"white\",\"linecolor\":\"white\",\"ticks\":\"\",\"title\":{\"standoff\":15},\"zerolinecolor\":\"white\",\"zerolinewidth\":2},\"yaxis\":{\"automargin\":true,\"gridcolor\":\"white\",\"linecolor\":\"white\",\"ticks\":\"\",\"title\":{\"standoff\":15},\"zerolinecolor\":\"white\",\"zerolinewidth\":2}}},\"title\":{\"text\":\"Camas hospitalarias x 1.000 habitantes\"},\"xaxis\":{\"title\":{\"text\":\"A\\u00f1o\"}},\"yaxis\":{\"title\":{\"text\":\"Camas x 1000 hab\"}}},                        {\"responsive\": true}                    ).then(function(){\n",
       "                            \n",
       "var gd = document.getElementById('d2f9610c-75ac-4d3e-b2f9-b2ad4891360b');\n",
       "var x = new MutationObserver(function (mutations, observer) {{\n",
       "        var display = window.getComputedStyle(gd).display;\n",
       "        if (!display || display === 'none') {{\n",
       "            console.log([gd, 'removed!']);\n",
       "            Plotly.purge(gd);\n",
       "            observer.disconnect();\n",
       "        }}\n",
       "}});\n",
       "\n",
       "// Listen for the removal of the full notebook cells\n",
       "var notebookContainer = gd.closest('#notebook-container');\n",
       "if (notebookContainer) {{\n",
       "    x.observe(notebookContainer, {childList: true});\n",
       "}}\n",
       "\n",
       "// Listen for the clearing of the current output cell\n",
       "var outputEl = gd.closest('.output');\n",
       "if (outputEl) {{\n",
       "    x.observe(outputEl, {childList: true});\n",
       "}}\n",
       "\n",
       "                        })                };                });            </script>        </div>"
      ]
     },
     "metadata": {},
     "output_type": "display_data"
    }
   ],
   "source": [
    "andalucia = go.Scatter(x= df1[lista_columnas[0]] , y= df1[lista_columnas[1]] , name = 'Andalucia' , mode= 'lines' , marker= dict(color= '#f44336'))\n",
    "aragon = go.Scatter(x= df1[lista_columnas[0]] , y= df1[lista_columnas[2]] , name = 'Aragón' , mode= 'lines' , marker= dict(color= '#744700'))\n",
    "asturias = go.Scatter(x= df1[lista_columnas[0]] , y= df1[lista_columnas[3]] , name = 'Asturias' , mode= 'lines' , marker= dict(color= '#ce7e00'))\n",
    "baleares = go.Scatter(x= df1[lista_columnas[0]] , y= df1[lista_columnas[4]] , name = 'Baleares, Islas' , mode= 'lines' , marker= dict(color= '#8fce00'))\n",
    "canarias = go.Scatter(x= df1[lista_columnas[0]] , y= df1[lista_columnas[5]] , name = 'Canarias, Islas' , mode= 'lines' , marker= dict(color= '#2986cc'))\n",
    "cantabria = go.Scatter(x= df1[lista_columnas[0]] , y= df1[lista_columnas[6]] , name = 'Cantabria' , mode= 'lines' , marker= dict(color= '#16537e'))\n",
    "clm = go.Scatter(x= df1[lista_columnas[0]] , y= df1[lista_columnas[7]] , name = 'Castilla-La mancha' , mode= 'lines' , marker= dict(color= '#6a329f'))\n",
    "cyl = go.Scatter(x= df1[lista_columnas[0]] , y= df1[lista_columnas[8]] , name = 'Castilla y León' , mode= 'lines' , marker= dict(color= '#c90076'))\n",
    "cataluña = go.Scatter(x= df1[lista_columnas[0]] , y= df1[lista_columnas[9]] , name = 'Cataluña' , mode= 'lines' , marker= dict(color= '#990000'))\n",
    "ceuta = go.Scatter(x= df1[lista_columnas[0]] , y= df1[lista_columnas[10]] , name = 'Ceuta' , mode= 'lines' , marker= dict(color= '#b45f06'))\n",
    "valencia = go.Scatter(x= df1[lista_columnas[0]] , y= df1[lista_columnas[11]] , name = 'Com. Valenciana' , mode= 'lines' , marker= dict(color= '#bf9000'))\n",
    "españa = go.Scatter(x= df1[lista_columnas[0]] , y= df1[lista_columnas[12]] , name = 'España (total)' , mode= 'lines' , marker= dict(color= '#000000'))\n",
    "extrem = go.Scatter(x= df1[lista_columnas[0]] , y= df1[lista_columnas[13]] , name = 'Extremadura' , mode= 'lines' , marker= dict(color= '#38761d'))\n",
    "galicia = go.Scatter(x= df1[lista_columnas[0]] , y= df1[lista_columnas[14]] , name = 'Galicia' , mode= 'lines' , marker= dict(color= '#134f5c'))\n",
    "rioja = go.Scatter(x= df1[lista_columnas[0]] , y= df1[lista_columnas[15]] , name = 'La Rioja' , mode= 'lines' , marker= dict(color= '#0b5394'))\n",
    "madrid = go.Scatter(x= df1[lista_columnas[0]] , y= df1[lista_columnas[16]] , name = 'Madrid' , mode= 'lines' , marker= dict(color= '#351c75'))\n",
    "melilla = go.Scatter(x= df1[lista_columnas[0]] , y= df1[lista_columnas[17]] , name = 'Melilla' , mode= 'lines' , marker= dict(color= '#741b47'))\n",
    "murcia = go.Scatter(x= df1[lista_columnas[0]] , y= df1[lista_columnas[18]] , name = 'Murcia' , mode= 'lines' , marker= dict(color= '#e06666'))\n",
    "navarra = go.Scatter(x= df1[lista_columnas[0]] , y= df1[lista_columnas[19]] , name = 'Navarra' , mode= 'lines' , marker= dict(color= '#f6b26b'))\n",
    "pv = go.Scatter(x= df1[lista_columnas[0]] , y= df1[lista_columnas[20]] , name = 'Pais Vasco' , mode= 'lines' , marker= dict(color= '#93c47d'))\n",
    "\n",
    "data = [españa , andalucia , aragon , asturias , baleares , canarias , cantabria , clm , cyl , cataluña , ceuta , valencia , extrem , galicia , rioja , madrid , melilla , murcia , navarra , pv]\n",
    "layout = dict(title= 'Camas hospitalarias x 1.000 habitantes' , xaxis= dict(title= 'Año') , yaxis= dict(title= 'Camas x 1000 hab'))\n",
    "\n",
    "camas = go.Figure(data= data , layout=layout)\n",
    "iplot(camas)"
   ]
  },
  {
   "cell_type": "code",
   "execution_count": 24,
   "id": "b41d978f",
   "metadata": {},
   "outputs": [
    {
     "data": {
      "text/html": [
       "<div>\n",
       "<style scoped>\n",
       "    .dataframe tbody tr th:only-of-type {\n",
       "        vertical-align: middle;\n",
       "    }\n",
       "\n",
       "    .dataframe tbody tr th {\n",
       "        vertical-align: top;\n",
       "    }\n",
       "\n",
       "    .dataframe thead th {\n",
       "        text-align: right;\n",
       "    }\n",
       "</style>\n",
       "<table border=\"1\" class=\"dataframe\">\n",
       "  <thead>\n",
       "    <tr style=\"text-align: right;\">\n",
       "      <th></th>\n",
       "      <th>a?o</th>\n",
       "      <th>valores_2_dec</th>\n",
       "    </tr>\n",
       "  </thead>\n",
       "  <tbody>\n",
       "    <tr>\n",
       "      <th>0</th>\n",
       "      <td>2019</td>\n",
       "      <td>1592.71</td>\n",
       "    </tr>\n",
       "    <tr>\n",
       "      <th>1</th>\n",
       "      <td>2018</td>\n",
       "      <td>1521.84</td>\n",
       "    </tr>\n",
       "    <tr>\n",
       "      <th>2</th>\n",
       "      <td>2017</td>\n",
       "      <td>1474.02</td>\n",
       "    </tr>\n",
       "    <tr>\n",
       "      <th>3</th>\n",
       "      <td>2016</td>\n",
       "      <td>1435.59</td>\n",
       "    </tr>\n",
       "    <tr>\n",
       "      <th>4</th>\n",
       "      <td>2015</td>\n",
       "      <td>1416.24</td>\n",
       "    </tr>\n",
       "    <tr>\n",
       "      <th>5</th>\n",
       "      <td>2014</td>\n",
       "      <td>1333.28</td>\n",
       "    </tr>\n",
       "    <tr>\n",
       "      <th>6</th>\n",
       "      <td>2013</td>\n",
       "      <td>1324.07</td>\n",
       "    </tr>\n",
       "    <tr>\n",
       "      <th>7</th>\n",
       "      <td>2012</td>\n",
       "      <td>1370.10</td>\n",
       "    </tr>\n",
       "    <tr>\n",
       "      <th>8</th>\n",
       "      <td>2011</td>\n",
       "      <td>1454.33</td>\n",
       "    </tr>\n",
       "    <tr>\n",
       "      <th>9</th>\n",
       "      <td>2010</td>\n",
       "      <td>1491.37</td>\n",
       "    </tr>\n",
       "    <tr>\n",
       "      <th>10</th>\n",
       "      <td>2009</td>\n",
       "      <td>1523.95</td>\n",
       "    </tr>\n",
       "    <tr>\n",
       "      <th>11</th>\n",
       "      <td>2008</td>\n",
       "      <td>1454.29</td>\n",
       "    </tr>\n",
       "    <tr>\n",
       "      <th>12</th>\n",
       "      <td>2007</td>\n",
       "      <td>1332.64</td>\n",
       "    </tr>\n",
       "    <tr>\n",
       "      <th>13</th>\n",
       "      <td>2006</td>\n",
       "      <td>1255.31</td>\n",
       "    </tr>\n",
       "    <tr>\n",
       "      <th>14</th>\n",
       "      <td>2005</td>\n",
       "      <td>1157.44</td>\n",
       "    </tr>\n",
       "    <tr>\n",
       "      <th>15</th>\n",
       "      <td>2004</td>\n",
       "      <td>1079.85</td>\n",
       "    </tr>\n",
       "    <tr>\n",
       "      <th>16</th>\n",
       "      <td>2003</td>\n",
       "      <td>1016.04</td>\n",
       "    </tr>\n",
       "    <tr>\n",
       "      <th>17</th>\n",
       "      <td>2002</td>\n",
       "      <td>929.67</td>\n",
       "    </tr>\n",
       "  </tbody>\n",
       "</table>\n",
       "</div>"
      ],
      "text/plain": [
       "     a?o  valores_2_dec\n",
       "0   2019        1592.71\n",
       "1   2018        1521.84\n",
       "2   2017        1474.02\n",
       "3   2016        1435.59\n",
       "4   2015        1416.24\n",
       "5   2014        1333.28\n",
       "6   2013        1324.07\n",
       "7   2012        1370.10\n",
       "8   2011        1454.33\n",
       "9   2010        1491.37\n",
       "10  2009        1523.95\n",
       "11  2008        1454.29\n",
       "12  2007        1332.64\n",
       "13  2006        1255.31\n",
       "14  2005        1157.44\n",
       "15  2004        1079.85\n",
       "16  2003        1016.04\n",
       "17  2002         929.67"
      ]
     },
     "execution_count": 24,
     "metadata": {},
     "output_type": "execute_result"
    }
   ],
   "source": [
    "df2 = pd.read_csv('./gasto_publico_sanitario_españa.csv' , sep= ';')\n",
    "df2"
   ]
  },
  {
   "cell_type": "code",
   "execution_count": 26,
   "id": "ec93a1ce",
   "metadata": {},
   "outputs": [
    {
     "data": {
      "text/html": [
       "<div>\n",
       "<style scoped>\n",
       "    .dataframe tbody tr th:only-of-type {\n",
       "        vertical-align: middle;\n",
       "    }\n",
       "\n",
       "    .dataframe tbody tr th {\n",
       "        vertical-align: top;\n",
       "    }\n",
       "\n",
       "    .dataframe thead th {\n",
       "        text-align: right;\n",
       "    }\n",
       "</style>\n",
       "<table border=\"1\" class=\"dataframe\">\n",
       "  <thead>\n",
       "    <tr style=\"text-align: right;\">\n",
       "      <th></th>\n",
       "      <th>index</th>\n",
       "      <th>a?o</th>\n",
       "      <th>valores_2_dec</th>\n",
       "    </tr>\n",
       "  </thead>\n",
       "  <tbody>\n",
       "    <tr>\n",
       "      <th>0</th>\n",
       "      <td>17</td>\n",
       "      <td>2002</td>\n",
       "      <td>929.67</td>\n",
       "    </tr>\n",
       "    <tr>\n",
       "      <th>1</th>\n",
       "      <td>16</td>\n",
       "      <td>2003</td>\n",
       "      <td>1016.04</td>\n",
       "    </tr>\n",
       "    <tr>\n",
       "      <th>2</th>\n",
       "      <td>15</td>\n",
       "      <td>2004</td>\n",
       "      <td>1079.85</td>\n",
       "    </tr>\n",
       "    <tr>\n",
       "      <th>3</th>\n",
       "      <td>14</td>\n",
       "      <td>2005</td>\n",
       "      <td>1157.44</td>\n",
       "    </tr>\n",
       "    <tr>\n",
       "      <th>4</th>\n",
       "      <td>13</td>\n",
       "      <td>2006</td>\n",
       "      <td>1255.31</td>\n",
       "    </tr>\n",
       "  </tbody>\n",
       "</table>\n",
       "</div>"
      ],
      "text/plain": [
       "   index   a?o  valores_2_dec\n",
       "0     17  2002         929.67\n",
       "1     16  2003        1016.04\n",
       "2     15  2004        1079.85\n",
       "3     14  2005        1157.44\n",
       "4     13  2006        1255.31"
      ]
     },
     "execution_count": 26,
     "metadata": {},
     "output_type": "execute_result"
    }
   ],
   "source": [
    "df2 = df2.sort_values('a?o' , ascending= True)\n",
    "df2 = df2.reset_index()\n",
    "df2.head()"
   ]
  },
  {
   "cell_type": "code",
   "execution_count": 35,
   "id": "cf629cb9",
   "metadata": {},
   "outputs": [
    {
     "data": {
      "image/png": "[encoded data removed]",
      "text/plain": [
       "<Figure size 432x288 with 1 Axes>"
      ]
     },
     "metadata": {
      "needs_background": "light"
     },
     "output_type": "display_data"
    }
   ],
   "source": [
    "gasto_sanitario = df2.plot.bar(\"a?o\", \"valores_2_dec\" , color = 'green' , width = 0.5)\n",
    "\n",
    "for i, bar in enumerate(gasto_sanitario.patches):\n",
    "    gasto_sanitario.text(bar.get_x() + bar.get_width() / 2, bar.get_height() + 5,\n",
    "            f\"{df2['valores_2_dec'][i]}\",\n",
    "            horizontalalignment= 'center', verticalalignment='bottom',\n",
    "            fontsize=10, rotation=80, color='black')\n",
    "\n",
    "plt.title('Gasto público en sanidad (millones de €)')\n",
    "plt.legend(['Gasto sanitario'] ,loc= 'lower right')\n",
    "plt.ylabel('Millones de €')\n",
    "plt.xlabel(\"Año\")\n",
    "gasto_sanitario.margins(x=0, y=0.3)"
   ]
  },
  {
   "cell_type": "code",
   "execution_count": 36,
   "id": "7cda523c",
   "metadata": {},
   "outputs": [
    {
     "data": {
      "text/html": [
       "<div>\n",
       "<style scoped>\n",
       "    .dataframe tbody tr th:only-of-type {\n",
       "        vertical-align: middle;\n",
       "    }\n",
       "\n",
       "    .dataframe tbody tr th {\n",
       "        vertical-align: top;\n",
       "    }\n",
       "\n",
       "    .dataframe thead th {\n",
       "        text-align: right;\n",
       "    }\n",
       "</style>\n",
       "<table border=\"1\" class=\"dataframe\">\n",
       "  <thead>\n",
       "    <tr style=\"text-align: right;\">\n",
       "      <th></th>\n",
       "      <th>año</th>\n",
       "      <th>Andaluc?a (AN)</th>\n",
       "      <th>Arag?n (AR)</th>\n",
       "      <th>Asturias, Principado de (AS)</th>\n",
       "      <th>Balears, Illes (IB)</th>\n",
       "      <th>Canarias (CN)</th>\n",
       "      <th>Cantabria (CB)</th>\n",
       "      <th>Castilla - La Mancha (CM)</th>\n",
       "      <th>Castilla y Le?n (CL)</th>\n",
       "      <th>Catalu?a (CT)</th>\n",
       "      <th>...</th>\n",
       "      <th>Comunitat Valenciana (VC)</th>\n",
       "      <th>Espa?a (ES)</th>\n",
       "      <th>Extremadura (EX)</th>\n",
       "      <th>Galicia (GA)</th>\n",
       "      <th>La Rioja (RI)</th>\n",
       "      <th>Madrid, Comunidad de (MD)</th>\n",
       "      <th>Melilla (ML)</th>\n",
       "      <th>Murcia, Regi?n de (MC)</th>\n",
       "      <th>Navarra, C. Foral de (NC)</th>\n",
       "      <th>Pa?s Vasco (PV)</th>\n",
       "    </tr>\n",
       "  </thead>\n",
       "  <tbody>\n",
       "    <tr>\n",
       "      <th>0</th>\n",
       "      <td>2019</td>\n",
       "      <td>18.01</td>\n",
       "      <td>12.77</td>\n",
       "      <td>11.95</td>\n",
       "      <td>11.79</td>\n",
       "      <td>13.78</td>\n",
       "      <td>14.20</td>\n",
       "      <td>13.61</td>\n",
       "      <td>15.82</td>\n",
       "      <td>13.34</td>\n",
       "      <td>...</td>\n",
       "      <td>15.09</td>\n",
       "      <td>14.16</td>\n",
       "      <td>16.16</td>\n",
       "      <td>11.96</td>\n",
       "      <td>14.25</td>\n",
       "      <td>11.21</td>\n",
       "      <td>NaN</td>\n",
       "      <td>14.03</td>\n",
       "      <td>14.77</td>\n",
       "      <td>14.32</td>\n",
       "    </tr>\n",
       "    <tr>\n",
       "      <th>1</th>\n",
       "      <td>2018</td>\n",
       "      <td>17.45</td>\n",
       "      <td>12.67</td>\n",
       "      <td>12.55</td>\n",
       "      <td>12.05</td>\n",
       "      <td>13.49</td>\n",
       "      <td>14.14</td>\n",
       "      <td>16.96</td>\n",
       "      <td>15.25</td>\n",
       "      <td>12.98</td>\n",
       "      <td>...</td>\n",
       "      <td>13.15</td>\n",
       "      <td>13.93</td>\n",
       "      <td>15.75</td>\n",
       "      <td>11.93</td>\n",
       "      <td>14.30</td>\n",
       "      <td>11.48</td>\n",
       "      <td>NaN</td>\n",
       "      <td>13.91</td>\n",
       "      <td>14.45</td>\n",
       "      <td>13.91</td>\n",
       "    </tr>\n",
       "    <tr>\n",
       "      <th>2</th>\n",
       "      <td>2017</td>\n",
       "      <td>14.09</td>\n",
       "      <td>12.72</td>\n",
       "      <td>12.60</td>\n",
       "      <td>11.97</td>\n",
       "      <td>13.71</td>\n",
       "      <td>14.16</td>\n",
       "      <td>16.69</td>\n",
       "      <td>15.52</td>\n",
       "      <td>13.23</td>\n",
       "      <td>...</td>\n",
       "      <td>12.85</td>\n",
       "      <td>13.47</td>\n",
       "      <td>15.72</td>\n",
       "      <td>12.12</td>\n",
       "      <td>14.09</td>\n",
       "      <td>11.63</td>\n",
       "      <td>NaN</td>\n",
       "      <td>13.86</td>\n",
       "      <td>14.27</td>\n",
       "      <td>14.12</td>\n",
       "    </tr>\n",
       "    <tr>\n",
       "      <th>3</th>\n",
       "      <td>2016</td>\n",
       "      <td>14.22</td>\n",
       "      <td>11.53</td>\n",
       "      <td>12.76</td>\n",
       "      <td>11.92</td>\n",
       "      <td>14.06</td>\n",
       "      <td>17.38</td>\n",
       "      <td>16.37</td>\n",
       "      <td>15.62</td>\n",
       "      <td>13.26</td>\n",
       "      <td>...</td>\n",
       "      <td>13.01</td>\n",
       "      <td>13.53</td>\n",
       "      <td>16.09</td>\n",
       "      <td>12.10</td>\n",
       "      <td>14.11</td>\n",
       "      <td>11.63</td>\n",
       "      <td>NaN</td>\n",
       "      <td>13.51</td>\n",
       "      <td>14.60</td>\n",
       "      <td>14.28</td>\n",
       "    </tr>\n",
       "    <tr>\n",
       "      <th>4</th>\n",
       "      <td>2015</td>\n",
       "      <td>13.92</td>\n",
       "      <td>13.19</td>\n",
       "      <td>12.41</td>\n",
       "      <td>11.87</td>\n",
       "      <td>13.70</td>\n",
       "      <td>14.03</td>\n",
       "      <td>17.52</td>\n",
       "      <td>15.42</td>\n",
       "      <td>13.48</td>\n",
       "      <td>...</td>\n",
       "      <td>12.36</td>\n",
       "      <td>13.42</td>\n",
       "      <td>16.03</td>\n",
       "      <td>11.98</td>\n",
       "      <td>13.66</td>\n",
       "      <td>11.30</td>\n",
       "      <td>NaN</td>\n",
       "      <td>13.24</td>\n",
       "      <td>14.50</td>\n",
       "      <td>14.48</td>\n",
       "    </tr>\n",
       "  </tbody>\n",
       "</table>\n",
       "<p>5 rows × 21 columns</p>\n",
       "</div>"
      ],
      "text/plain": [
       "    año  Andaluc?a (AN)  Arag?n (AR)  Asturias, Principado de (AS)  \\\n",
       "0  2019           18.01        12.77                         11.95   \n",
       "1  2018           17.45        12.67                         12.55   \n",
       "2  2017           14.09        12.72                         12.60   \n",
       "3  2016           14.22        11.53                         12.76   \n",
       "4  2015           13.92        13.19                         12.41   \n",
       "\n",
       "   Balears, Illes (IB)  Canarias (CN)  Cantabria (CB)  \\\n",
       "0                11.79          13.78           14.20   \n",
       "1                12.05          13.49           14.14   \n",
       "2                11.97          13.71           14.16   \n",
       "3                11.92          14.06           17.38   \n",
       "4                11.87          13.70           14.03   \n",
       "\n",
       "   Castilla - La Mancha (CM)  Castilla y Le?n (CL)  Catalu?a (CT)  ...  \\\n",
       "0                      13.61                 15.82          13.34  ...   \n",
       "1                      16.96                 15.25          12.98  ...   \n",
       "2                      16.69                 15.52          13.23  ...   \n",
       "3                      16.37                 15.62          13.26  ...   \n",
       "4                      17.52                 15.42          13.48  ...   \n",
       "\n",
       "   Comunitat Valenciana (VC)  Espa?a (ES)  Extremadura (EX)  Galicia (GA)  \\\n",
       "0                      15.09        14.16             16.16         11.96   \n",
       "1                      13.15        13.93             15.75         11.93   \n",
       "2                      12.85        13.47             15.72         12.12   \n",
       "3                      13.01        13.53             16.09         12.10   \n",
       "4                      12.36        13.42             16.03         11.98   \n",
       "\n",
       "   La Rioja (RI)  Madrid, Comunidad de (MD)  Melilla (ML)  \\\n",
       "0          14.25                      11.21           NaN   \n",
       "1          14.30                      11.48           NaN   \n",
       "2          14.09                      11.63           NaN   \n",
       "3          14.11                      11.63           NaN   \n",
       "4          13.66                      11.30           NaN   \n",
       "\n",
       "   Murcia, Regi?n de (MC)  Navarra, C. Foral de (NC)  Pa?s Vasco (PV)  \n",
       "0                   14.03                      14.77            14.32  \n",
       "1                   13.91                      14.45            13.91  \n",
       "2                   13.86                      14.27            14.12  \n",
       "3                   13.51                      14.60            14.28  \n",
       "4                   13.24                      14.50            14.48  \n",
       "\n",
       "[5 rows x 21 columns]"
      ]
     },
     "execution_count": 36,
     "metadata": {},
     "output_type": "execute_result"
    }
   ],
   "source": [
    "df3 = pd.read_csv('./%_gasto_publico_atencion_primaria.csv' , sep= ';')\n",
    "df3.head()"
   ]
  },
  {
   "cell_type": "code",
   "execution_count": 37,
   "id": "1c3f7dc0",
   "metadata": {},
   "outputs": [
    {
     "name": "stdout",
     "output_type": "stream",
     "text": [
      "21\n"
     ]
    }
   ],
   "source": [
    "lista_columnas = list(df3.columns.values)\n",
    "print(len(lista_columnas))"
   ]
  },
  {
   "cell_type": "code",
   "execution_count": 38,
   "id": "7398574f",
   "metadata": {},
   "outputs": [
    {
     "data": {
      "application/vnd.plotly.v1+json": {
       "config": {
        "linkText": "Export to plot.ly",
        "plotlyServerURL": "https://plot.ly",
        "showLink": false
       },
       "data": [
        {
         "marker": {
          "color": "#000000"
         },
         "mode": "lines",
         "name": "España (total)",
         "type": "scatter",
         "x": [
          2019,
          2018,
          2017,
          2016,
          2015,
          2014,
          2013,
          2012,
          2011,
          2010,
          2009,
          2008,
          2007,
          2006,
          2005,
          2004,
          2003,
          2002
         ],
         "y": [
          14.16,
          13.93,
          13.47,
          13.53,
          13.42,
          13.77,
          14,
          13.96,
          14.17,
          14.49,
          14.45,
          14.54,
          14.53,
          13.93,
          14.2,
          14.27,
          14.15,
          14.24
         ]
        },
        {
         "marker": {
          "color": "#f44336"
         },
         "mode": "lines",
         "name": "Andalucia",
         "type": "scatter",
         "x": [
          2019,
          2018,
          2017,
          2016,
          2015,
          2014,
          2013,
          2012,
          2011,
          2010,
          2009,
          2008,
          2007,
          2006,
          2005,
          2004,
          2003,
          2002
         ],
         "y": [
          18.01,
          17.45,
          14.09,
          14.22,
          13.92,
          14.23,
          14.32,
          15.94,
          17.2,
          16.75,
          16.93,
          17.58,
          18.05,
          16.82,
          17.07,
          16.73,
          15.8,
          15.88
         ]
        },
        {
         "marker": {
          "color": "#744700"
         },
         "mode": "lines",
         "name": "Aragón",
         "type": "scatter",
         "x": [
          2019,
          2018,
          2017,
          2016,
          2015,
          2014,
          2013,
          2012,
          2011,
          2010,
          2009,
          2008,
          2007,
          2006,
          2005,
          2004,
          2003,
          2002
         ],
         "y": [
          12.77,
          12.67,
          12.72,
          11.53,
          13.19,
          15.14,
          14.54,
          12.17,
          14.9,
          15.44,
          14.86,
          14.67,
          13.39,
          12.12,
          13.31,
          13.72,
          14.3,
          14.32
         ]
        },
        {
         "marker": {
          "color": "#ce7e00"
         },
         "mode": "lines",
         "name": "Asturias",
         "type": "scatter",
         "x": [
          2019,
          2018,
          2017,
          2016,
          2015,
          2014,
          2013,
          2012,
          2011,
          2010,
          2009,
          2008,
          2007,
          2006,
          2005,
          2004,
          2003,
          2002
         ],
         "y": [
          11.95,
          12.55,
          12.6,
          12.76,
          12.41,
          13.13,
          17.36,
          12.43,
          12.99,
          12.93,
          12.36,
          13.02,
          13.11,
          11.97,
          11.72,
          12.77,
          12.26,
          12.68
         ]
        },
        {
         "marker": {
          "color": "#8fce00"
         },
         "mode": "lines",
         "name": "Baleares, Islas",
         "type": "scatter",
         "x": [
          2019,
          2018,
          2017,
          2016,
          2015,
          2014,
          2013,
          2012,
          2011,
          2010,
          2009,
          2008,
          2007,
          2006,
          2005,
          2004,
          2003,
          2002
         ],
         "y": [
          11.79,
          12.05,
          11.97,
          11.92,
          11.87,
          12.95,
          13.01,
          13.04,
          13.11,
          17.17,
          13.61,
          13.62,
          12.28,
          12.71,
          11.86,
          13.6,
          13.33,
          12.61
         ]
        },
        {
         "marker": {
          "color": "#2986cc"
         },
         "mode": "lines",
         "name": "Canarias, Islas",
         "type": "scatter",
         "x": [
          2019,
          2018,
          2017,
          2016,
          2015,
          2014,
          2013,
          2012,
          2011,
          2010,
          2009,
          2008,
          2007,
          2006,
          2005,
          2004,
          2003,
          2002
         ],
         "y": [
          13.78,
          13.49,
          13.71,
          14.06,
          13.7,
          14.12,
          14.36,
          13.97,
          13.64,
          13.51,
          13.48,
          13.07,
          12.81,
          12,
          11.86,
          12.17,
          12.31,
          12.6
         ]
        },
        {
         "marker": {
          "color": "#16537e"
         },
         "mode": "lines",
         "name": "Cantabria",
         "type": "scatter",
         "x": [
          2019,
          2018,
          2017,
          2016,
          2015,
          2014,
          2013,
          2012,
          2011,
          2010,
          2009,
          2008,
          2007,
          2006,
          2005,
          2004,
          2003,
          2002
         ],
         "y": [
          14.2,
          14.14,
          14.16,
          17.38,
          14.03,
          14.12,
          13.93,
          10.4,
          14.64,
          12.89,
          14.91,
          14.9,
          13.05,
          12.44,
          11.88,
          11.29,
          10.6,
          10.58
         ]
        },
        {
         "marker": {
          "color": "#6a329f"
         },
         "mode": "lines",
         "name": "Castilla-La mancha",
         "type": "scatter",
         "x": [
          2019,
          2018,
          2017,
          2016,
          2015,
          2014,
          2013,
          2012,
          2011,
          2010,
          2009,
          2008,
          2007,
          2006,
          2005,
          2004,
          2003,
          2002
         ],
         "y": [
          13.61,
          16.96,
          16.69,
          16.37,
          17.52,
          15.34,
          17.12,
          16.28,
          16.2,
          15.67,
          15.62,
          15.59,
          15.15,
          14.38,
          13.59,
          14.72,
          13.61,
          16.1
         ]
        },
        {
         "marker": {
          "color": "#c90076"
         },
         "mode": "lines",
         "name": "Castilla y León",
         "type": "scatter",
         "x": [
          2019,
          2018,
          2017,
          2016,
          2015,
          2014,
          2013,
          2012,
          2011,
          2010,
          2009,
          2008,
          2007,
          2006,
          2005,
          2004,
          2003,
          2002
         ],
         "y": [
          15.82,
          15.25,
          15.52,
          15.62,
          15.42,
          17.26,
          16.87,
          15.84,
          17.52,
          16.77,
          17.86,
          15.52,
          16.93,
          14.53,
          15.65,
          15.75,
          15.61,
          16.5
         ]
        },
        {
         "marker": {
          "color": "#990000"
         },
         "mode": "lines",
         "name": "Cataluña",
         "type": "scatter",
         "x": [
          2019,
          2018,
          2017,
          2016,
          2015,
          2014,
          2013,
          2012,
          2011,
          2010,
          2009,
          2008,
          2007,
          2006,
          2005,
          2004,
          2003,
          2002
         ],
         "y": [
          13.34,
          12.98,
          13.23,
          13.26,
          13.48,
          13.61,
          13.56,
          13.63,
          13.57,
          14.42,
          15.02,
          15.31,
          15.44,
          15.12,
          16.3,
          15.98,
          15.7,
          15.3
         ]
        },
        {
         "marker": {
          "color": "#b45f06"
         },
         "mode": "lines",
         "name": "Ceuta",
         "type": "scatter",
         "x": [
          2019,
          2018,
          2017,
          2016,
          2015,
          2014,
          2013,
          2012,
          2011,
          2010,
          2009,
          2008,
          2007,
          2006,
          2005,
          2004,
          2003,
          2002
         ],
         "y": [
          null,
          null,
          null,
          null,
          null,
          null,
          null,
          null,
          null,
          null,
          null,
          null,
          null,
          null,
          null,
          null,
          null,
          null
         ]
        },
        {
         "marker": {
          "color": "#bf9000"
         },
         "mode": "lines",
         "name": "Com. Valenciana",
         "type": "scatter",
         "x": [
          2019,
          2018,
          2017,
          2016,
          2015,
          2014,
          2013,
          2012,
          2011,
          2010,
          2009,
          2008,
          2007,
          2006,
          2005,
          2004,
          2003,
          2002
         ],
         "y": [
          15.09,
          13.15,
          12.85,
          13.01,
          12.36,
          12.49,
          12.58,
          13.23,
          12.94,
          12.7,
          12.73,
          12.98,
          12.89,
          12.56,
          12.89,
          13.06,
          13.26,
          13.13
         ]
        },
        {
         "marker": {
          "color": "#38761d"
         },
         "mode": "lines",
         "name": "Extremadura",
         "type": "scatter",
         "x": [
          2019,
          2018,
          2017,
          2016,
          2015,
          2014,
          2013,
          2012,
          2011,
          2010,
          2009,
          2008,
          2007,
          2006,
          2005,
          2004,
          2003,
          2002
         ],
         "y": [
          16.16,
          15.75,
          15.72,
          16.09,
          16.03,
          16.34,
          16.57,
          16.12,
          16.54,
          16.28,
          15.95,
          16.26,
          16.14,
          16.37,
          17.89,
          18.25,
          18.64,
          16.13
         ]
        },
        {
         "marker": {
          "color": "#134f5c"
         },
         "mode": "lines",
         "name": "Galicia",
         "type": "scatter",
         "x": [
          2019,
          2018,
          2017,
          2016,
          2015,
          2014,
          2013,
          2012,
          2011,
          2010,
          2009,
          2008,
          2007,
          2006,
          2005,
          2004,
          2003,
          2002
         ],
         "y": [
          11.96,
          11.93,
          12.12,
          12.1,
          11.98,
          12.51,
          12.55,
          12.74,
          13.05,
          12.5,
          12.28,
          11.83,
          11.74,
          11.46,
          11.11,
          11.2,
          11.79,
          12.01
         ]
        },
        {
         "marker": {
          "color": "#0b5394"
         },
         "mode": "lines",
         "name": "La Rioja",
         "type": "scatter",
         "x": [
          2019,
          2018,
          2017,
          2016,
          2015,
          2014,
          2013,
          2012,
          2011,
          2010,
          2009,
          2008,
          2007,
          2006,
          2005,
          2004,
          2003,
          2002
         ],
         "y": [
          14.25,
          14.3,
          14.09,
          14.11,
          13.66,
          14.34,
          13.9,
          13.08,
          12.64,
          13.03,
          13.88,
          13.5,
          10.46,
          10.37,
          12.33,
          13.74,
          13.76,
          13
         ]
        },
        {
         "marker": {
          "color": "#351c75"
         },
         "mode": "lines",
         "name": "Madrid",
         "type": "scatter",
         "x": [
          2019,
          2018,
          2017,
          2016,
          2015,
          2014,
          2013,
          2012,
          2011,
          2010,
          2009,
          2008,
          2007,
          2006,
          2005,
          2004,
          2003,
          2002
         ],
         "y": [
          11.21,
          11.48,
          11.63,
          11.63,
          11.3,
          11.73,
          11.87,
          11.92,
          10.9,
          12.67,
          11.99,
          12.37,
          12.84,
          12.18,
          11.97,
          11.79,
          11.78,
          11.93
         ]
        },
        {
         "marker": {
          "color": "#741b47"
         },
         "mode": "lines",
         "name": "Melilla",
         "type": "scatter",
         "x": [
          2019,
          2018,
          2017,
          2016,
          2015,
          2014,
          2013,
          2012,
          2011,
          2010,
          2009,
          2008,
          2007,
          2006,
          2005,
          2004,
          2003,
          2002
         ],
         "y": [
          null,
          null,
          null,
          null,
          null,
          null,
          null,
          null,
          null,
          null,
          null,
          null,
          null,
          null,
          null,
          null,
          null,
          null
         ]
        },
        {
         "marker": {
          "color": "#e06666"
         },
         "mode": "lines",
         "name": "Murcia",
         "type": "scatter",
         "x": [
          2019,
          2018,
          2017,
          2016,
          2015,
          2014,
          2013,
          2012,
          2011,
          2010,
          2009,
          2008,
          2007,
          2006,
          2005,
          2004,
          2003,
          2002
         ],
         "y": [
          14.03,
          13.91,
          13.86,
          13.51,
          13.24,
          12.87,
          12.81,
          13.42,
          12.9,
          12.51,
          11.96,
          11.58,
          10.85,
          12.3,
          12.11,
          12.34,
          12.95,
          13.32
         ]
        },
        {
         "marker": {
          "color": "#f6b26b"
         },
         "mode": "lines",
         "name": "Navarra",
         "type": "scatter",
         "x": [
          2019,
          2018,
          2017,
          2016,
          2015,
          2014,
          2013,
          2012,
          2011,
          2010,
          2009,
          2008,
          2007,
          2006,
          2005,
          2004,
          2003,
          2002
         ],
         "y": [
          14.77,
          14.45,
          14.27,
          14.6,
          14.5,
          15.24,
          15.44,
          14.81,
          13.96,
          14.49,
          14.85,
          15.09,
          14.34,
          14.52,
          15.16,
          15.34,
          16.7,
          17.12
         ]
        },
        {
         "marker": {
          "color": "#93c47d"
         },
         "mode": "lines",
         "name": "Pais Vasco",
         "type": "scatter",
         "x": [
          2019,
          2018,
          2017,
          2016,
          2015,
          2014,
          2013,
          2012,
          2011,
          2010,
          2009,
          2008,
          2007,
          2006,
          2005,
          2004,
          2003,
          2002
         ],
         "y": [
          14.32,
          13.91,
          14.12,
          14.28,
          14.48,
          14.98,
          15.24,
          15.5,
          15.01,
          15.09,
          15.02,
          15.02,
          14.83,
          14.56,
          14.41,
          14.46,
          14.54,
          14.68
         ]
        }
       ],
       "layout": {
        "template": {
         "data": {
          "bar": [
           {
            "error_x": {
             "color": "#2a3f5f"
            },
            "error_y": {
             "color": "#2a3f5f"
            },
            "marker": {
             "line": {
              "color": "#E5ECF6",
              "width": 0.5
             },
             "pattern": {
              "fillmode": "overlay",
              "size": 10,
              "solidity": 0.2
             }
            },
            "type": "bar"
           }
          ],
          "barpolar": [
           {
            "marker": {
             "line": {
              "color": "#E5ECF6",
              "width": 0.5
             },
             "pattern": {
              "fillmode": "overlay",
              "size": 10,
              "solidity": 0.2
             }
            },
            "type": "barpolar"
           }
          ],
          "carpet": [
           {
            "aaxis": {
             "endlinecolor": "#2a3f5f",
             "gridcolor": "white",
             "linecolor": "white",
             "minorgridcolor": "white",
             "startlinecolor": "#2a3f5f"
            },
            "baxis": {
             "endlinecolor": "#2a3f5f",
             "gridcolor": "white",
             "linecolor": "white",
             "minorgridcolor": "white",
             "startlinecolor": "#2a3f5f"
            },
            "type": "carpet"
           }
          ],
          "choropleth": [
           {
            "colorbar": {
             "outlinewidth": 0,
             "ticks": ""
            },
            "type": "choropleth"
           }
          ],
          "contour": [
           {
            "colorbar": {
             "outlinewidth": 0,
             "ticks": ""
            },
            "colorscale": [
             [
              0,
              "#0d0887"
             ],
             [
              0.1111111111111111,
              "#46039f"
             ],
             [
              0.2222222222222222,
              "#7201a8"
             ],
             [
              0.3333333333333333,
              "#9c179e"
             ],
             [
              0.4444444444444444,
              "#bd3786"
             ],
             [
              0.5555555555555556,
              "#d8576b"
             ],
             [
              0.6666666666666666,
              "#ed7953"
             ],
             [
              0.7777777777777778,
              "#fb9f3a"
             ],
             [
              0.8888888888888888,
              "#fdca26"
             ],
             [
              1,
              "#f0f921"
             ]
            ],
            "type": "contour"
           }
          ],
          "contourcarpet": [
           {
            "colorbar": {
             "outlinewidth": 0,
             "ticks": ""
            },
            "type": "contourcarpet"
           }
          ],
          "heatmap": [
           {
            "colorbar": {
             "outlinewidth": 0,
             "ticks": ""
            },
            "colorscale": [
             [
              0,
              "#0d0887"
             ],
             [
              0.1111111111111111,
              "#46039f"
             ],
             [
              0.2222222222222222,
              "#7201a8"
             ],
             [
              0.3333333333333333,
              "#9c179e"
             ],
             [
              0.4444444444444444,
              "#bd3786"
             ],
             [
              0.5555555555555556,
              "#d8576b"
             ],
             [
              0.6666666666666666,
              "#ed7953"
             ],
             [
              0.7777777777777778,
              "#fb9f3a"
             ],
             [
              0.8888888888888888,
              "#fdca26"
             ],
             [
              1,
              "#f0f921"
             ]
            ],
            "type": "heatmap"
           }
          ],
          "heatmapgl": [
           {
            "colorbar": {
             "outlinewidth": 0,
             "ticks": ""
            },
            "colorscale": [
             [
              0,
              "#0d0887"
             ],
             [
              0.1111111111111111,
              "#46039f"
             ],
             [
              0.2222222222222222,
              "#7201a8"
             ],
             [
              0.3333333333333333,
              "#9c179e"
             ],
             [
              0.4444444444444444,
              "#bd3786"
             ],
             [
              0.5555555555555556,
              "#d8576b"
             ],
             [
              0.6666666666666666,
              "#ed7953"
             ],
             [
              0.7777777777777778,
              "#fb9f3a"
             ],
             [
              0.8888888888888888,
              "#fdca26"
             ],
             [
              1,
              "#f0f921"
             ]
            ],
            "type": "heatmapgl"
           }
          ],
          "histogram": [
           {
            "marker": {
             "pattern": {
              "fillmode": "overlay",
              "size": 10,
              "solidity": 0.2
             }
            },
            "type": "histogram"
           }
          ],
          "histogram2d": [
           {
            "colorbar": {
             "outlinewidth": 0,
             "ticks": ""
            },
            "colorscale": [
             [
              0,
              "#0d0887"
             ],
             [
              0.1111111111111111,
              "#46039f"
             ],
             [
              0.2222222222222222,
              "#7201a8"
             ],
             [
              0.3333333333333333,
              "#9c179e"
             ],
             [
              0.4444444444444444,
              "#bd3786"
             ],
             [
              0.5555555555555556,
              "#d8576b"
             ],
             [
              0.6666666666666666,
              "#ed7953"
             ],
             [
              0.7777777777777778,
              "#fb9f3a"
             ],
             [
              0.8888888888888888,
              "#fdca26"
             ],
             [
              1,
              "#f0f921"
             ]
            ],
            "type": "histogram2d"
           }
          ],
          "histogram2dcontour": [
           {
            "colorbar": {
             "outlinewidth": 0,
             "ticks": ""
            },
            "colorscale": [
             [
              0,
              "#0d0887"
             ],
             [
              0.1111111111111111,
              "#46039f"
             ],
             [
              0.2222222222222222,
              "#7201a8"
             ],
             [
              0.3333333333333333,
              "#9c179e"
             ],
             [
              0.4444444444444444,
              "#bd3786"
             ],
             [
              0.5555555555555556,
              "#d8576b"
             ],
             [
              0.6666666666666666,
              "#ed7953"
             ],
             [
              0.7777777777777778,
              "#fb9f3a"
             ],
             [
              0.8888888888888888,
              "#fdca26"
             ],
             [
              1,
              "#f0f921"
             ]
            ],
            "type": "histogram2dcontour"
           }
          ],
          "mesh3d": [
           {
            "colorbar": {
             "outlinewidth": 0,
             "ticks": ""
            },
            "type": "mesh3d"
           }
          ],
          "parcoords": [
           {
            "line": {
             "colorbar": {
              "outlinewidth": 0,
              "ticks": ""
             }
            },
            "type": "parcoords"
           }
          ],
          "pie": [
           {
            "automargin": true,
            "type": "pie"
           }
          ],
          "scatter": [
           {
            "marker": {
             "colorbar": {
              "outlinewidth": 0,
              "ticks": ""
             }
            },
            "type": "scatter"
           }
          ],
          "scatter3d": [
           {
            "line": {
             "colorbar": {
              "outlinewidth": 0,
              "ticks": ""
             }
            },
            "marker": {
             "colorbar": {
              "outlinewidth": 0,
              "ticks": ""
             }
            },
            "type": "scatter3d"
           }
          ],
          "scattercarpet": [
           {
            "marker": {
             "colorbar": {
              "outlinewidth": 0,
              "ticks": ""
             }
            },
            "type": "scattercarpet"
           }
          ],
          "scattergeo": [
           {
            "marker": {
             "colorbar": {
              "outlinewidth": 0,
              "ticks": ""
             }
            },
            "type": "scattergeo"
           }
          ],
          "scattergl": [
           {
            "marker": {
             "colorbar": {
              "outlinewidth": 0,
              "ticks": ""
             }
            },
            "type": "scattergl"
           }
          ],
          "scattermapbox": [
           {
            "marker": {
             "colorbar": {
              "outlinewidth": 0,
              "ticks": ""
             }
            },
            "type": "scattermapbox"
           }
          ],
          "scatterpolar": [
           {
            "marker": {
             "colorbar": {
              "outlinewidth": 0,
              "ticks": ""
             }
            },
            "type": "scatterpolar"
           }
          ],
          "scatterpolargl": [
           {
            "marker": {
             "colorbar": {
              "outlinewidth": 0,
              "ticks": ""
             }
            },
            "type": "scatterpolargl"
           }
          ],
          "scatterternary": [
           {
            "marker": {
             "colorbar": {
              "outlinewidth": 0,
              "ticks": ""
             }
            },
            "type": "scatterternary"
           }
          ],
          "surface": [
           {
            "colorbar": {
             "outlinewidth": 0,
             "ticks": ""
            },
            "colorscale": [
             [
              0,
              "#0d0887"
             ],
             [
              0.1111111111111111,
              "#46039f"
             ],
             [
              0.2222222222222222,
              "#7201a8"
             ],
             [
              0.3333333333333333,
              "#9c179e"
             ],
             [
              0.4444444444444444,
              "#bd3786"
             ],
             [
              0.5555555555555556,
              "#d8576b"
             ],
             [
              0.6666666666666666,
              "#ed7953"
             ],
             [
              0.7777777777777778,
              "#fb9f3a"
             ],
             [
              0.8888888888888888,
              "#fdca26"
             ],
             [
              1,
              "#f0f921"
             ]
            ],
            "type": "surface"
           }
          ],
          "table": [
           {
            "cells": {
             "fill": {
              "color": "#EBF0F8"
             },
             "line": {
              "color": "white"
             }
            },
            "header": {
             "fill": {
              "color": "#C8D4E3"
             },
             "line": {
              "color": "white"
             }
            },
            "type": "table"
           }
          ]
         },
         "layout": {
          "annotationdefaults": {
           "arrowcolor": "#2a3f5f",
           "arrowhead": 0,
           "arrowwidth": 1
          },
          "autotypenumbers": "strict",
          "coloraxis": {
           "colorbar": {
            "outlinewidth": 0,
            "ticks": ""
           }
          },
          "colorscale": {
           "diverging": [
            [
             0,
             "#8e0152"
            ],
            [
             0.1,
             "#c51b7d"
            ],
            [
             0.2,
             "#de77ae"
            ],
            [
             0.3,
             "#f1b6da"
            ],
            [
             0.4,
             "#fde0ef"
            ],
            [
             0.5,
             "#f7f7f7"
            ],
            [
             0.6,
             "#e6f5d0"
            ],
            [
             0.7,
             "#b8e186"
            ],
            [
             0.8,
             "#7fbc41"
            ],
            [
             0.9,
             "#4d9221"
            ],
            [
             1,
             "#276419"
            ]
           ],
           "sequential": [
            [
             0,
             "#0d0887"
            ],
            [
             0.1111111111111111,
             "#46039f"
            ],
            [
             0.2222222222222222,
             "#7201a8"
            ],
            [
             0.3333333333333333,
             "#9c179e"
            ],
            [
             0.4444444444444444,
             "#bd3786"
            ],
            [
             0.5555555555555556,
             "#d8576b"
            ],
            [
             0.6666666666666666,
             "#ed7953"
            ],
            [
             0.7777777777777778,
             "#fb9f3a"
            ],
            [
             0.8888888888888888,
             "#fdca26"
            ],
            [
             1,
             "#f0f921"
            ]
           ],
           "sequentialminus": [
            [
             0,
             "#0d0887"
            ],
            [
             0.1111111111111111,
             "#46039f"
            ],
            [
             0.2222222222222222,
             "#7201a8"
            ],
            [
             0.3333333333333333,
             "#9c179e"
            ],
            [
             0.4444444444444444,
             "#bd3786"
            ],
            [
             0.5555555555555556,
             "#d8576b"
            ],
            [
             0.6666666666666666,
             "#ed7953"
            ],
            [
             0.7777777777777778,
             "#fb9f3a"
            ],
            [
             0.8888888888888888,
             "#fdca26"
            ],
            [
             1,
             "#f0f921"
            ]
           ]
          },
          "colorway": [
           "#636efa",
           "#EF553B",
           "#00cc96",
           "#ab63fa",
           "#FFA15A",
           "#19d3f3",
           "#FF6692",
           "#B6E880",
           "#FF97FF",
           "#FECB52"
          ],
          "font": {
           "color": "#2a3f5f"
          },
          "geo": {
           "bgcolor": "white",
           "lakecolor": "white",
           "landcolor": "#E5ECF6",
           "showlakes": true,
           "showland": true,
           "subunitcolor": "white"
          },
          "hoverlabel": {
           "align": "left"
          },
          "hovermode": "closest",
          "mapbox": {
           "style": "light"
          },
          "paper_bgcolor": "white",
          "plot_bgcolor": "#E5ECF6",
          "polar": {
           "angularaxis": {
            "gridcolor": "white",
            "linecolor": "white",
            "ticks": ""
           },
           "bgcolor": "#E5ECF6",
           "radialaxis": {
            "gridcolor": "white",
            "linecolor": "white",
            "ticks": ""
           }
          },
          "scene": {
           "xaxis": {
            "backgroundcolor": "#E5ECF6",
            "gridcolor": "white",
            "gridwidth": 2,
            "linecolor": "white",
            "showbackground": true,
            "ticks": "",
            "zerolinecolor": "white"
           },
           "yaxis": {
            "backgroundcolor": "#E5ECF6",
            "gridcolor": "white",
            "gridwidth": 2,
            "linecolor": "white",
            "showbackground": true,
            "ticks": "",
            "zerolinecolor": "white"
           },
           "zaxis": {
            "backgroundcolor": "#E5ECF6",
            "gridcolor": "white",
            "gridwidth": 2,
            "linecolor": "white",
            "showbackground": true,
            "ticks": "",
            "zerolinecolor": "white"
           }
          },
          "shapedefaults": {
           "line": {
            "color": "#2a3f5f"
           }
          },
          "ternary": {
           "aaxis": {
            "gridcolor": "white",
            "linecolor": "white",
            "ticks": ""
           },
           "baxis": {
            "gridcolor": "white",
            "linecolor": "white",
            "ticks": ""
           },
           "bgcolor": "#E5ECF6",
           "caxis": {
            "gridcolor": "white",
            "linecolor": "white",
            "ticks": ""
           }
          },
          "title": {
           "x": 0.05
          },
          "xaxis": {
           "automargin": true,
           "gridcolor": "white",
           "linecolor": "white",
           "ticks": "",
           "title": {
            "standoff": 15
           },
           "zerolinecolor": "white",
           "zerolinewidth": 2
          },
          "yaxis": {
           "automargin": true,
           "gridcolor": "white",
           "linecolor": "white",
           "ticks": "",
           "title": {
            "standoff": 15
           },
           "zerolinecolor": "white",
           "zerolinewidth": 2
          }
         }
        },
        "title": {
         "text": "Porcentaje de gasto en atención primaria por CCAA"
        },
        "xaxis": {
         "title": {
          "text": "Año"
         }
        },
        "yaxis": {
         "title": {
          "text": "%"
         }
        }
       }
      },
      "text/html": [
       "<div>                            <div id=\"81f16adb-5e22-4ac1-ad3a-873cd31fe522\" class=\"plotly-graph-div\" style=\"height:525px; width:100%;\"></div>            <script type=\"text/javascript\">                require([\"plotly\"], function(Plotly) {                    window.PLOTLYENV=window.PLOTLYENV || {};                                    if (document.getElementById(\"81f16adb-5e22-4ac1-ad3a-873cd31fe522\")) {                    Plotly.newPlot(                        \"81f16adb-5e22-4ac1-ad3a-873cd31fe522\",                        [{\"marker\":{\"color\":\"#000000\"},\"mode\":\"lines\",\"name\":\"Espa\\u00f1a (total)\",\"x\":[2019,2018,2017,2016,2015,2014,2013,2012,2011,2010,2009,2008,2007,2006,2005,2004,2003,2002],\"y\":[14.16,13.93,13.47,13.53,13.42,13.77,14.0,13.96,14.17,14.49,14.45,14.54,14.53,13.93,14.2,14.27,14.15,14.24],\"type\":\"scatter\"},{\"marker\":{\"color\":\"#f44336\"},\"mode\":\"lines\",\"name\":\"Andalucia\",\"x\":[2019,2018,2017,2016,2015,2014,2013,2012,2011,2010,2009,2008,2007,2006,2005,2004,2003,2002],\"y\":[18.01,17.45,14.09,14.22,13.92,14.23,14.32,15.94,17.2,16.75,16.93,17.58,18.05,16.82,17.07,16.73,15.8,15.88],\"type\":\"scatter\"},{\"marker\":{\"color\":\"#744700\"},\"mode\":\"lines\",\"name\":\"Arag\\u00f3n\",\"x\":[2019,2018,2017,2016,2015,2014,2013,2012,2011,2010,2009,2008,2007,2006,2005,2004,2003,2002],\"y\":[12.77,12.67,12.72,11.53,13.19,15.14,14.54,12.17,14.9,15.44,14.86,14.67,13.39,12.12,13.31,13.72,14.3,14.32],\"type\":\"scatter\"},{\"marker\":{\"color\":\"#ce7e00\"},\"mode\":\"lines\",\"name\":\"Asturias\",\"x\":[2019,2018,2017,2016,2015,2014,2013,2012,2011,2010,2009,2008,2007,2006,2005,2004,2003,2002],\"y\":[11.95,12.55,12.6,12.76,12.41,13.13,17.36,12.43,12.99,12.93,12.36,13.02,13.11,11.97,11.72,12.77,12.26,12.68],\"type\":\"scatter\"},{\"marker\":{\"color\":\"#8fce00\"},\"mode\":\"lines\",\"name\":\"Baleares, Islas\",\"x\":[2019,2018,2017,2016,2015,2014,2013,2012,2011,2010,2009,2008,2007,2006,2005,2004,2003,2002],\"y\":[11.79,12.05,11.97,11.92,11.87,12.95,13.01,13.04,13.11,17.17,13.61,13.62,12.28,12.71,11.86,13.6,13.33,12.61],\"type\":\"scatter\"},{\"marker\":{\"color\":\"#2986cc\"},\"mode\":\"lines\",\"name\":\"Canarias, Islas\",\"x\":[2019,2018,2017,2016,2015,2014,2013,2012,2011,2010,2009,2008,2007,2006,2005,2004,2003,2002],\"y\":[13.78,13.49,13.71,14.06,13.7,14.12,14.36,13.97,13.64,13.51,13.48,13.07,12.81,12.0,11.86,12.17,12.31,12.6],\"type\":\"scatter\"},{\"marker\":{\"color\":\"#16537e\"},\"mode\":\"lines\",\"name\":\"Cantabria\",\"x\":[2019,2018,2017,2016,2015,2014,2013,2012,2011,2010,2009,2008,2007,2006,2005,2004,2003,2002],\"y\":[14.2,14.14,14.16,17.38,14.03,14.12,13.93,10.4,14.64,12.89,14.91,14.9,13.05,12.44,11.88,11.29,10.6,10.58],\"type\":\"scatter\"},{\"marker\":{\"color\":\"#6a329f\"},\"mode\":\"lines\",\"name\":\"Castilla-La mancha\",\"x\":[2019,2018,2017,2016,2015,2014,2013,2012,2011,2010,2009,2008,2007,2006,2005,2004,2003,2002],\"y\":[13.61,16.96,16.69,16.37,17.52,15.34,17.12,16.28,16.2,15.67,15.62,15.59,15.15,14.38,13.59,14.72,13.61,16.1],\"type\":\"scatter\"},{\"marker\":{\"color\":\"#c90076\"},\"mode\":\"lines\",\"name\":\"Castilla y Le\\u00f3n\",\"x\":[2019,2018,2017,2016,2015,2014,2013,2012,2011,2010,2009,2008,2007,2006,2005,2004,2003,2002],\"y\":[15.82,15.25,15.52,15.62,15.42,17.26,16.87,15.84,17.52,16.77,17.86,15.52,16.93,14.53,15.65,15.75,15.61,16.5],\"type\":\"scatter\"},{\"marker\":{\"color\":\"#990000\"},\"mode\":\"lines\",\"name\":\"Catalu\\u00f1a\",\"x\":[2019,2018,2017,2016,2015,2014,2013,2012,2011,2010,2009,2008,2007,2006,2005,2004,2003,2002],\"y\":[13.34,12.98,13.23,13.26,13.48,13.61,13.56,13.63,13.57,14.42,15.02,15.31,15.44,15.12,16.3,15.98,15.7,15.3],\"type\":\"scatter\"},{\"marker\":{\"color\":\"#b45f06\"},\"mode\":\"lines\",\"name\":\"Ceuta\",\"x\":[2019,2018,2017,2016,2015,2014,2013,2012,2011,2010,2009,2008,2007,2006,2005,2004,2003,2002],\"y\":[null,null,null,null,null,null,null,null,null,null,null,null,null,null,null,null,null,null],\"type\":\"scatter\"},{\"marker\":{\"color\":\"#bf9000\"},\"mode\":\"lines\",\"name\":\"Com. Valenciana\",\"x\":[2019,2018,2017,2016,2015,2014,2013,2012,2011,2010,2009,2008,2007,2006,2005,2004,2003,2002],\"y\":[15.09,13.15,12.85,13.01,12.36,12.49,12.58,13.23,12.94,12.7,12.73,12.98,12.89,12.56,12.89,13.06,13.26,13.13],\"type\":\"scatter\"},{\"marker\":{\"color\":\"#38761d\"},\"mode\":\"lines\",\"name\":\"Extremadura\",\"x\":[2019,2018,2017,2016,2015,2014,2013,2012,2011,2010,2009,2008,2007,2006,2005,2004,2003,2002],\"y\":[16.16,15.75,15.72,16.09,16.03,16.34,16.57,16.12,16.54,16.28,15.95,16.26,16.14,16.37,17.89,18.25,18.64,16.13],\"type\":\"scatter\"},{\"marker\":{\"color\":\"#134f5c\"},\"mode\":\"lines\",\"name\":\"Galicia\",\"x\":[2019,2018,2017,2016,2015,2014,2013,2012,2011,2010,2009,2008,2007,2006,2005,2004,2003,2002],\"y\":[11.96,11.93,12.12,12.1,11.98,12.51,12.55,12.74,13.05,12.5,12.28,11.83,11.74,11.46,11.11,11.2,11.79,12.01],\"type\":\"scatter\"},{\"marker\":{\"color\":\"#0b5394\"},\"mode\":\"lines\",\"name\":\"La Rioja\",\"x\":[2019,2018,2017,2016,2015,2014,2013,2012,2011,2010,2009,2008,2007,2006,2005,2004,2003,2002],\"y\":[14.25,14.3,14.09,14.11,13.66,14.34,13.9,13.08,12.64,13.03,13.88,13.5,10.46,10.37,12.33,13.74,13.76,13.0],\"type\":\"scatter\"},{\"marker\":{\"color\":\"#351c75\"},\"mode\":\"lines\",\"name\":\"Madrid\",\"x\":[2019,2018,2017,2016,2015,2014,2013,2012,2011,2010,2009,2008,2007,2006,2005,2004,2003,2002],\"y\":[11.21,11.48,11.63,11.63,11.3,11.73,11.87,11.92,10.9,12.67,11.99,12.37,12.84,12.18,11.97,11.79,11.78,11.93],\"type\":\"scatter\"},{\"marker\":{\"color\":\"#741b47\"},\"mode\":\"lines\",\"name\":\"Melilla\",\"x\":[2019,2018,2017,2016,2015,2014,2013,2012,2011,2010,2009,2008,2007,2006,2005,2004,2003,2002],\"y\":[null,null,null,null,null,null,null,null,null,null,null,null,null,null,null,null,null,null],\"type\":\"scatter\"},{\"marker\":{\"color\":\"#e06666\"},\"mode\":\"lines\",\"name\":\"Murcia\",\"x\":[2019,2018,2017,2016,2015,2014,2013,2012,2011,2010,2009,2008,2007,2006,2005,2004,2003,2002],\"y\":[14.03,13.91,13.86,13.51,13.24,12.87,12.81,13.42,12.9,12.51,11.96,11.58,10.85,12.3,12.11,12.34,12.95,13.32],\"type\":\"scatter\"},{\"marker\":{\"color\":\"#f6b26b\"},\"mode\":\"lines\",\"name\":\"Navarra\",\"x\":[2019,2018,2017,2016,2015,2014,2013,2012,2011,2010,2009,2008,2007,2006,2005,2004,2003,2002],\"y\":[14.77,14.45,14.27,14.6,14.5,15.24,15.44,14.81,13.96,14.49,14.85,15.09,14.34,14.52,15.16,15.34,16.7,17.12],\"type\":\"scatter\"},{\"marker\":{\"color\":\"#93c47d\"},\"mode\":\"lines\",\"name\":\"Pais Vasco\",\"x\":[2019,2018,2017,2016,2015,2014,2013,2012,2011,2010,2009,2008,2007,2006,2005,2004,2003,2002],\"y\":[14.32,13.91,14.12,14.28,14.48,14.98,15.24,15.5,15.01,15.09,15.02,15.02,14.83,14.56,14.41,14.46,14.54,14.68],\"type\":\"scatter\"}],                        {\"template\":{\"data\":{\"barpolar\":[{\"marker\":{\"line\":{\"color\":\"#E5ECF6\",\"width\":0.5},\"pattern\":{\"fillmode\":\"overlay\",\"size\":10,\"solidity\":0.2}},\"type\":\"barpolar\"}],\"bar\":[{\"error_x\":{\"color\":\"#2a3f5f\"},\"error_y\":{\"color\":\"#2a3f5f\"},\"marker\":{\"line\":{\"color\":\"#E5ECF6\",\"width\":0.5},\"pattern\":{\"fillmode\":\"overlay\",\"size\":10,\"solidity\":0.2}},\"type\":\"bar\"}],\"carpet\":[{\"aaxis\":{\"endlinecolor\":\"#2a3f5f\",\"gridcolor\":\"white\",\"linecolor\":\"white\",\"minorgridcolor\":\"white\",\"startlinecolor\":\"#2a3f5f\"},\"baxis\":{\"endlinecolor\":\"#2a3f5f\",\"gridcolor\":\"white\",\"linecolor\":\"white\",\"minorgridcolor\":\"white\",\"startlinecolor\":\"#2a3f5f\"},\"type\":\"carpet\"}],\"choropleth\":[{\"colorbar\":{\"outlinewidth\":0,\"ticks\":\"\"},\"type\":\"choropleth\"}],\"contourcarpet\":[{\"colorbar\":{\"outlinewidth\":0,\"ticks\":\"\"},\"type\":\"contourcarpet\"}],\"contour\":[{\"colorbar\":{\"outlinewidth\":0,\"ticks\":\"\"},\"colorscale\":[[0.0,\"#0d0887\"],[0.1111111111111111,\"#46039f\"],[0.2222222222222222,\"#7201a8\"],[0.3333333333333333,\"#9c179e\"],[0.4444444444444444,\"#bd3786\"],[0.5555555555555556,\"#d8576b\"],[0.6666666666666666,\"#ed7953\"],[0.7777777777777778,\"#fb9f3a\"],[0.8888888888888888,\"#fdca26\"],[1.0,\"#f0f921\"]],\"type\":\"contour\"}],\"heatmapgl\":[{\"colorbar\":{\"outlinewidth\":0,\"ticks\":\"\"},\"colorscale\":[[0.0,\"#0d0887\"],[0.1111111111111111,\"#46039f\"],[0.2222222222222222,\"#7201a8\"],[0.3333333333333333,\"#9c179e\"],[0.4444444444444444,\"#bd3786\"],[0.5555555555555556,\"#d8576b\"],[0.6666666666666666,\"#ed7953\"],[0.7777777777777778,\"#fb9f3a\"],[0.8888888888888888,\"#fdca26\"],[1.0,\"#f0f921\"]],\"type\":\"heatmapgl\"}],\"heatmap\":[{\"colorbar\":{\"outlinewidth\":0,\"ticks\":\"\"},\"colorscale\":[[0.0,\"#0d0887\"],[0.1111111111111111,\"#46039f\"],[0.2222222222222222,\"#7201a8\"],[0.3333333333333333,\"#9c179e\"],[0.4444444444444444,\"#bd3786\"],[0.5555555555555556,\"#d8576b\"],[0.6666666666666666,\"#ed7953\"],[0.7777777777777778,\"#fb9f3a\"],[0.8888888888888888,\"#fdca26\"],[1.0,\"#f0f921\"]],\"type\":\"heatmap\"}],\"histogram2dcontour\":[{\"colorbar\":{\"outlinewidth\":0,\"ticks\":\"\"},\"colorscale\":[[0.0,\"#0d0887\"],[0.1111111111111111,\"#46039f\"],[0.2222222222222222,\"#7201a8\"],[0.3333333333333333,\"#9c179e\"],[0.4444444444444444,\"#bd3786\"],[0.5555555555555556,\"#d8576b\"],[0.6666666666666666,\"#ed7953\"],[0.7777777777777778,\"#fb9f3a\"],[0.8888888888888888,\"#fdca26\"],[1.0,\"#f0f921\"]],\"type\":\"histogram2dcontour\"}],\"histogram2d\":[{\"colorbar\":{\"outlinewidth\":0,\"ticks\":\"\"},\"colorscale\":[[0.0,\"#0d0887\"],[0.1111111111111111,\"#46039f\"],[0.2222222222222222,\"#7201a8\"],[0.3333333333333333,\"#9c179e\"],[0.4444444444444444,\"#bd3786\"],[0.5555555555555556,\"#d8576b\"],[0.6666666666666666,\"#ed7953\"],[0.7777777777777778,\"#fb9f3a\"],[0.8888888888888888,\"#fdca26\"],[1.0,\"#f0f921\"]],\"type\":\"histogram2d\"}],\"histogram\":[{\"marker\":{\"pattern\":{\"fillmode\":\"overlay\",\"size\":10,\"solidity\":0.2}},\"type\":\"histogram\"}],\"mesh3d\":[{\"colorbar\":{\"outlinewidth\":0,\"ticks\":\"\"},\"type\":\"mesh3d\"}],\"parcoords\":[{\"line\":{\"colorbar\":{\"outlinewidth\":0,\"ticks\":\"\"}},\"type\":\"parcoords\"}],\"pie\":[{\"automargin\":true,\"type\":\"pie\"}],\"scatter3d\":[{\"line\":{\"colorbar\":{\"outlinewidth\":0,\"ticks\":\"\"}},\"marker\":{\"colorbar\":{\"outlinewidth\":0,\"ticks\":\"\"}},\"type\":\"scatter3d\"}],\"scattercarpet\":[{\"marker\":{\"colorbar\":{\"outlinewidth\":0,\"ticks\":\"\"}},\"type\":\"scattercarpet\"}],\"scattergeo\":[{\"marker\":{\"colorbar\":{\"outlinewidth\":0,\"ticks\":\"\"}},\"type\":\"scattergeo\"}],\"scattergl\":[{\"marker\":{\"colorbar\":{\"outlinewidth\":0,\"ticks\":\"\"}},\"type\":\"scattergl\"}],\"scattermapbox\":[{\"marker\":{\"colorbar\":{\"outlinewidth\":0,\"ticks\":\"\"}},\"type\":\"scattermapbox\"}],\"scatterpolargl\":[{\"marker\":{\"colorbar\":{\"outlinewidth\":0,\"ticks\":\"\"}},\"type\":\"scatterpolargl\"}],\"scatterpolar\":[{\"marker\":{\"colorbar\":{\"outlinewidth\":0,\"ticks\":\"\"}},\"type\":\"scatterpolar\"}],\"scatter\":[{\"marker\":{\"colorbar\":{\"outlinewidth\":0,\"ticks\":\"\"}},\"type\":\"scatter\"}],\"scatterternary\":[{\"marker\":{\"colorbar\":{\"outlinewidth\":0,\"ticks\":\"\"}},\"type\":\"scatterternary\"}],\"surface\":[{\"colorbar\":{\"outlinewidth\":0,\"ticks\":\"\"},\"colorscale\":[[0.0,\"#0d0887\"],[0.1111111111111111,\"#46039f\"],[0.2222222222222222,\"#7201a8\"],[0.3333333333333333,\"#9c179e\"],[0.4444444444444444,\"#bd3786\"],[0.5555555555555556,\"#d8576b\"],[0.6666666666666666,\"#ed7953\"],[0.7777777777777778,\"#fb9f3a\"],[0.8888888888888888,\"#fdca26\"],[1.0,\"#f0f921\"]],\"type\":\"surface\"}],\"table\":[{\"cells\":{\"fill\":{\"color\":\"#EBF0F8\"},\"line\":{\"color\":\"white\"}},\"header\":{\"fill\":{\"color\":\"#C8D4E3\"},\"line\":{\"color\":\"white\"}},\"type\":\"table\"}]},\"layout\":{\"annotationdefaults\":{\"arrowcolor\":\"#2a3f5f\",\"arrowhead\":0,\"arrowwidth\":1},\"autotypenumbers\":\"strict\",\"coloraxis\":{\"colorbar\":{\"outlinewidth\":0,\"ticks\":\"\"}},\"colorscale\":{\"diverging\":[[0,\"#8e0152\"],[0.1,\"#c51b7d\"],[0.2,\"#de77ae\"],[0.3,\"#f1b6da\"],[0.4,\"#fde0ef\"],[0.5,\"#f7f7f7\"],[0.6,\"#e6f5d0\"],[0.7,\"#b8e186\"],[0.8,\"#7fbc41\"],[0.9,\"#4d9221\"],[1,\"#276419\"]],\"sequential\":[[0.0,\"#0d0887\"],[0.1111111111111111,\"#46039f\"],[0.2222222222222222,\"#7201a8\"],[0.3333333333333333,\"#9c179e\"],[0.4444444444444444,\"#bd3786\"],[0.5555555555555556,\"#d8576b\"],[0.6666666666666666,\"#ed7953\"],[0.7777777777777778,\"#fb9f3a\"],[0.8888888888888888,\"#fdca26\"],[1.0,\"#f0f921\"]],\"sequentialminus\":[[0.0,\"#0d0887\"],[0.1111111111111111,\"#46039f\"],[0.2222222222222222,\"#7201a8\"],[0.3333333333333333,\"#9c179e\"],[0.4444444444444444,\"#bd3786\"],[0.5555555555555556,\"#d8576b\"],[0.6666666666666666,\"#ed7953\"],[0.7777777777777778,\"#fb9f3a\"],[0.8888888888888888,\"#fdca26\"],[1.0,\"#f0f921\"]]},\"colorway\":[\"#636efa\",\"#EF553B\",\"#00cc96\",\"#ab63fa\",\"#FFA15A\",\"#19d3f3\",\"#FF6692\",\"#B6E880\",\"#FF97FF\",\"#FECB52\"],\"font\":{\"color\":\"#2a3f5f\"},\"geo\":{\"bgcolor\":\"white\",\"lakecolor\":\"white\",\"landcolor\":\"#E5ECF6\",\"showlakes\":true,\"showland\":true,\"subunitcolor\":\"white\"},\"hoverlabel\":{\"align\":\"left\"},\"hovermode\":\"closest\",\"mapbox\":{\"style\":\"light\"},\"paper_bgcolor\":\"white\",\"plot_bgcolor\":\"#E5ECF6\",\"polar\":{\"angularaxis\":{\"gridcolor\":\"white\",\"linecolor\":\"white\",\"ticks\":\"\"},\"bgcolor\":\"#E5ECF6\",\"radialaxis\":{\"gridcolor\":\"white\",\"linecolor\":\"white\",\"ticks\":\"\"}},\"scene\":{\"xaxis\":{\"backgroundcolor\":\"#E5ECF6\",\"gridcolor\":\"white\",\"gridwidth\":2,\"linecolor\":\"white\",\"showbackground\":true,\"ticks\":\"\",\"zerolinecolor\":\"white\"},\"yaxis\":{\"backgroundcolor\":\"#E5ECF6\",\"gridcolor\":\"white\",\"gridwidth\":2,\"linecolor\":\"white\",\"showbackground\":true,\"ticks\":\"\",\"zerolinecolor\":\"white\"},\"zaxis\":{\"backgroundcolor\":\"#E5ECF6\",\"gridcolor\":\"white\",\"gridwidth\":2,\"linecolor\":\"white\",\"showbackground\":true,\"ticks\":\"\",\"zerolinecolor\":\"white\"}},\"shapedefaults\":{\"line\":{\"color\":\"#2a3f5f\"}},\"ternary\":{\"aaxis\":{\"gridcolor\":\"white\",\"linecolor\":\"white\",\"ticks\":\"\"},\"baxis\":{\"gridcolor\":\"white\",\"linecolor\":\"white\",\"ticks\":\"\"},\"bgcolor\":\"#E5ECF6\",\"caxis\":{\"gridcolor\":\"white\",\"linecolor\":\"white\",\"ticks\":\"\"}},\"title\":{\"x\":0.05},\"xaxis\":{\"automargin\":true,\"gridcolor\":\"white\",\"linecolor\":\"white\",\"ticks\":\"\",\"title\":{\"standoff\":15},\"zerolinecolor\":\"white\",\"zerolinewidth\":2},\"yaxis\":{\"automargin\":true,\"gridcolor\":\"white\",\"linecolor\":\"white\",\"ticks\":\"\",\"title\":{\"standoff\":15},\"zerolinecolor\":\"white\",\"zerolinewidth\":2}}},\"title\":{\"text\":\"Porcentaje de gasto en atenci\\u00f3n primaria por CCAA\"},\"xaxis\":{\"title\":{\"text\":\"A\\u00f1o\"}},\"yaxis\":{\"title\":{\"text\":\"%\"}}},                        {\"responsive\": true}                    ).then(function(){\n",
       "                            \n",
       "var gd = document.getElementById('81f16adb-5e22-4ac1-ad3a-873cd31fe522');\n",
       "var x = new MutationObserver(function (mutations, observer) {{\n",
       "        var display = window.getComputedStyle(gd).display;\n",
       "        if (!display || display === 'none') {{\n",
       "            console.log([gd, 'removed!']);\n",
       "            Plotly.purge(gd);\n",
       "            observer.disconnect();\n",
       "        }}\n",
       "}});\n",
       "\n",
       "// Listen for the removal of the full notebook cells\n",
       "var notebookContainer = gd.closest('#notebook-container');\n",
       "if (notebookContainer) {{\n",
       "    x.observe(notebookContainer, {childList: true});\n",
       "}}\n",
       "\n",
       "// Listen for the clearing of the current output cell\n",
       "var outputEl = gd.closest('.output');\n",
       "if (outputEl) {{\n",
       "    x.observe(outputEl, {childList: true});\n",
       "}}\n",
       "\n",
       "                        })                };                });            </script>        </div>"
      ]
     },
     "metadata": {},
     "output_type": "display_data"
    }
   ],
   "source": [
    "andalucia = go.Scatter(x= df3[lista_columnas[0]] , y= df3[lista_columnas[1]] , name = 'Andalucia' , mode= 'lines' , marker= dict(color= '#f44336'))\n",
    "aragon = go.Scatter(x= df3[lista_columnas[0]] , y= df3[lista_columnas[2]] , name = 'Aragón' , mode= 'lines' , marker= dict(color= '#744700'))\n",
    "asturias = go.Scatter(x= df3[lista_columnas[0]] , y= df3[lista_columnas[3]] , name = 'Asturias' , mode= 'lines' , marker= dict(color= '#ce7e00'))\n",
    "baleares = go.Scatter(x= df3[lista_columnas[0]] , y= df3[lista_columnas[4]] , name = 'Baleares, Islas' , mode= 'lines' , marker= dict(color= '#8fce00'))\n",
    "canarias = go.Scatter(x= df3[lista_columnas[0]] , y= df3[lista_columnas[5]] , name = 'Canarias, Islas' , mode= 'lines' , marker= dict(color= '#2986cc'))\n",
    "cantabria = go.Scatter(x= df3[lista_columnas[0]] , y= df3[lista_columnas[6]] , name = 'Cantabria' , mode= 'lines' , marker= dict(color= '#16537e'))\n",
    "clm = go.Scatter(x= df3[lista_columnas[0]] , y= df3[lista_columnas[7]] , name = 'Castilla-La mancha' , mode= 'lines' , marker= dict(color= '#6a329f'))\n",
    "cyl = go.Scatter(x= df3[lista_columnas[0]] , y= df3[lista_columnas[8]] , name = 'Castilla y León' , mode= 'lines' , marker= dict(color= '#c90076'))\n",
    "cataluña = go.Scatter(x= df3[lista_columnas[0]] , y= df3[lista_columnas[9]] , name = 'Cataluña' , mode= 'lines' , marker= dict(color= '#990000'))\n",
    "ceuta = go.Scatter(x= df3[lista_columnas[0]] , y= df3[lista_columnas[10]] , name = 'Ceuta' , mode= 'lines' , marker= dict(color= '#b45f06'))\n",
    "valencia = go.Scatter(x= df3[lista_columnas[0]] , y= df3[lista_columnas[11]] , name = 'Com. Valenciana' , mode= 'lines' , marker= dict(color= '#bf9000'))\n",
    "españa = go.Scatter(x= df3[lista_columnas[0]] , y= df3[lista_columnas[12]] , name = 'España (total)' , mode= 'lines' , marker= dict(color= '#000000'))\n",
    "extrem = go.Scatter(x= df3[lista_columnas[0]] , y= df3[lista_columnas[13]] , name = 'Extremadura' , mode= 'lines' , marker= dict(color= '#38761d'))\n",
    "galicia = go.Scatter(x= df3[lista_columnas[0]] , y= df3[lista_columnas[14]] , name = 'Galicia' , mode= 'lines' , marker= dict(color= '#134f5c'))\n",
    "rioja = go.Scatter(x= df3[lista_columnas[0]] , y= df3[lista_columnas[15]] , name = 'La Rioja' , mode= 'lines' , marker= dict(color= '#0b5394'))\n",
    "madrid = go.Scatter(x= df3[lista_columnas[0]] , y= df3[lista_columnas[16]] , name = 'Madrid' , mode= 'lines' , marker= dict(color= '#351c75'))\n",
    "melilla = go.Scatter(x= df3[lista_columnas[0]] , y= df3[lista_columnas[17]] , name = 'Melilla' , mode= 'lines' , marker= dict(color= '#741b47'))\n",
    "murcia = go.Scatter(x= df3[lista_columnas[0]] , y= df3[lista_columnas[18]] , name = 'Murcia' , mode= 'lines' , marker= dict(color= '#e06666'))\n",
    "navarra = go.Scatter(x= df3[lista_columnas[0]] , y= df3[lista_columnas[19]] , name = 'Navarra' , mode= 'lines' , marker= dict(color= '#f6b26b'))\n",
    "pv = go.Scatter(x= df3[lista_columnas[0]] , y= df3[lista_columnas[20]] , name = 'Pais Vasco' , mode= 'lines' , marker= dict(color= '#93c47d'))\n",
    "\n",
    "data = [españa , andalucia , aragon , asturias , baleares , canarias , cantabria , clm , cyl , cataluña , ceuta , valencia , extrem , galicia , rioja , madrid , melilla , murcia , navarra , pv]\n",
    "layout = dict(title= 'Porcentaje de gasto en atención primaria por CCAA' , xaxis= dict(title= 'Año') , yaxis= dict(title= '%'))\n",
    "\n",
    "porcentaje_atencion_primaria = go.Figure(data= data , layout= layout)\n",
    "iplot(porcentaje_atencion_primaria)\n"
   ]
  },
  {
   "cell_type": "code",
   "execution_count": null,
   "id": "f635779c",
   "metadata": {},
   "outputs": [],
   "source": []
  }
 ],
 "metadata": {
  "kernelspec": {
   "display_name": "Python 3",
   "language": "python",
   "name": "python3"
  },
  "language_info": {
   "codemirror_mode": {
    "name": "ipython",
    "version": 3
   },
   "file_extension": ".py",
   "mimetype": "text/x-python",
   "name": "python",
   "nbconvert_exporter": "python",
   "pygments_lexer": "ipython3",
   "version": "3.8.8"
  }
 },
 "nbformat": 4,
 "nbformat_minor": 5
}
